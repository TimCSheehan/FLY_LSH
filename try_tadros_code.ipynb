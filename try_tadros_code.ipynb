{
 "cells": [
  {
   "cell_type": "code",
   "execution_count": 1,
   "metadata": {},
   "outputs": [],
   "source": [
    "from nearest_neighbor_search import *\n",
    "from read_data import *\n",
    "# reload(read_data)\n",
    "# import sys\n",
    "# print(sys.version)\n",
    "# import importlib\n",
    "# importlib.reload(from read_data import *)"
   ]
  },
  {
   "cell_type": "code",
   "execution_count": 11,
   "metadata": {},
   "outputs": [],
   "source": [
    "# Constants\n",
    "#hash_lengths = [2, 4, 8, 12, 16, 20, 24, 28, 32]\n",
    "hash_lengths = [2,8, 20]\n",
    "\n",
    "# Data paths\n",
    "sift_small_path = '/home/navlakha/projects/fly_hashing/data/sift_small/sift10k.txt'\n",
    "gist_small_path = '/home/navlakha/projects/fly_hashing/data/gist_small/gist10k.txt'\n",
    "glove_path = '/home/navlakha/projects/fly_hashing/data/glove/glove10k.txt'\n",
    "mnist_path = '/home/navlakha/projects/fly_hashing/data/mnist/mnist10k.txt'"
   ]
  },
  {
   "cell_type": "code",
   "execution_count": 8,
   "metadata": {},
   "outputs": [],
   "source": [
    "# Load in data\n",
    "# first number is number of examples, 2nd number is number of features\n",
    "sift = read_generic_data(sift_small_path, 10000, 128)\n",
    "gist = read_generic_data(gist_small_path, 10000, 960)\n",
    "mnist = read_generic_data(mnist_path, 10000, 784)\n",
    "glove = read_generic_data(glove_path, 10000, 300)"
   ]
  },
  {
   "cell_type": "code",
   "execution_count": 9,
   "metadata": {},
   "outputs": [],
   "source": [
    "# expirmenents\n",
    "# experiments\n",
    "sift_LSH_accuracy = np.zeros(len(hash_lengths)) # dense, gaussian normal LSH\n",
    "sift_fly1_accuracy = np.zeros(len(hash_lengths)) # sparse, binary\n",
    "sift_fly2_accuracy = np.zeros(len(hash_lengths)) # sparse, binary with expansion and winner-take-all selection\n",
    "sift_fly3_accuracy = np.zeros(len(hash_lengths)) # sparse, binary with expansion and random selection\n",
    "sift_fly4_accuracy = np.zeros(len(hash_lengths)) # Expansion based on input WTA\n",
    "sift_fly5_accuracy = np.zeros(len(hash_lengths)) # Expansion based on input random selection\n",
    "\n",
    "\n",
    "gist_LSH_accuracy = np.zeros(len(hash_lengths)) # dense, gaussian normal LSH\n",
    "gist_fly1_accuracy = np.zeros(len(hash_lengths)) # sparse, binary\n",
    "gist_fly2_accuracy = np.zeros(len(hash_lengths)) # sparse, binary with expansion and winner-take-all selection\n",
    "gist_fly3_accuracy = np.zeros(len(hash_lengths)) # sparse, binary with expansion and random selection\n",
    "gist_fly4_accuracy = np.zeros(len(hash_lengths)) # Expansion based on input WTA\n",
    "gist_fly5_accuracy = np.zeros(len(hash_lengths)) # Expansion based on input random selection\n",
    "\n",
    "\n",
    "mnist_LSH_accuracy = np.zeros(len(hash_lengths)) # dense, gaussian normal LSH\n",
    "mnist_fly1_accuracy = np.zeros(len(hash_lengths)) # sparse, binary\n",
    "mnist_fly2_accuracy = np.zeros(len(hash_lengths)) # sparse, binary with expansion and winner-take-all selection\n",
    "mnist_fly3_accuracy = np.zeros(len(hash_lengths)) # sparse, binary with expansion and random selection\n",
    "mnist_fly4_accuracy = np.zeros(len(hash_lengths)) # Expansion based on input WTA\n",
    "mnist_fly5_accuracy = np.zeros(len(hash_lengths)) # Expansion based on input random selection\n",
    "\n",
    "\n",
    "glove_LSH_accuracy = np.zeros(len(hash_lengths)) # dense, gaussian normal LSH\n",
    "glove_fly1_accuracy = np.zeros(len(hash_lengths)) # sparse, binary\n",
    "glove_fly2_accuracy = np.zeros(len(hash_lengths)) # sparse, binary with expansion and winner-take-all selection\n",
    "glove_fly3_accuracy = np.zeros(len(hash_lengths)) # sparse, binary with expansion and random selection\n",
    "glove_fly4_accuracy = np.zeros(len(hash_lengths)) # Expansion based on input WTA\n",
    "glove_fly5_accuracy = np.zeros(len(hash_lengths)) # Expansion based on input random selection\n"
   ]
  },
  {
   "cell_type": "code",
   "execution_count": 13,
   "metadata": {},
   "outputs": [
    {
     "ename": "TypeError",
     "evalue": "nearest_neighbor_search() missing 3 required positional arguments: 'num_kenyon', 'num_repeats', and 'numNNs'",
     "output_type": "error",
     "traceback": [
      "\u001b[0;31m---------------------------------------------------------------------------\u001b[0m",
      "\u001b[0;31mTypeError\u001b[0m                                 Traceback (most recent call last)",
      "\u001b[0;32m<ipython-input-13-81841f948576>\u001b[0m in \u001b[0;36m<module>\u001b[0;34m()\u001b[0m\n\u001b[1;32m     10\u001b[0m \u001b[0;31m#       [gist_fly4_accuracy[i], gist_fly5_accuracy[i]] = nearest_neighbor_comparisons(gist, 1000, hash_lengths[i], 3)\u001b[0m\u001b[0;34m\u001b[0m\u001b[0;34m\u001b[0m\u001b[0m\n\u001b[1;32m     11\u001b[0m \u001b[0;34m\u001b[0m\u001b[0m\n\u001b[0;32m---> 12\u001b[0;31m         \u001b[0;34m[\u001b[0m\u001b[0mmnist_fly1_accuracy\u001b[0m\u001b[0;34m[\u001b[0m\u001b[0mi\u001b[0m\u001b[0;34m]\u001b[0m\u001b[0;34m,\u001b[0m \u001b[0msift_LSH_accuracy\u001b[0m\u001b[0;34m[\u001b[0m\u001b[0mi\u001b[0m\u001b[0;34m]\u001b[0m\u001b[0;34m]\u001b[0m \u001b[0;34m=\u001b[0m \u001b[0mnearest_neighbor_search\u001b[0m\u001b[0;34m(\u001b[0m\u001b[0mmnist\u001b[0m\u001b[0;34m,\u001b[0m \u001b[0;36m1000\u001b[0m\u001b[0;34m,\u001b[0m \u001b[0mhash_lengths\u001b[0m\u001b[0;34m[\u001b[0m\u001b[0mi\u001b[0m\u001b[0;34m]\u001b[0m\u001b[0;34m,\u001b[0m \u001b[0;36m1\u001b[0m\u001b[0;34m)\u001b[0m\u001b[0;34m\u001b[0m\u001b[0m\n\u001b[0m\u001b[1;32m     13\u001b[0m         \u001b[0;34m[\u001b[0m\u001b[0mmnist_fly2_accuracy\u001b[0m\u001b[0;34m[\u001b[0m\u001b[0mi\u001b[0m\u001b[0;34m]\u001b[0m\u001b[0;34m,\u001b[0m \u001b[0msift_fly3_accuracy\u001b[0m\u001b[0;34m[\u001b[0m\u001b[0mi\u001b[0m\u001b[0;34m]\u001b[0m\u001b[0;34m]\u001b[0m \u001b[0;34m=\u001b[0m \u001b[0mnearest_neighbor_search\u001b[0m\u001b[0;34m(\u001b[0m\u001b[0mmnist\u001b[0m\u001b[0;34m,\u001b[0m \u001b[0;36m1000\u001b[0m\u001b[0;34m,\u001b[0m \u001b[0mhash_lengths\u001b[0m\u001b[0;34m[\u001b[0m\u001b[0mi\u001b[0m\u001b[0;34m]\u001b[0m\u001b[0;34m,\u001b[0m \u001b[0;36m2\u001b[0m\u001b[0;34m)\u001b[0m\u001b[0;34m\u001b[0m\u001b[0m\n\u001b[1;32m     14\u001b[0m         \u001b[0;34m[\u001b[0m\u001b[0mmnist_fly4_accuracy\u001b[0m\u001b[0;34m[\u001b[0m\u001b[0mi\u001b[0m\u001b[0;34m]\u001b[0m\u001b[0;34m,\u001b[0m \u001b[0msift_fly5_accuracy\u001b[0m\u001b[0;34m[\u001b[0m\u001b[0mi\u001b[0m\u001b[0;34m]\u001b[0m\u001b[0;34m]\u001b[0m \u001b[0;34m=\u001b[0m \u001b[0mnearest_neighbor_search\u001b[0m\u001b[0;34m(\u001b[0m\u001b[0mmnist\u001b[0m\u001b[0;34m,\u001b[0m \u001b[0;36m1000\u001b[0m\u001b[0;34m,\u001b[0m \u001b[0mhash_lengths\u001b[0m\u001b[0;34m[\u001b[0m\u001b[0mi\u001b[0m\u001b[0;34m]\u001b[0m\u001b[0;34m,\u001b[0m \u001b[0;36m3\u001b[0m\u001b[0;34m)\u001b[0m\u001b[0;34m\u001b[0m\u001b[0m\n",
      "\u001b[0;31mTypeError\u001b[0m: nearest_neighbor_search() missing 3 required positional arguments: 'num_kenyon', 'num_repeats', and 'numNNs'"
     ]
    }
   ],
   "source": [
    "\n",
    "# find accuracies for the above models at varying hash lengths, using 1000 nearest neighborts\n",
    "for i in range(0,len(hash_lengths)):\n",
    "# \t[sift_fly1_accuracy[i], sift_LSH_accuracy[i]] = nearest_neighbor_comparisons(sift, 1000, hash_lengths[i], 1)\n",
    "# \t[sift_fly2_accuracy[i], sift_fly3_accuracy[i]] = nearest_neighbor_comparisons(sift, 1000, hash_lengths[i], 2)\n",
    "# \t[sift_fly4_accuracy[i], sift_fly5_accuracy[i]] = nearest_neighbor_comparisons(sift, 1000, hash_lengths[i], 3)\n",
    "\n",
    "# \t[gist_fly1_accuracy[i], gist_LSH_accuracy[i]] = nearest_neighbor_comparisons(gist, 1000, hash_lengths[i], 1)\n",
    "# \t[gist_fly2_accuracy[i], gist_fly3_accuracy[i]] = nearest_neighbor_comparisons(gist, 1000, hash_lengths[i], 2)\n",
    "# \t[gist_fly4_accuracy[i], gist_fly5_accuracy[i]] = nearest_neighbor_comparisons(gist, 1000, hash_lengths[i], 3)\n",
    "\n",
    "# \t[mnist_fly1_accuracy[i], sift_LSH_accuracy[i]] = nearest_neighbor_search(mnist, 1000, hash_lengths[i], 1)\n",
    "# \t[mnist_fly2_accuracy[i], sift_fly3_accuracy[i]] = nearest_neighbor_search(mnist, 1000, hash_lengths[i], 2)\n",
    "# \t[mnist_fly4_accuracy[i], sift_fly5_accuracy[i]] = nearest_neighbor_search(mnist, 1000, hash_lengths[i], 3)\n",
    "\n",
    "\t[mnist_fly1_accuracy[i], sift_LSH_accuracy[i]] = nearest_neighbor_search(mnist, 1000, hash_lengths[i], 1)\n",
    "\t[mnist_fly2_accuracy[i], sift_fly3_accuracy[i]] = nearest_neighbor_search(mnist, 1000, hash_lengths[i], 2)\n",
    "\t[mnist_fly4_accuracy[i], sift_fly5_accuracy[i]] = nearest_neighbor_search(mnist, 1000, hash_lengths[i], 3)\n",
    "\n",
    "# \t[glove_fly1_accuracy[i], glove_LSH_accuracy[i]] = nearest_neighbor_comparisons(glove, 1000, hash_lengths[i], 1)\n",
    "# \t[glove_fly2_accuracy[i], glove_fly3_accuracy[i]] = nearest_neighbor_comparisons(glove, 1000, hash_lengths[i], 2)\n",
    "# \t[glove_fly4_accuracy[i], glove_fly5_accuracy[i]] = nearest_neighbor_comparisons(glove, 1000, hash_lengths[i], 3)\n"
   ]
  },
  {
   "cell_type": "code",
   "execution_count": null,
   "metadata": {
    "collapsed": true
   },
   "outputs": [],
   "source": [
    "[acc, std ] = nearest_neighbor_search(mnist,)"
   ]
  }
 ],
 "metadata": {
  "kernelspec": {
   "display_name": "Python 3",
   "language": "python",
   "name": "python3"
  },
  "language_info": {
   "codemirror_mode": {
    "name": "ipython",
    "version": 3
   },
   "file_extension": ".py",
   "mimetype": "text/x-python",
   "name": "python",
   "nbconvert_exporter": "python",
   "pygments_lexer": "ipython3",
   "version": "3.4.2"
  }
 },
 "nbformat": 4,
 "nbformat_minor": 2
}
