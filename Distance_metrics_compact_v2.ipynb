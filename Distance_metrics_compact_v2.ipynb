{
 "cells": [
  {
   "cell_type": "markdown",
   "metadata": {},
   "source": [
    "# TO DO\n",
    "+ Add non-local hash function √\n",
    "\n",
    "\n",
    "+ add cross validation\n",
    "+ add MNIST\n",
    "+ add IP addresses "
   ]
  },
  {
   "cell_type": "code",
   "execution_count": 1,
   "metadata": {},
   "outputs": [],
   "source": [
    "import numpy as np\n",
    "import matplotlib.pyplot as plt\n",
    "from scipy.stats import spearmanr, pearsonr, kendalltau\n",
    "import pandas as pd\n",
    "import os\n",
    "T = np.transpose\n",
    "from hashfunctions import *\n",
    "os.chdir('/Users/tim/py_code/')\n",
    "from bloom_filters import * \n",
    "import sys\n",
    "sys.path.append('/Users/tim/py_code/FLY_LSH')\n",
    "from read_data import *\n",
    "\n",
    "# import hashlib # might need\n",
    "\n",
    "max_val_hash = sys.maxsize\n",
    "import xxhash\n",
    "import compute_distance_metrics\n",
    "\n",
    "# get MNIST\n",
    "mnist_path = '/Users/tim/py_code/FLY_LSH/mnist10k.txt'\n",
    "mnist = read_generic_data(mnist_path,10000,28*28) # 10 000, 784\n",
    "\n",
    "\n"
   ]
  },
  {
   "cell_type": "code",
   "execution_count": 127,
   "metadata": {},
   "outputs": [
    {
     "name": "stderr",
     "output_type": "stream",
     "text": [
      "/Users/tim/anaconda3/lib/python3.6/site-packages/ipykernel_launcher.py:38: RuntimeWarning: invalid value encountered in true_divide\n"
     ]
    }
   ],
   "source": [
    "dat_use = 'MNIST' # Hallem, rand100\n",
    "# dat_use = 'rand100' # 10, 24, 100\n",
    "n_ex = 1000\n",
    "l_ex = 500\n",
    "\n",
    "proj = 'SB4'  # {'DG','SB4','SB5'}\n",
    "dist_met = 'cos' # {'euc','cos'}\n",
    "cor_fun = kendalltau\n",
    "cor_str = '$\\tau$'\n",
    "\n",
    "eps = .01 # [.01, 6E-6]\n",
    "\n",
    "# KC projection parameters\n",
    "# m= 2753 \n",
    "# k= 17\n",
    "# m= 1055\n",
    "# k=6\n",
    "# m = 959\n",
    "# k = 6\n",
    "# m = 350\n",
    "# k = 17\n",
    "# m = 135\n",
    "# k = 7\n",
    "\n",
    "os.chdir('/Users/tim/py_code/FLY_LSH/fly_dat/')\n",
    "dat = pd.read_csv(\"hallem1.txt\",delimiter=' ')\n",
    "if dat_use == 'Hallem':\n",
    "    dat = dat.values\n",
    "elif dat_use[:4] == 'rand':\n",
    "    dIn = int(dat_use[4:])\n",
    "    dat = np.random.randn(l_ex,dIn) # random data\n",
    "elif dat_use == 'MNIST':\n",
    "#     assert(0,'Need To add Functionallity')\n",
    "    dIn = 28*28\n",
    "    dat = mnist[:l_ex,:]\n",
    "    \n",
    "n_odors = np.shape(dat)[0]\n",
    "dat_100 = dat/np.mean(dat,axis=0)*100\n",
    "dat_100 = np.nan_to_num(dat_100)\n",
    "U = dat_100\n",
    "assert(np.shape(U)[0]==l_ex)"
   ]
  },
  {
   "cell_type": "code",
   "execution_count": 128,
   "metadata": {
    "collapsed": true
   },
   "outputs": [],
   "source": [
    "# ORN space functions\n",
    "def novelty_dist(S,q):\n",
    "    if dist_met == 'cos':\n",
    "        cs = -(np.max([cos_sim(s,q) for s in S])-1)\n",
    "    elif dist_met == 'cor':\n",
    "        cs = -(np.max([cor_sim(s,q) for s in S])-1)\n",
    "    elif dist_met == 'euc':\n",
    "        cs = np.min([euc_sim(s,q) for s in S])\n",
    "    return cs\n",
    "\n",
    "def cos_sim(a,b):\n",
    "    return np.dot(a,b)/(np.sqrt(np.sum(a**2)) * np.sqrt(np.sum(b**2)))\n",
    "def cor_sim(a,b):\n",
    "    a = a-np.mean(a)\n",
    "    b = b-np.mean(b)\n",
    "    return np.dot(a,b)/(np.sqrt(np.sum(a**2)) * np.sqrt(np.sum(b**2)))  \n",
    "def euc_sim(a,b):\n",
    "    return np.sqrt(np.sum((a-b)**2))\n",
    "def tag_cnt(S,q):\n",
    "    return np.max([np.sum(s[q==1]) for s in S])\n",
    "\n",
    "# hash function\n",
    "def get_hash(v,m,k):\n",
    "    # using v, get k hashes in range [0,m]\n",
    "    val = np.sum(v)\n",
    "    this_hash = (np.array([xxhash.xxh32(str(val+i)).intdigest() for i in range(k)])-mn_hash)/(mx_hash-mn_hash)\n",
    "    return this_hash*m\n",
    "\n",
    "def hash_array(A,m,k):\n",
    "    shp = np.shape(A)\n",
    "    if len(shp)==2:\n",
    "        B = list()\n",
    "        for i in range(shp[0]):\n",
    "            B.append(get_hash(A[i],m,k))\n",
    "    elif len(shp)==3: # recursive approach\n",
    "        B = list()\n",
    "        for i in range(shp[0]):\n",
    "            B.append(hash_array(A[i],m,k))\n",
    "    return  np.array(B).astype(int)\n",
    "\n",
    "# utility functions \n",
    "def min_m(n,eps):\n",
    "    return int(np.ceil(n*np.log2(np.e)*np.log2(1/eps)))\n",
    "def opt_k(m,n):\n",
    "    return int(np.floor(np.log(2)*m/n))\n",
    "def e_eps(m,k,n):\n",
    "    # From Broder&Mitenmacher2004\n",
    "    p = (1.0-1.0/m)**(k*n)\n",
    "    return (1-p)**k"
   ]
  },
  {
   "cell_type": "code",
   "execution_count": 129,
   "metadata": {},
   "outputs": [],
   "source": [
    "# random selection... old guard\n",
    "# np.shape(U) # 111 odors x 24 ORNs\n",
    "# tag_ind = np.random.choice(n_odors,(n_ex,l_ex),replace=True) # has possibility of overlap\n",
    "# query_ind = np.random.choice(n_odors,n_ex,replace=True)\n",
    "# ind_probe = np.array([np.random.choice(n_odors,l_ex+1,replace=False) for i in range(n_ex)]) # 1000, 21\n",
    "# tag_ind = ind_probe[:,:l_ex]\n",
    "# query_ind = ind_probe[:,-1]\n",
    "\n",
    "# S = U[tag_ind] # n_ex, l_ex, n_ORN\n",
    "# q = U[query_ind] # n_ex, n_ORN\n",
    "# N = [novelty_dist(S[i],q[i]) for i in range(n_ex)]\n",
    "\n",
    "\n",
    "# min_m(110,.01)\n",
    "# opt_k(min_m(100,.01),100) # 6E6\n"
   ]
  },
  {
   "cell_type": "code",
   "execution_count": null,
   "metadata": {},
   "outputs": [],
   "source": [
    "# Crossvalidation\n",
    "# n_fold = 10\n",
    "# reps_per_fold = 10 # n-S shuffles per fold # commented out old guard\n",
    "\n",
    "# f_ind = np.round(np.linspace(0,n_odors,n_fold+1)).astype(int)\n",
    "# grps = [np.arange(f_ind[i],f_ind[i+1] ) for i in range(n_fold) ] # perfect \n",
    "\n",
    "# for i in range(n_fold):\n",
    "#     this_grp = grps[i]\n",
    "#     a = np.arange(n_odors)\n",
    "#     a = np.delete(a,this_grp)\n",
    "#     if 0:\n",
    "#         ind_probe = [np.random.choice(a,l_ex,replace=False) for i in range(len(this_grp))]\n",
    "#         tag_ind_i = np.concatenate([ind_probe for i in range(reps_per_fold)]) # 1:10, repeated 10 x\n",
    "#         query_ind_i = np.concatenate(T([this_grp for i in range(reps_per_fold)]))\n",
    "\n",
    "#     # we have convinience of all groups being the same size\n",
    "#     ind_probe = a\n",
    "#     tag_ind_i = np.concatenate([ind_probe for i in range(len(this_grp))])\n",
    "#     query_ind_i = this_grp\n",
    "    \n",
    "#     tag_ind.append(tag_ind_i)\n",
    "#     query_ind.append(query_ind_i)\n",
    "\n",
    "m = min_m(l_ex,eps)\n",
    "k = opt_k(m,l_ex)\n",
    "\n",
    "# Leave one Odor Out Crossvalidation\n",
    "n_ex = l_ex\n",
    "query_ind = list()\n",
    "tag_ind = list()\n",
    "for i in range(n_ex):\n",
    "    a = np.arange(n_odors)\n",
    "    a = np.delete(a,i)\n",
    "    tag_ind.append(a)\n",
    "    \n",
    "# query_ind = np.concatenate(query_ind)\n",
    "# tag_ind = np.concatenate(tag_ind)\n",
    "query_ind = np.arange(n_ex)\n",
    "tag_ind = np.array(tag_ind)\n",
    "\n",
    "S = U[tag_ind] # n_ex, l_ex, n_ORN\n",
    "q = U[query_ind] # n_ex, n_ORN\n",
    "N = [novelty_dist(S[i],q[i]) for i in range(n_ex)]\n",
    "\n"
   ]
  },
  {
   "cell_type": "code",
   "execution_count": null,
   "metadata": {},
   "outputs": [
    {
     "name": "stdout",
     "output_type": "stream",
     "text": [
      "MNIST_d1:784_PROJ:SB4_cos_m:720_k:1_eps:5.0e-01  OGDIST:0.25 PROJ: 0.36 0.26, LSHBLOOM: 0.36 0.26, HBLOOM 0.02 0.01\n"
     ]
    }
   ],
   "source": [
    "# import compute_distance_metrics\n",
    "# reload(compute_distance_metrics)\n",
    "# eps_try = [.5,.2,.1,.05,.01,.005,.001,.0001,.00001,.000001]\n",
    "eps_try = np.logspace(np.log10(.5),np.log10(1E-6),15)\n",
    "dm = 'cos'\n",
    "dist_mets = list()\n",
    "for ep in eps_try:\n",
    "    dist_mets.append(compute_distance_metrics.get_distance_metrics(S,q,eps=ep,app_str=dat_use,\n",
    "                                                                   dist_met=dm))"
   ]
  },
  {
   "cell_type": "code",
   "execution_count": 126,
   "metadata": {},
   "outputs": [
    {
     "data": {
      "image/png": "[encoded data removed]",
      "text/plain": [
       "<matplotlib.figure.Figure at 0x1a24bd2f28>"
      ]
     },
     "metadata": {},
     "output_type": "display_data"
    }
   ],
   "source": [
    "plt.plot(-np.log10(eps_try),T(dist_mets)[0],label='Proj Space')\n",
    "plt.plot(-np.log10(eps_try),T(dist_mets)[1],label='LSH Bloom Filter')\n",
    "plt.plot(-np.log10(eps_try),T(dist_mets)[2],label='Hash Bloom Filter')\n",
    "# plt.semilogx(eps_try,T(dist_mets)[0],label='Proj Space')\n",
    "# plt.semilogx(eps_try,T(dist_mets)[1],label='LSH Bloom Filter')\n",
    "# plt.semilogx(eps_try,T(dist_mets)[2],label='Hash Bloom Filter')\n",
    "plt.xlabel('$-Log_{10}$ $\\epsilon$')\n",
    "plt.ylabel('Corr ORN Distance(%s)' %dm)\n",
    "plt.legend()\n",
    "plt.title('%s, (N=%d)' %(dat_use,l_ex))\n",
    "plt.show()\n"
   ]
  },
  {
   "cell_type": "code",
   "execution_count": 44,
   "metadata": {},
   "outputs": [],
   "source": [
    "dIn = np.shape(S)[2]\n",
    "if proj == 'DG':\n",
    "    M = np.random.randn(dIn,m)\n",
    "elif proj[:2]=='SB':\n",
    "    M = T(create_projection_matrix(dIn,m,proj))\n",
    "else:\n",
    "    assert(0)\n",
    "\n",
    "Sm = np.matmul(S,M) # n_ex, l_ex, m\n",
    "qm = np.matmul(q,M) # n_ex, m\n",
    "Sm_LSH = np.argpartition(Sm,-k)[:,:,-k:] # grab the k largest values\n",
    "qm_LSH = np.argpartition(qm,-k)[:,-k:]\n",
    "\n",
    "Sm_LSH_tag = np.zeros(np.shape(Sm))\n",
    "for i,ii in np.ndenumerate(Sm_LSH):      # produce Boolean tags\n",
    "    Sm_LSH_tag[i[0],i[1],ii] = 1   \n",
    "    \n",
    "qm_LSH_tag = np.zeros(np.shape(qm))\n",
    "for i,ii in enumerate(qm_LSH):\n",
    "     qm_LSH_tag[i,ii] = 1\n",
    "        \n",
    "# bloom filter\n",
    "Sm_LSH_bloom = np.sum(Sm_LSH_tag,axis=1)>0 \n",
    "avg_hash_loc = np.mean(Sm_LSH_bloom,axis=0)\n",
    "\n",
    "# closest hash\n",
    "N_LSH_tag = [-(tag_cnt(Sm_LSH_tag[i],qm_LSH_tag[i])/k-1) for i in range(n_ex)]      # Normalized\n",
    "N_LSH_bloom = -(np.sum([Sm_LSH_bloom[i,qm_LSH[i]] for i in range(n_ex)],axis=1)/k-1)\n",
    "\n",
    "# N_fly = np.zeros(n_ex)\n",
    "# for i in range(n_ex):\n",
    "#     N_fly[i] = fly_bloom(S=Sm_tag[i],q=qm_tag[i],rr=.01)\n",
    "\n",
    "# Non-local hash\n",
    "Sm_hash = hash_array(S,m,k)\n",
    "qm_hash = hash_array(q,m,k)\n",
    "\n",
    "Sm_hash_tag = np.zeros(np.shape(Sm))\n",
    "for i,ii in np.ndenumerate(Sm_hash):      # produce Boolean tags\n",
    "    Sm_hash_tag[i[0],i[1],ii] = 1   \n",
    "    \n",
    "qm_hash_tag = np.zeros(np.shape(qm))\n",
    "for i,ii in enumerate(qm_hash):\n",
    "     qm_hash_tag[i,ii] = 1\n",
    "        \n",
    "# non-local bloom filter\n",
    "Sm_hash_bloom = np.sum(Sm_hash_tag,axis=1)>0 \n",
    "avg_hash_loc = np.mean(Sm_hash_bloom,axis=0)\n",
    "\n",
    "# closest hash\n",
    "N_hash_tag = [-(tag_cnt(Sm_hash_tag[i],qm_hash_tag[i])/k-1) for i in range(n_ex)]      # Normalized\n",
    "N_hash_bloom = -(np.sum([Sm_hash_bloom[i,qm_hash[i]] for i in range(n_ex)],axis=1)/k-1)\n"
   ]
  },
  {
   "cell_type": "code",
   "execution_count": 46,
   "metadata": {},
   "outputs": [
    {
     "data": {
      "image/png": "[encoded data removed]",
      "text/plain": [
       "<matplotlib.figure.Figure at 0x112ddc320>"
      ]
     },
     "metadata": {},
     "output_type": "display_data"
    }
   ],
   "source": [
    "# variables to compare \n",
    "# - N       | ORN correlation\n",
    "# - N_tag   | KC hamming distance\n",
    "# - N_bloom | Bloom filter\n",
    "# - N_fly   | Fly Bloom\n",
    "\n",
    "plt.figure(figsize=(10,10))\n",
    "# plt.suptitle(dat_use + ' [' + proj + ' projection]' '(m)')\n",
    "plt.suptitle('%s [%s projection] (m:%d, k:%d) %s dist' %(dat_use,proj,m,k,dist_met))\n",
    "plt.subplot(2,2,1)\n",
    "plt.hist(N,20,histtype='step',edgecolor='k')\n",
    "plt.xlabel('Novelty (' + dist_met + ')')\n",
    "plt.ylabel('# TAGS')\n",
    "plt.title('ORN Space (n=%d) [d1=%d]' %(l_ex,np.shape(U)[1]))\n",
    "\n",
    "plt.subplot(2,2,2)\n",
    "plt.plot(N,N_LSH_tag,'k.')\n",
    "\n",
    "plt.title( '(m: %i) r = %.2f, $r_T$ = %.2f' %((m,) + (spearmanr(N,N_LSH_tag)[0],) + (kendalltau(N,N_LSH_tag)[0],)))\n",
    "# plt.title( '(m: %i) r = %.2f, p = %.1e' %((m,) + cor_fun(N,N_tag)))\n",
    "plt.ylabel('Novelty KC Space')\n",
    "plt.xlabel('Novelty ORN Space')\n",
    "\n",
    "plt.subplot(2,2,3)\n",
    "plt.plot(N,N_LSH_bloom,'k.')\n",
    "plt.title( '(m: %i) r = %.2f, $r_T$ = %.2f' %((m,) + (spearmanr(N,N_LSH_bloom)[0],) + (kendalltau(N,N_LSH_bloom)[0],)))\n",
    "# plt.title('(m: %i) r = %.2f, p = %.1e' %((m,) + cor_fun(N,N_bloom)))\n",
    "plt.ylabel('Novelty Distance Bloom')\n",
    "plt.xlabel('Novelty ORN Space')\n",
    "\n",
    "plt.subplot(2,2,4)\n",
    "plt.plot(N,N_hash_bloom,'k.')\n",
    "plt.title( '(m: %i) r = %.2f, $r_T$ = %.2f' %((m,) + (spearmanr(N,N_hash_bloom)[0],) + (kendalltau(N,N_hash_bloom)[0],)))\n",
    "# plt.title('(m: %i) r = %.2f, p = %.1e' %((m,) + cor_fun(N,N_fly)))\n",
    "plt.ylabel('Novelty Hash')\n",
    "plt.xlabel('Novelty ORN Space')\n",
    "plt.show()"
   ]
  },
  {
   "cell_type": "code",
   "execution_count": 65,
   "metadata": {},
   "outputs": [
    {
     "data": {
      "text/plain": [
       "(0.52000000000000002,\n",
       " 0.41999999999999998,\n",
       " 0.42999999999999999,\n",
       " 0.32000000000000001,\n",
       " 0.10000000000000001,\n",
       " 0.070000000000000007)"
      ]
     },
     "execution_count": 65,
     "metadata": {},
     "output_type": "execute_result"
    }
   ],
   "source": [
    "def cor_fun(x1,x2):\n",
    "    a1 = pearsonr(x1,x2)[0]\n",
    "    a2 = kendalltau(x1,x2)[0]\n",
    "    return np.round([a1,a2],2)\n",
    "\n",
    "\n",
    "m_0 = '%.2f' %np.mean(N) # dist ORN space\n",
    "m_1 = cor_fun(N,N_LSH_tag)\n",
    "m_2 = cor_fun(N,N_LSH_bloom)\n",
    "m_3 = cor_fun(N,N_hash_bloom)\n",
    "foo = np.concatenate([m_1, m_2, m_3])\n",
    "mPRT = 'PROJ: %.2f %.2f, LSHBLOOM: %.2f %.2f, HBLOOM %.2f %.2f' %tuple(np.concatenate([m_1, m_2, m_3]))\n",
    "tuple(foo)"
   ]
  },
  {
   "cell_type": "code",
   "execution_count": 19,
   "metadata": {},
   "outputs": [
    {
     "data": {
      "text/plain": [
       "' 5.05  2.    3.  '"
      ]
     },
     "execution_count": 19,
     "metadata": {},
     "output_type": "execute_result"
    }
   ],
   "source": [
    "foo = np.round((5.050001 ,2, 3),2)\n",
    "str(foo)[1:-1]"
   ]
  },
  {
   "cell_type": "code",
   "execution_count": 39,
   "metadata": {},
   "outputs": [],
   "source": [
    "foo = '%.1e' %.005\n"
   ]
  },
  {
   "cell_type": "code",
   "execution_count": 64,
   "metadata": {},
   "outputs": [
    {
     "data": {
      "text/plain": [
       "'PROJ: 0.52 0.42, LSHBLOOM: 0.43 0.32, HBLOOM 0.10 0.07'"
      ]
     },
     "execution_count": 64,
     "metadata": {},
     "output_type": "execute_result"
    }
   ],
   "source": [
    "mPRT"
   ]
  },
  {
   "cell_type": "code",
   "execution_count": null,
   "metadata": {
    "collapsed": true
   },
   "outputs": [],
   "source": []
  }
 ],
 "metadata": {
  "kernelspec": {
   "display_name": "Python 3",
   "language": "python",
   "name": "python3"
  },
  "language_info": {
   "codemirror_mode": {
    "name": "ipython",
    "version": 3
   },
   "file_extension": ".py",
   "mimetype": "text/x-python",
   "name": "python",
   "nbconvert_exporter": "python",
   "pygments_lexer": "ipython3",
   "version": "3.6.3"
  }
 },
 "nbformat": 4,
 "nbformat_minor": 2
}
