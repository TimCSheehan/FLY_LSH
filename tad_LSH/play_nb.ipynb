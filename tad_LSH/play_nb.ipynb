{
 "cells": [
  {
   "cell_type": "code",
   "execution_count": 1,
   "metadata": {},
   "outputs": [],
   "source": [
    "from nearest_neighbor_search import *\n",
    "from read_data import *\n",
    "import time\n",
    "from optparse import OptionParser\n",
    "\n",
    "# Command line parameters\n",
    "NUM_KENYON \t= -1    # Number of Kenyon cells\n",
    "PROJECTION \t= -1    # type of projection from glomeruli onto kenyon cells\n",
    "HASH_LENGTH = -1    # hash length\n",
    "\n",
    "# Dataset parameters\n",
    "NUM_NNS\t\t= -1\t\t# number of nearest neighbors to validate over\n",
    "FEATURES \t= -1\t\t# number of features in the dataset\n",
    "NUM_ODORS \t= -1\t\t# number of odors in the dataset\n",
    "\n",
    "start = time.time()"
   ]
  },
  {
   "cell_type": "code",
   "execution_count": 2,
   "metadata": {},
   "outputs": [
    {
     "data": {
      "text/plain": [
       "<Option at 0x7fb9040f4ef0: -d/--dataset>"
      ]
     },
     "execution_count": 2,
     "metadata": {},
     "output_type": "execute_result"
    }
   ],
   "source": [
    "usage=\"usage: %prog [options]\"\n",
    "parser = OptionParser(usage=usage)\n",
    "parser.add_option(\"-p\", \"--projection\", action=\"store\", type=\"string\", dest=\"projection\", default=\"DG\",help=\"type of random projection: DG (dense Gaussian), SB6 (sparse, binary with sampling=6)\")\n",
    "parser.add_option(\"-y\", \"--kenyon\", action=\"store\", type=\"int\", dest=\"num_kenyon\", default=1000,help=\"number of kenyon cells (i.e. expansion size)\")    \n",
    "parser.add_option(\"-w\", \"--wta\", action=\"store\", type=\"string\", dest=\"wta\", default=None,help=\"type of WTA to perform (top, bottom, rand)\")\n",
    "parser.add_option(\"-l\", \"--hash\", action=\"store\", type=\"int\", dest=\"hash_length\", default=8,help=\"length of the hash\")\n",
    "parser.add_option(\"-d\", \"--dataset\", action=\"store\", type=\"string\", dest=\"dataset\", default=\"halem\",help=\"name of the dataset\")\n"
   ]
  },
  {
   "cell_type": "code",
   "execution_count": 3,
   "metadata": {},
   "outputs": [],
   "source": [
    "NUM_REPEATS \t= 50\n",
    "NUM_KENYON \t\t= 1000\n",
    "PROJECTION \t\t= \"DG\" # dense gaussian, also SB6\n",
    "HASH_LENGTH \t= 8\n",
    "DATASET \t\t= \"mnist10k\"\n",
    "WTA \t\t\t= \"random\" "
   ]
  },
  {
   "cell_type": "code",
   "execution_count": 4,
   "metadata": {},
   "outputs": [
    {
     "name": "stdout",
     "output_type": "stream",
     "text": [
      "Here!\n"
     ]
    }
   ],
   "source": [
    "if DATASET == \"gist10k\":\n",
    "    NUM_ODORS \t= 10000\n",
    "    FEATURES \t= 960\n",
    "    D \t\t\t= read_generic_data('/home/navlakha/projects/fly_hashing/data/gist_small/gist10k.txt', NUM_ODORS, FEATURES)\n",
    "\n",
    "# SIFT data: 10000 images x 128 sift descriptor\n",
    "elif DATASET == \"sift10k\":\n",
    "    NUM_ODORS \t= 10000\n",
    "    FEATURES \t= 128\n",
    "    D \t\t\t= read_generic_data('/home/navlakha/projects/fly_hashing/data/sift_small/sift10k.txt', NUM_ODORS, FEATURES) \n",
    "\n",
    "# MNIST data: 10000 images x 784 pixels\n",
    "elif DATASET == \"mnist10k\":\n",
    "    print('Here!')\n",
    "    NUM_ODORS \t= 10000\n",
    "    FEATURES \t= 784\n",
    "    D= read_generic_data('/home/navlakha/projects/fly_hashing/data/mnist/mnist10k.txt', NUM_ODORS, FEATURES) "
   ]
  },
  {
   "cell_type": "code",
   "execution_count": 5,
   "metadata": {},
   "outputs": [],
   "source": [
    "assert D.shape[0] == NUM_ODORS\n",
    "assert D.shape[1] == FEATURES"
   ]
  },
  {
   "cell_type": "code",
   "execution_count": 6,
   "metadata": {},
   "outputs": [],
   "source": [
    "numNNs = max(10, int(0.02*NUM_ODORS))\n",
    "accuracy, std_dev = nearest_neighbor_search(D, WTA, HASH_LENGTH, PROJECTION, NUM_KENYON, NUM_REPEATS, numNNs)"
   ]
  },
  {
   "cell_type": "code",
   "execution_count": 10,
   "metadata": {},
   "outputs": [],
   "source": [
    "accuracy_top, std_dev_top = nearest_neighbor_search(D, \"top\", HASH_LENGTH, PROJECTION, NUM_KENYON, NUM_REPEATS, numNNs)"
   ]
  },
  {
   "cell_type": "code",
   "execution_count": 11,
   "metadata": {},
   "outputs": [
    {
     "data": {
      "text/plain": [
       "0.5109444808988852"
      ]
     },
     "execution_count": 11,
     "metadata": {},
     "output_type": "execute_result"
    }
   ],
   "source": [
    "accuracy_top"
   ]
  },
  {
   "cell_type": "code",
   "execution_count": 12,
   "metadata": {},
   "outputs": [
    {
     "data": {
      "text/plain": [
       "0.31951672686451915"
      ]
     },
     "execution_count": 12,
     "metadata": {},
     "output_type": "execute_result"
    }
   ],
   "source": [
    "accuracy"
   ]
  },
  {
   "cell_type": "code",
   "execution_count": 13,
   "metadata": {
    "collapsed": true
   },
   "outputs": [],
   "source": [
    "import matplotlib.pyplot as plt"
   ]
  },
  {
   "cell_type": "code",
   "execution_count": 54,
   "metadata": {},
   "outputs": [
    {
     "data": {
      "image/png": "[encoded data removed]",
      "text/plain": [
       "<matplotlib.figure.Figure at 0x7fb85f280630>"
      ]
     },
     "metadata": {},
     "output_type": "display_data"
    }
   ],
   "source": [
    "plt.bar([1,2],[accuracy, accuracy_top],color='orange')\n",
    "plt.errorbar([1,2],[accuracy, accuracy_top],[std_dev,std_dev_top],fmt='w.')\n",
    "plt.show()"
   ]
  },
  {
   "cell_type": "code",
   "execution_count": 56,
   "metadata": {},
   "outputs": [
    {
     "name": "stdout",
     "output_type": "stream",
     "text": [
      "Running:2\n",
      "Running:6\n",
      "Running:12\n",
      "Running:18\n",
      "Running:24\n"
     ]
    }
   ],
   "source": [
    "hash_lengths = [2, 6, 12, 18, 24]\n",
    "NUM_REPEATS = 30 # save time, still good stats\n",
    "acc = np.zeros((2,len(hash_lengths))) # first row is top, second is random\n",
    "std = acc\n",
    "for hash in range(len(hash_lengths)):\n",
    "    this_hash = hash_lengths[hash]\n",
    "    print('Running:' + str(this_hash))\n",
    "    acc[0,hash], std[0,hash] =  nearest_neighbor_search(D, \"top\", this_hash, PROJECTION, NUM_KENYON, NUM_REPEATS, numNNs)\n",
    "    acc[1,hash], std[1,hash] =  nearest_neighbor_search(D, \"random\", this_hash, PROJECTION, NUM_KENYON, NUM_REPEATS, numNNs)"
   ]
  },
  {
   "cell_type": "code",
   "execution_count": 67,
   "metadata": {},
   "outputs": [
    {
     "data": {
      "image/png": "[encoded data removed]",
      "text/plain": [
       "<matplotlib.figure.Figure at 0x7fb85b9e03c8>"
      ]
     },
     "metadata": {},
     "output_type": "display_data"
    }
   ],
   "source": [
    "ste = NUM_REPEATS**-.5\n",
    "plt.errorbar(hash_lengths,acc[0,:],std[0,:]*ste,fmt='k.',label = 'top')\n",
    "plt.errorbar(hash_lengths,acc[1,:],std[1,:]*ste,fmt='r.',label = 'random')\n",
    "plt.xlabel('Hash Length')\n",
    "plt.ylabel('Accuracy')\n",
    "plt.legend()\n",
    "plt.show()"
   ]
  },
  {
   "cell_type": "code",
   "execution_count": 68,
   "metadata": {},
   "outputs": [
    {
     "name": "stdout",
     "output_type": "stream",
     "text": [
      "Running:2\n",
      "Running:6\n",
      "Running:12\n",
      "Running:18\n",
      "Running:24\n"
     ]
    }
   ],
   "source": [
    "PROJECTION = \"SB6\"\n",
    "acc2 = np.zeros((2,len(hash_lengths))) # first row is top, second is random\n",
    "std2 = acc2\n",
    "for hash in range(len(hash_lengths)):\n",
    "    this_hash = hash_lengths[hash]\n",
    "    print('Running:' + str(this_hash))\n",
    "    acc2[0,hash], std2[0,hash] =  nearest_neighbor_search(D, \"top\", this_hash, PROJECTION, NUM_KENYON, NUM_REPEATS, numNNs)\n",
    "    acc2[1,hash], std2[1,hash] =  nearest_neighbor_search(D, \"random\", this_hash, PROJECTION, NUM_KENYON, NUM_REPEATS, numNNs)"
   ]
  },
  {
   "cell_type": "code",
   "execution_count": 69,
   "metadata": {},
   "outputs": [
    {
     "data": {
      "image/png": "[encoded data removed]",
      "text/plain": [
       "<matplotlib.figure.Figure at 0x7fb85ba30390>"
      ]
     },
     "metadata": {},
     "output_type": "display_data"
    }
   ],
   "source": [
    "plt.errorbar(hash_lengths,acc2[0,:],std2[0,:]*ste,fmt='k.',label = 'top')\n",
    "plt.errorbar(hash_lengths,acc2[1,:],std2[1,:]*ste,fmt='r.',label = 'random')\n",
    "plt.xlabel('Hash Length')\n",
    "plt.ylabel('Accuracy')\n",
    "plt.legend()\n",
    "plt.show()\n"
   ]
  },
  {
   "cell_type": "code",
   "execution_count": 74,
   "metadata": {},
   "outputs": [
    {
     "name": "stdout",
     "output_type": "stream",
     "text": [
      "Running:2\n",
      "Running:6\n",
      "Running:12\n",
      "Running:18\n",
      "Running:24\n",
      "Running:32\n"
     ]
    }
   ],
   "source": [
    "hash_lengths = [2, 6, 12, 18, 24, 32]\n",
    "acc3 = np.zeros((3,len(hash_lengths))) # first row is top, second is random\n",
    "std3 = acc3\n",
    "for hash in range(len(hash_lengths)):\n",
    "    this_hash = hash_lengths[hash]\n",
    "    print('Running:' + str(this_hash))\n",
    "    acc3[0,hash], std3[0,hash] =  nearest_neighbor_search(D, \"top\", this_hash, 'SB6', this_hash*20, NUM_REPEATS, numNNs)\n",
    "    acc3[1,hash], std3[1,hash] =  nearest_neighbor_search(D, \"random\", this_hash, 'SB6', this_hash*20, NUM_REPEATS, numNNs)\n",
    "    acc3[2,hash], std3[2,hash] =  nearest_neighbor_search(D, \"all\", this_hash, 'SB6', this_hash, NUM_REPEATS, numNNs)"
   ]
  },
  {
   "cell_type": "code",
   "execution_count": 72,
   "metadata": {},
   "outputs": [
    {
     "data": {
      "text/plain": [
       "array([[0.18273197, 0.19971613, 0.17743897, 0.16484916, 0.14755196],\n",
       "       [0.08399048, 0.16984345, 0.20598385, 0.20177164, 0.18340986]])"
      ]
     },
     "execution_count": 72,
     "metadata": {},
     "output_type": "execute_result"
    }
   ],
   "source": [
    " "
   ]
  },
  {
   "cell_type": "code",
   "execution_count": 73,
   "metadata": {},
   "outputs": [
    {
     "data": {
      "text/plain": [
       "200"
      ]
     },
     "execution_count": 73,
     "metadata": {},
     "output_type": "execute_result"
    }
   ],
   "source": []
  },
  {
   "cell_type": "code",
   "execution_count": null,
   "metadata": {
    "collapsed": true
   },
   "outputs": [],
   "source": []
  }
 ],
 "metadata": {
  "kernelspec": {
   "display_name": "Python 3",
   "language": "python",
   "name": "python3"
  },
  "language_info": {
   "codemirror_mode": {
    "name": "ipython",
    "version": 3
   },
   "file_extension": ".py",
   "mimetype": "text/x-python",
   "name": "python",
   "nbconvert_exporter": "python",
   "pygments_lexer": "ipython3",
   "version": "3.4.2"
  }
 },
 "nbformat": 4,
 "nbformat_minor": 2
}
