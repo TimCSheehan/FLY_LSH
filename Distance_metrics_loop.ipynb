{
 "cells": [
  {
   "cell_type": "markdown",
   "metadata": {},
   "source": [
    "# TO DO\n",
    "+ Add non-local hash function [√]\n",
    "+ add cross validation [√]\n",
    "+ add MNIST [√]\n",
    "\n",
    "\n",
    "+ add IP addresses [ ] "
   ]
  },
  {
   "cell_type": "code",
   "execution_count": 1,
   "metadata": {},
   "outputs": [],
   "source": [
    "import numpy as np\n",
    "import matplotlib.pyplot as plt\n",
    "from scipy.stats import spearmanr, pearsonr, kendalltau\n",
    "import pandas as pd\n",
    "import os\n",
    "T = np.transpose\n",
    "from hashfunctions import *\n",
    "# os.chdir('/Users/tim/py_code/')\n",
    "from bloom_filters import * \n",
    "import sys\n",
    "sys.path.append('/Users/tim/py_code/FLY_LSH')\n",
    "from read_data import *\n",
    "\n",
    "# import hashlib # might need\n",
    "\n",
    "max_val_hash = sys.maxsize\n",
    "import xxhash\n",
    "import compute_distance_metrics\n",
    "\n",
    "# get MNIST\n",
    "# mnist_path = '/Users/tim/py_code/FLY_LSH/mnist10k.txt'\n",
    "mnist_path = '/home/navlakha/projects/fly_hashing/data/mnist/mnist10k.txt'\n",
    "mnist = read_generic_data(mnist_path,10000,28*28) # 10 000, 784"
   ]
  },
  {
   "cell_type": "code",
   "execution_count": 5,
   "metadata": {},
   "outputs": [
    {
     "name": "stderr",
     "output_type": "stream",
     "text": [
      "/usr/local/lib/python3.4/dist-packages/ipykernel_launcher.py:20: RuntimeWarning: invalid value encountered in true_divide\n"
     ]
    }
   ],
   "source": [
    "dat_use = 'MNIST' # Hallem, rand100\n",
    "n_ex = 100\n",
    "\n",
    "do_10_fold = True\n",
    "# eps = .01 # [.01, 6E-6]\n",
    "\n",
    "os.chdir('/home/tsheehan/py_code/fly_dat/') # os.chdir('/Users/tim/py_code/FLY_LSH/fly_dat/')\n",
    "dat = pd.read_csv(\"hallem1.txt\",delimiter=' ')\n",
    "if dat_use == 'Hallem':\n",
    "    dat = dat.values\n",
    "    n_ex = np.shape(dat)[0]\n",
    "elif dat_use[:4] == 'rand':\n",
    "    dIn = int(dat_use[4:])\n",
    "    dat = np.random.randn(n_ex,dIn) # random data\n",
    "elif dat_use == 'MNIST':\n",
    "    dIn = 28*28\n",
    "    dat = mnist[:n_ex,:]\n",
    "    \n",
    "n_odors = np.shape(dat)[0]\n",
    "dat_100 = dat/np.mean(dat,axis=0)*100\n",
    "dat_100 = np.nan_to_num(dat_100)\n",
    "U = dat_100\n",
    "# assert(np.shape(U)[0]==l_ex)\n",
    "# np.shape(U)"
   ]
  },
  {
   "cell_type": "code",
   "execution_count": 6,
   "metadata": {},
   "outputs": [],
   "source": [
    "# Cross-validation\n",
    "if do_10_fold:\n",
    "    n_fold = 10\n",
    "    f_ind = np.round(np.linspace(0,n_odors,n_fold+1)).astype(int)\n",
    "    grps = [np.arange(f_ind[i],f_ind[i+1] ) for i in range(n_fold) ] # perfect \n",
    "    \n",
    "    tag_ind = list()\n",
    "    query_ind = list()\n",
    "    for i in range(n_fold):\n",
    "        this_grp = grps[i]\n",
    "        a = np.arange(n_odors)\n",
    "        a = np.delete(a,this_grp)\n",
    "        if 0:\n",
    "            ind_probe = [np.random.choice(a,l_ex,replace=False) for i in range(len(this_grp))]\n",
    "            tag_ind_i = np.concatenate([ind_probe for i in range(reps_per_fold)]) # 1:10, repeated 10 x\n",
    "            query_ind_i = np.concatenate(T([this_grp for i in range(reps_per_fold)]))\n",
    "\n",
    "        # we have convinience of all groups being the same size\n",
    "        ind_probe = a\n",
    "        #tag_ind_i = np.concatenate([ind_probe for i in range(len(this_grp))])\n",
    "        tag_ind_i = np.tile(ind_probe,(len(this_grp),1))\n",
    "        query_ind_i = this_grp\n",
    "\n",
    "        tag_ind.append(tag_ind_i)\n",
    "        query_ind.append(query_ind_i)\n",
    "    else:\n",
    "        tag_ind = np.array(tag_ind).reshape(n_odors,len(a))\n",
    "        query_ind = np.array(query_ind).reshape(n_odors)\n",
    "        \n",
    "else:      # Leave one Odor Out Crossvalidation\n",
    "    query_ind = list()\n",
    "    tag_ind = list()\n",
    "    for i in range(n_ex):\n",
    "        a = np.arange(n_odors)\n",
    "        a = np.delete(a,i)\n",
    "        tag_ind.append(a)\n",
    "    else:\n",
    "        query_ind = np.arange(n_ex)\n",
    "        tag_ind = np.array(tag_ind)\n",
    "\n",
    "S = U[tag_ind] # n_ex, l_ex, n_ORN\n",
    "q = U[query_ind] # n_ex, n_ORN\n",
    "\n"
   ]
  },
  {
   "cell_type": "code",
   "execution_count": 7,
   "metadata": {},
   "outputs": [
    {
     "name": "stdout",
     "output_type": "stream",
     "text": [
      "MNIST_d1:784_PROJ:SB4_euc_m:130_k:1_eps:5.0e-01  OGDIST:7171.85 PROJ: 0.37 0.31, LSHBLOOM: 0.37 0.31, HBLOOM -0.12 -0.09\n",
      "MNIST_d1:784_PROJ:SB4_euc_m:306_k:2_eps:2.0e-01  OGDIST:7171.85 PROJ: 0.14 0.13, LSHBLOOM: 0.26 0.25, HBLOOM 0.04 0.02\n",
      "MNIST_d1:784_PROJ:SB4_euc_m:482_k:3_eps:7.7e-02  OGDIST:7171.85 PROJ: 0.40 0.35, LSHBLOOM: 0.44 0.34, HBLOOM 0.16 -0.02\n",
      "MNIST_d1:784_PROJ:SB4_euc_m:657_k:5_eps:3.0e-02  OGDIST:7171.85 PROJ: 0.37 0.28, LSHBLOOM: 0.48 0.37, HBLOOM 0.05 0.05\n",
      "MNIST_d1:784_PROJ:SB4_euc_m:833_k:6_eps:1.2e-02  OGDIST:7171.85 PROJ: 0.36 0.31, LSHBLOOM: 0.44 0.35, HBLOOM -0.04 -0.02\n",
      "MNIST_d1:784_PROJ:SB4_euc_m:1008_k:7_eps:4.6e-03  OGDIST:7171.85 PROJ: 0.47 0.46, LSHBLOOM: 0.58 0.50, HBLOOM -0.09 -0.08\n",
      "MNIST_d1:784_PROJ:SB4_euc_m:1184_k:9_eps:1.8e-03  OGDIST:7171.85 PROJ: 0.46 0.41, LSHBLOOM: 0.56 0.40, HBLOOM -0.02 -0.02\n",
      "MNIST_d1:784_PROJ:SB4_euc_m:1359_k:10_eps:7.1e-04  OGDIST:7171.85 PROJ: 0.42 0.34, LSHBLOOM: 0.60 0.44, HBLOOM -0.01 0.02\n",
      "MNIST_d1:784_PROJ:SB4_euc_m:1535_k:11_eps:2.8e-04  OGDIST:7171.85 PROJ: 0.39 0.35, LSHBLOOM: 0.52 0.37, HBLOOM -0.13 -0.08\n",
      "MNIST_d1:784_PROJ:SB4_euc_m:1711_k:13_eps:1.1e-04  OGDIST:7171.85 PROJ: 0.42 0.37, LSHBLOOM: 0.47 0.42, HBLOOM -0.05 -0.02\n",
      "MNIST_d1:784_PROJ:SB4_euc_m:1886_k:14_eps:4.2e-05  OGDIST:7171.85 PROJ: 0.45 0.41, LSHBLOOM: 0.60 0.48, HBLOOM -0.06 -0.01\n",
      "MNIST_d1:784_PROJ:SB4_euc_m:2062_k:15_eps:1.7e-05  OGDIST:7171.85 PROJ: 0.43 0.40, LSHBLOOM: 0.60 0.43, HBLOOM -0.12 -0.03\n",
      "MNIST_d1:784_PROJ:SB4_euc_m:2237_k:17_eps:6.5e-06  OGDIST:7171.85 PROJ: 0.46 0.42, LSHBLOOM: 0.65 0.52, HBLOOM -0.16 -0.12\n",
      "MNIST_d1:784_PROJ:SB4_euc_m:2413_k:18_eps:2.6e-06  OGDIST:7171.85 PROJ: 0.43 0.34, LSHBLOOM: 0.53 0.40, HBLOOM -0.10 -0.07\n",
      "MNIST_d1:784_PROJ:SB4_euc_m:2588_k:19_eps:1.0e-06  OGDIST:7171.85 PROJ: 0.42 0.44, LSHBLOOM: 0.59 0.47, HBLOOM -0.06 -0.03\n"
     ]
    }
   ],
   "source": [
    "\n",
    "# import compute_distance_metrics\n",
    "# reload(compute_distance_metrics)\n",
    "# eps_try = [.5,.2,.1,.05,.01,.005,.001,.0001,.00001,.000001]\n",
    "eps_try = np.logspace(np.log10(.5),np.log10(1E-6),15) \n",
    "dm = 'euc'\n",
    "dist_mets = list()\n",
    "for ep in eps_try:\n",
    "    dist_mets.append(compute_distance_metrics.get_distance_metrics(S,q,eps=ep,app_str=dat_use,\n",
    "                                                                   dist_met=dm))"
   ]
  },
  {
   "cell_type": "code",
   "execution_count": 30,
   "metadata": {},
   "outputs": [
    {
     "data": {
      "image/png": "[encoded data removed]",
      "text/plain": [
       "<matplotlib.figure.Figure at 0x7f292af42b00>"
      ]
     },
     "metadata": {},
     "output_type": "display_data"
    }
   ],
   "source": [
    "\n",
    "eps_try = np.logspace(np.log10(.5),np.log10(1E-6),15) \n",
    "eps_try = eps_try[:np.shape(dist_mets)[0]]\n",
    "plt.plot(-np.log10(eps_try),T(dist_mets)[0],label='Proj Space')\n",
    "plt.plot(-np.log10(eps_try),T(dist_mets)[1],label='LSH Bloom Filter')\n",
    "plt.plot(-np.log10(eps_try),T(dist_mets)[2],label='Hash Bloom Filter')\n",
    "# plt.semilogx(eps_try,T(dist_mets)[0],label='Proj Space')\n",
    "# plt.semilogx(eps_try,T(dist_mets)[1],label='LSH Bloom Filter')\n",
    "# plt.semilogx(eps_try,T(dist_mets)[2],label='Hash Bloom Filter')\n",
    "plt.xlabel('$-Log_{10}$ $\\epsilon$')\n",
    "plt.ylabel('Corr ORN Distance(%s)' %dm)\n",
    "plt.legend()\n",
    "plt.title('%s, (N=%d)' %(dat_use,l_ex))\n",
    "plt.show()\n"
   ]
  },
  {
   "cell_type": "code",
   "execution_count": 13,
   "metadata": {},
   "outputs": [
    {
     "data": {
      "text/plain": [
       "'MNIST_d1:784_PROJ:SB4_euc_m:130_k:1_eps:5.0e-01  OGDIST:7171.85 PROJ: 0.37 0.31, LSHBLOOM: 0.37 0.31, HBLOOM -0.12 -0.09'"
      ]
     },
     "execution_count": 13,
     "metadata": {},
     "output_type": "execute_result"
    }
   ],
   "source": []
  },
  {
   "cell_type": "code",
   "execution_count": null,
   "metadata": {
    "collapsed": true
   },
   "outputs": [],
   "source": []
  }
 ],
 "metadata": {
  "kernelspec": {
   "display_name": "Python 3",
   "language": "python",
   "name": "python3"
  },
  "language_info": {
   "codemirror_mode": {
    "name": "ipython",
    "version": 3
   },
   "file_extension": ".py",
   "mimetype": "text/x-python",
   "name": "python",
   "nbconvert_exporter": "python",
   "pygments_lexer": "ipython3",
   "version": "3.4.2"
  }
 },
 "nbformat": 4,
 "nbformat_minor": 2
}
