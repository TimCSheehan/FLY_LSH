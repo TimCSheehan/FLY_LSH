{
 "cells": [
  {
   "cell_type": "markdown",
   "metadata": {},
   "source": [
    "# TO DO\n",
    "+ Add non-local hash function [√]\n",
    "+ add cross validation [√]\n",
    "+ add MNIST [√]\n",
    "\n",
    "\n",
    "+ add IP addresses [ ] "
   ]
  },
  {
   "cell_type": "code",
   "execution_count": 5,
   "metadata": {
    "collapsed": true
   },
   "outputs": [],
   "source": [
    "import numpy as np\n",
    "import matplotlib.pyplot as plt\n",
    "from scipy.stats import spearmanr, pearsonr, kendalltau\n",
    "import pandas as pd\n",
    "import os\n",
    "T = np.transpose\n",
    "from hashfunctions import *\n",
    "# os.chdir('/Users/tim/py_code/')\n",
    "from bloom_filters import * \n",
    "import sys\n",
    "sys.path.append('/Users/tim/py_code/FLY_LSH')\n",
    "from read_data import *\n",
    "\n",
    "# import hashlib # might need\n",
    "\n",
    "max_val_hash = sys.maxsize\n",
    "import xxhash\n",
    "import compute_distance_metrics\n",
    "\n",
    "# get MNIST\n",
    "# mnist_path = '/Users/tim/py_code/FLY_LSH/mnist10k.txt'\n",
    "mnist_path = '/home/navlakha/projects/fly_hashing/data/mnist/mnist10k.txt'\n",
    "mnist = read_generic_data(mnist_path,10000,28*28) # 10 000, 784"
   ]
  },
  {
   "cell_type": "code",
   "execution_count": 6,
   "metadata": {
    "collapsed": true
   },
   "outputs": [],
   "source": [
    "dat_use = 'Erand50' # Hallem, rand100\n",
    "n_ex = 100\n",
    "\n",
    "do_10_fold = True\n",
    "# eps = .01 # [.01, 6E-6]\n",
    "\n",
    "os.chdir('/home/tsheehan/py_code/fly_dat/') # os.chdir('/Users/tim/py_code/FLY_LSH/fly_dat/')\n",
    "dat = pd.read_csv(\"hallem1.txt\",delimiter=' ')\n",
    "if dat_use == 'Hallem':\n",
    "    dat = dat.values\n",
    "    n_ex = np.shape(dat)[0]\n",
    "    do_10_fold = False\n",
    "elif dat_use[:4] == 'rand':\n",
    "    dIn = int(dat_use[4:])\n",
    "    dat = np.random.randn(n_ex,dIn) # random data\n",
    "elif dat_use[:5] == 'Erand':\n",
    "    dIn = int(dat_use[5:])\n",
    "    scale = 1.0 \n",
    "    dat = np.random.exponential(scale,(n_ex,dIn)) # random data\n",
    "elif dat_use == 'MNIST':\n",
    "    dIn = 28*28\n",
    "    dat = mnist[:n_ex,:]\n",
    "    \n",
    "n_odors = np.shape(dat)[0]\n",
    "dat_100 = dat/np.mean(dat,axis=0)*100\n",
    "dat_100 = np.nan_to_num(dat_100)\n",
    "U = dat_100\n",
    "# assert(np.shape(U)[0]==l_ex)\n",
    "# np.shape(U)"
   ]
  },
  {
   "cell_type": "code",
   "execution_count": 7,
   "metadata": {
    "collapsed": true
   },
   "outputs": [],
   "source": [
    "# Cross-validation\n",
    "if do_10_fold:\n",
    "    n_fold = 10\n",
    "    f_ind = np.round(np.linspace(0,n_odors,n_fold+1)).astype(int)\n",
    "    grps = [np.arange(f_ind[i],f_ind[i+1] ) for i in range(n_fold) ] # perfect \n",
    "    \n",
    "    tag_ind = list()\n",
    "    query_ind = list()\n",
    "    for i in range(n_fold):\n",
    "        this_grp = grps[i]\n",
    "        a = np.arange(n_odors)\n",
    "        a = np.delete(a,this_grp)\n",
    "        if 0:\n",
    "            ind_probe = [np.random.choice(a,l_ex,replace=False) for i in range(len(this_grp))]\n",
    "            tag_ind_i = np.concatenate([ind_probe for i in range(reps_per_fold)]) # 1:10, repeated 10 x\n",
    "            query_ind_i = np.concatenate(T([this_grp for i in range(reps_per_fold)]))\n",
    "\n",
    "        # we have convinience of all groups being the same size\n",
    "        ind_probe = a\n",
    "        #tag_ind_i = np.concatenate([ind_probe for i in range(len(this_grp))])\n",
    "        tag_ind_i = np.tile(ind_probe,(len(this_grp),1))\n",
    "        query_ind_i = this_grp\n",
    "\n",
    "        tag_ind.append(tag_ind_i)\n",
    "        query_ind.append(query_ind_i)\n",
    "    else:\n",
    "        tag_ind = np.array(tag_ind).reshape(n_odors,len(a))\n",
    "        query_ind = np.array(query_ind).reshape(n_odors)\n",
    "        \n",
    "else:      # Leave one Odor Out Crossvalidation\n",
    "    query_ind = list()\n",
    "    tag_ind = list()\n",
    "    for i in range(n_ex):\n",
    "        a = np.arange(n_odors)\n",
    "        a = np.delete(a,i)\n",
    "        tag_ind.append(a)\n",
    "    else:\n",
    "        query_ind = np.arange(n_ex)\n",
    "        tag_ind = np.array(tag_ind)\n",
    "\n",
    "S = U[tag_ind] # n_ex, l_ex, n_ORN\n",
    "q = U[query_ind] # n_ex, n_ORN\n",
    "\n"
   ]
  },
  {
   "cell_type": "code",
   "execution_count": 14,
   "metadata": {},
   "outputs": [
    {
     "name": "stderr",
     "output_type": "stream",
     "text": [
      "/usr/local/lib/python3.4/dist-packages/scipy/stats/stats.py:3003: RuntimeWarning: invalid value encountered in double_scalars\n",
      "  r = r_num / r_den\n"
     ]
    },
    {
     "name": "stdout",
     "output_type": "stream",
     "text": [
      "Erand30_d1:30_PROJ:SB4_both_m:130_k:1_eps:5.0e-01  OGDIST:0.23 PROJ: -0.02 -0.01, LSHBLOOM: -0.02 -0.01, HBLOOM nan nan\n",
      "Erand30_d1:30_PROJ:SB4_both_m:306_k:2_eps:2.0e-01  OGDIST:0.23 PROJ: 0.10 0.09, LSHBLOOM: 0.15 0.13, HBLOOM nan nan\n",
      "Erand30_d1:30_PROJ:SB4_both_m:482_k:3_eps:7.7e-02  OGDIST:0.23 PROJ: 0.19 0.14, LSHBLOOM: 0.19 0.12, HBLOOM nan nan\n",
      "Erand30_d1:30_PROJ:SB4_both_m:657_k:5_eps:3.0e-02  OGDIST:0.23 PROJ: 0.17 0.15, LSHBLOOM: 0.14 0.10, HBLOOM nan nan\n",
      "Erand30_d1:30_PROJ:SB4_both_m:833_k:6_eps:1.2e-02  OGDIST:0.23 PROJ: 0.29 0.22, LSHBLOOM: 0.20 0.15, HBLOOM -0.04 -0.05\n",
      "Erand30_d1:30_PROJ:SB4_both_m:1008_k:7_eps:4.6e-03  OGDIST:0.23 PROJ: 0.39 0.33, LSHBLOOM: 0.23 0.22, HBLOOM 0.00 -0.00\n",
      "Erand30_d1:30_PROJ:SB4_both_m:1184_k:9_eps:1.8e-03  OGDIST:0.23 PROJ: 0.02 0.07, LSHBLOOM: 0.16 0.12, HBLOOM 0.05 0.04\n",
      "Erand30_d1:30_PROJ:SB4_both_m:1359_k:10_eps:7.1e-04  OGDIST:0.23 PROJ: 0.20 0.17, LSHBLOOM: 0.12 0.11, HBLOOM nan nan\n",
      "Erand30_d1:30_PROJ:SB4_both_m:1535_k:11_eps:2.8e-04  OGDIST:0.23 PROJ: 0.38 0.30, LSHBLOOM: 0.34 0.24, HBLOOM 0.02 0.03\n",
      "Erand30_d1:30_PROJ:SB4_both_m:1711_k:13_eps:1.1e-04  OGDIST:0.23 PROJ: 0.20 0.18, LSHBLOOM: 0.21 0.16, HBLOOM -0.01 0.01\n",
      "Erand30_d1:30_PROJ:SB4_both_m:1886_k:14_eps:4.2e-05  OGDIST:0.23 PROJ: 0.46 0.32, LSHBLOOM: 0.31 0.23, HBLOOM -0.01 -0.00\n",
      "Erand30_d1:30_PROJ:SB4_both_m:2062_k:15_eps:1.7e-05  OGDIST:0.23 PROJ: 0.51 0.40, LSHBLOOM: 0.33 0.23, HBLOOM 0.03 0.05\n",
      "Erand30_d1:30_PROJ:SB4_both_m:2237_k:17_eps:6.5e-06  OGDIST:0.23 PROJ: 0.29 0.20, LSHBLOOM: 0.22 0.16, HBLOOM -0.03 -0.01\n",
      "Erand30_d1:30_PROJ:SB4_both_m:2413_k:18_eps:2.6e-06  OGDIST:0.23 PROJ: 0.25 0.20, LSHBLOOM: 0.27 0.21, HBLOOM 0.05 0.05\n",
      "Erand30_d1:30_PROJ:SB4_both_m:2588_k:19_eps:1.0e-06  OGDIST:0.23 PROJ: 0.40 0.30, LSHBLOOM: 0.25 0.18, HBLOOM 0.02 0.03\n"
     ]
    }
   ],
   "source": [
    "\n",
    "# import compute_distance_metrics\n",
    "# reload(compute_distance_metrics)\n",
    "# eps_try = [.5,.2,.1,.05,.01,.005,.001,.0001,.00001,.000001]\n",
    "eps_try = np.logspace(np.log10(.5),np.log10(1E-6),15) \n",
    "dm = 'both'\n",
    "dist_mets = list()\n",
    "for ep in eps_try:\n",
    "    dist_mets.append(compute_distance_metrics.get_distance_metrics(S,q,eps=ep,app_str=dat_use,\n",
    "                                                                   dist_met=dm,text_out=False,ORN_SPECIAL=True))\n",
    "    #foo = compute_distance_metrics.get_distance_metrics(S,q,eps=ep,app_str=dat_use,\n",
    "                                                                  # dist_met=dm,text_out=False,ORN_SPECIAL=True)"
   ]
  },
  {
   "cell_type": "code",
   "execution_count": 26,
   "metadata": {},
   "outputs": [
    {
     "ename": "ValueError",
     "evalue": "x and y must have same first dimension, but have shapes (15,) and (19,)",
     "output_type": "error",
     "traceback": [
      "\u001b[0;31m---------------------------------------------------------------------------\u001b[0m",
      "\u001b[0;31mValueError\u001b[0m                                Traceback (most recent call last)",
      "\u001b[0;32m<ipython-input-26-8a45eecb0f3a>\u001b[0m in \u001b[0;36m<module>\u001b[0;34m()\u001b[0m\n\u001b[1;32m      4\u001b[0m \u001b[0meps_try\u001b[0m \u001b[0;34m=\u001b[0m \u001b[0mnp\u001b[0m\u001b[0;34m.\u001b[0m\u001b[0mlogspace\u001b[0m\u001b[0;34m(\u001b[0m\u001b[0mnp\u001b[0m\u001b[0;34m.\u001b[0m\u001b[0mlog10\u001b[0m\u001b[0;34m(\u001b[0m\u001b[0;36m.5\u001b[0m\u001b[0;34m)\u001b[0m\u001b[0;34m,\u001b[0m\u001b[0mnp\u001b[0m\u001b[0;34m.\u001b[0m\u001b[0mlog10\u001b[0m\u001b[0;34m(\u001b[0m\u001b[0;36m1E-6\u001b[0m\u001b[0;34m)\u001b[0m\u001b[0;34m,\u001b[0m\u001b[0;36m15\u001b[0m\u001b[0;34m)\u001b[0m\u001b[0;34m\u001b[0m\u001b[0m\n\u001b[1;32m      5\u001b[0m \u001b[0meps_try\u001b[0m \u001b[0;34m=\u001b[0m \u001b[0meps_try\u001b[0m\u001b[0;34m[\u001b[0m\u001b[0;34m:\u001b[0m\u001b[0mnp\u001b[0m\u001b[0;34m.\u001b[0m\u001b[0mshape\u001b[0m\u001b[0;34m(\u001b[0m\u001b[0mdist_mets\u001b[0m\u001b[0;34m)\u001b[0m\u001b[0;34m[\u001b[0m\u001b[0;36m0\u001b[0m\u001b[0;34m]\u001b[0m\u001b[0;34m]\u001b[0m\u001b[0;34m\u001b[0m\u001b[0m\n\u001b[0;32m----> 6\u001b[0;31m \u001b[0mplt\u001b[0m\u001b[0;34m.\u001b[0m\u001b[0mplot\u001b[0m\u001b[0;34m(\u001b[0m\u001b[0;34m-\u001b[0m\u001b[0mnp\u001b[0m\u001b[0;34m.\u001b[0m\u001b[0mlog10\u001b[0m\u001b[0;34m(\u001b[0m\u001b[0meps_try\u001b[0m\u001b[0;34m)\u001b[0m\u001b[0;34m,\u001b[0m\u001b[0mT\u001b[0m\u001b[0;34m(\u001b[0m\u001b[0mdist_mets\u001b[0m\u001b[0;34m)\u001b[0m\u001b[0;34m[\u001b[0m\u001b[0;36m0\u001b[0m\u001b[0;34m+\u001b[0m\u001b[0mb\u001b[0m\u001b[0;34m]\u001b[0m\u001b[0;34m,\u001b[0m\u001b[0mlabel\u001b[0m\u001b[0;34m=\u001b[0m\u001b[0;34m'Proj Space'\u001b[0m\u001b[0;34m)\u001b[0m\u001b[0;34m\u001b[0m\u001b[0m\n\u001b[0m\u001b[1;32m      7\u001b[0m \u001b[0mplt\u001b[0m\u001b[0;34m.\u001b[0m\u001b[0mplot\u001b[0m\u001b[0;34m(\u001b[0m\u001b[0;34m-\u001b[0m\u001b[0mnp\u001b[0m\u001b[0;34m.\u001b[0m\u001b[0mlog10\u001b[0m\u001b[0;34m(\u001b[0m\u001b[0meps_try\u001b[0m\u001b[0;34m)\u001b[0m\u001b[0;34m,\u001b[0m\u001b[0mT\u001b[0m\u001b[0;34m(\u001b[0m\u001b[0mdist_mets\u001b[0m\u001b[0;34m)\u001b[0m\u001b[0;34m[\u001b[0m\u001b[0;36m2\u001b[0m\u001b[0;34m+\u001b[0m\u001b[0mb\u001b[0m\u001b[0;34m]\u001b[0m\u001b[0;34m,\u001b[0m\u001b[0mlabel\u001b[0m\u001b[0;34m=\u001b[0m\u001b[0;34m'LSH Bloom Filter'\u001b[0m\u001b[0;34m)\u001b[0m\u001b[0;34m\u001b[0m\u001b[0m\n\u001b[1;32m      8\u001b[0m \u001b[0;31m# plt.plot(-np.log10(eps_try),T(dist_mets)[4+b],label='Hash Bloom Filter')\u001b[0m\u001b[0;34m\u001b[0m\u001b[0;34m\u001b[0m\u001b[0m\n",
      "\u001b[0;32m/usr/local/lib/python3.4/dist-packages/matplotlib/pyplot.py\u001b[0m in \u001b[0;36mplot\u001b[0;34m(*args, **kwargs)\u001b[0m\n\u001b[1;32m   3238\u001b[0m                       mplDeprecation)\n\u001b[1;32m   3239\u001b[0m     \u001b[0;32mtry\u001b[0m\u001b[0;34m:\u001b[0m\u001b[0;34m\u001b[0m\u001b[0m\n\u001b[0;32m-> 3240\u001b[0;31m         \u001b[0mret\u001b[0m \u001b[0;34m=\u001b[0m \u001b[0max\u001b[0m\u001b[0;34m.\u001b[0m\u001b[0mplot\u001b[0m\u001b[0;34m(\u001b[0m\u001b[0;34m*\u001b[0m\u001b[0margs\u001b[0m\u001b[0;34m,\u001b[0m \u001b[0;34m**\u001b[0m\u001b[0mkwargs\u001b[0m\u001b[0;34m)\u001b[0m\u001b[0;34m\u001b[0m\u001b[0m\n\u001b[0m\u001b[1;32m   3241\u001b[0m     \u001b[0;32mfinally\u001b[0m\u001b[0;34m:\u001b[0m\u001b[0;34m\u001b[0m\u001b[0m\n\u001b[1;32m   3242\u001b[0m         \u001b[0max\u001b[0m\u001b[0;34m.\u001b[0m\u001b[0m_hold\u001b[0m \u001b[0;34m=\u001b[0m \u001b[0mwashold\u001b[0m\u001b[0;34m\u001b[0m\u001b[0m\n",
      "\u001b[0;32m/usr/local/lib/python3.4/dist-packages/matplotlib/__init__.py\u001b[0m in \u001b[0;36minner\u001b[0;34m(ax, *args, **kwargs)\u001b[0m\n\u001b[1;32m   1708\u001b[0m                     warnings.warn(msg % (label_namer, func.__name__),\n\u001b[1;32m   1709\u001b[0m                                   RuntimeWarning, stacklevel=2)\n\u001b[0;32m-> 1710\u001b[0;31m             \u001b[0;32mreturn\u001b[0m \u001b[0mfunc\u001b[0m\u001b[0;34m(\u001b[0m\u001b[0max\u001b[0m\u001b[0;34m,\u001b[0m \u001b[0;34m*\u001b[0m\u001b[0margs\u001b[0m\u001b[0;34m,\u001b[0m \u001b[0;34m**\u001b[0m\u001b[0mkwargs\u001b[0m\u001b[0;34m)\u001b[0m\u001b[0;34m\u001b[0m\u001b[0m\n\u001b[0m\u001b[1;32m   1711\u001b[0m         \u001b[0mpre_doc\u001b[0m \u001b[0;34m=\u001b[0m \u001b[0minner\u001b[0m\u001b[0;34m.\u001b[0m\u001b[0m__doc__\u001b[0m\u001b[0;34m\u001b[0m\u001b[0m\n\u001b[1;32m   1712\u001b[0m         \u001b[0;32mif\u001b[0m \u001b[0mpre_doc\u001b[0m \u001b[0;32mis\u001b[0m \u001b[0;32mNone\u001b[0m\u001b[0;34m:\u001b[0m\u001b[0;34m\u001b[0m\u001b[0m\n",
      "\u001b[0;32m/usr/local/lib/python3.4/dist-packages/matplotlib/axes/_axes.py\u001b[0m in \u001b[0;36mplot\u001b[0;34m(self, *args, **kwargs)\u001b[0m\n\u001b[1;32m   1435\u001b[0m         \u001b[0mkwargs\u001b[0m \u001b[0;34m=\u001b[0m \u001b[0mcbook\u001b[0m\u001b[0;34m.\u001b[0m\u001b[0mnormalize_kwargs\u001b[0m\u001b[0;34m(\u001b[0m\u001b[0mkwargs\u001b[0m\u001b[0;34m,\u001b[0m \u001b[0m_alias_map\u001b[0m\u001b[0;34m)\u001b[0m\u001b[0;34m\u001b[0m\u001b[0m\n\u001b[1;32m   1436\u001b[0m \u001b[0;34m\u001b[0m\u001b[0m\n\u001b[0;32m-> 1437\u001b[0;31m         \u001b[0;32mfor\u001b[0m \u001b[0mline\u001b[0m \u001b[0;32min\u001b[0m \u001b[0mself\u001b[0m\u001b[0;34m.\u001b[0m\u001b[0m_get_lines\u001b[0m\u001b[0;34m(\u001b[0m\u001b[0;34m*\u001b[0m\u001b[0margs\u001b[0m\u001b[0;34m,\u001b[0m \u001b[0;34m**\u001b[0m\u001b[0mkwargs\u001b[0m\u001b[0;34m)\u001b[0m\u001b[0;34m:\u001b[0m\u001b[0;34m\u001b[0m\u001b[0m\n\u001b[0m\u001b[1;32m   1438\u001b[0m             \u001b[0mself\u001b[0m\u001b[0;34m.\u001b[0m\u001b[0madd_line\u001b[0m\u001b[0;34m(\u001b[0m\u001b[0mline\u001b[0m\u001b[0;34m)\u001b[0m\u001b[0;34m\u001b[0m\u001b[0m\n\u001b[1;32m   1439\u001b[0m             \u001b[0mlines\u001b[0m\u001b[0;34m.\u001b[0m\u001b[0mappend\u001b[0m\u001b[0;34m(\u001b[0m\u001b[0mline\u001b[0m\u001b[0;34m)\u001b[0m\u001b[0;34m\u001b[0m\u001b[0m\n",
      "\u001b[0;32m/usr/local/lib/python3.4/dist-packages/matplotlib/axes/_base.py\u001b[0m in \u001b[0;36m_grab_next_args\u001b[0;34m(self, *args, **kwargs)\u001b[0m\n\u001b[1;32m    402\u001b[0m                 \u001b[0mthis\u001b[0m \u001b[0;34m+=\u001b[0m \u001b[0margs\u001b[0m\u001b[0;34m[\u001b[0m\u001b[0;36m0\u001b[0m\u001b[0;34m]\u001b[0m\u001b[0;34m,\u001b[0m\u001b[0;34m\u001b[0m\u001b[0m\n\u001b[1;32m    403\u001b[0m                 \u001b[0margs\u001b[0m \u001b[0;34m=\u001b[0m \u001b[0margs\u001b[0m\u001b[0;34m[\u001b[0m\u001b[0;36m1\u001b[0m\u001b[0;34m:\u001b[0m\u001b[0;34m]\u001b[0m\u001b[0;34m\u001b[0m\u001b[0m\n\u001b[0;32m--> 404\u001b[0;31m             \u001b[0;32mfor\u001b[0m \u001b[0mseg\u001b[0m \u001b[0;32min\u001b[0m \u001b[0mself\u001b[0m\u001b[0;34m.\u001b[0m\u001b[0m_plot_args\u001b[0m\u001b[0;34m(\u001b[0m\u001b[0mthis\u001b[0m\u001b[0;34m,\u001b[0m \u001b[0mkwargs\u001b[0m\u001b[0;34m)\u001b[0m\u001b[0;34m:\u001b[0m\u001b[0;34m\u001b[0m\u001b[0m\n\u001b[0m\u001b[1;32m    405\u001b[0m                 \u001b[0;32myield\u001b[0m \u001b[0mseg\u001b[0m\u001b[0;34m\u001b[0m\u001b[0m\n\u001b[1;32m    406\u001b[0m \u001b[0;34m\u001b[0m\u001b[0m\n",
      "\u001b[0;32m/usr/local/lib/python3.4/dist-packages/matplotlib/axes/_base.py\u001b[0m in \u001b[0;36m_plot_args\u001b[0;34m(self, tup, kwargs)\u001b[0m\n\u001b[1;32m    382\u001b[0m             \u001b[0mx\u001b[0m\u001b[0;34m,\u001b[0m \u001b[0my\u001b[0m \u001b[0;34m=\u001b[0m \u001b[0mindex_of\u001b[0m\u001b[0;34m(\u001b[0m\u001b[0mtup\u001b[0m\u001b[0;34m[\u001b[0m\u001b[0;34m-\u001b[0m\u001b[0;36m1\u001b[0m\u001b[0;34m]\u001b[0m\u001b[0;34m)\u001b[0m\u001b[0;34m\u001b[0m\u001b[0m\n\u001b[1;32m    383\u001b[0m \u001b[0;34m\u001b[0m\u001b[0m\n\u001b[0;32m--> 384\u001b[0;31m         \u001b[0mx\u001b[0m\u001b[0;34m,\u001b[0m \u001b[0my\u001b[0m \u001b[0;34m=\u001b[0m \u001b[0mself\u001b[0m\u001b[0;34m.\u001b[0m\u001b[0m_xy_from_xy\u001b[0m\u001b[0;34m(\u001b[0m\u001b[0mx\u001b[0m\u001b[0;34m,\u001b[0m \u001b[0my\u001b[0m\u001b[0;34m)\u001b[0m\u001b[0;34m\u001b[0m\u001b[0m\n\u001b[0m\u001b[1;32m    385\u001b[0m \u001b[0;34m\u001b[0m\u001b[0m\n\u001b[1;32m    386\u001b[0m         \u001b[0;32mif\u001b[0m \u001b[0mself\u001b[0m\u001b[0;34m.\u001b[0m\u001b[0mcommand\u001b[0m \u001b[0;34m==\u001b[0m \u001b[0;34m'plot'\u001b[0m\u001b[0;34m:\u001b[0m\u001b[0;34m\u001b[0m\u001b[0m\n",
      "\u001b[0;32m/usr/local/lib/python3.4/dist-packages/matplotlib/axes/_base.py\u001b[0m in \u001b[0;36m_xy_from_xy\u001b[0;34m(self, x, y)\u001b[0m\n\u001b[1;32m    241\u001b[0m         \u001b[0;32mif\u001b[0m \u001b[0mx\u001b[0m\u001b[0;34m.\u001b[0m\u001b[0mshape\u001b[0m\u001b[0;34m[\u001b[0m\u001b[0;36m0\u001b[0m\u001b[0;34m]\u001b[0m \u001b[0;34m!=\u001b[0m \u001b[0my\u001b[0m\u001b[0;34m.\u001b[0m\u001b[0mshape\u001b[0m\u001b[0;34m[\u001b[0m\u001b[0;36m0\u001b[0m\u001b[0;34m]\u001b[0m\u001b[0;34m:\u001b[0m\u001b[0;34m\u001b[0m\u001b[0m\n\u001b[1;32m    242\u001b[0m             raise ValueError(\"x and y must have same first dimension, but \"\n\u001b[0;32m--> 243\u001b[0;31m                              \"have shapes {} and {}\".format(x.shape, y.shape))\n\u001b[0m\u001b[1;32m    244\u001b[0m         \u001b[0;32mif\u001b[0m \u001b[0mx\u001b[0m\u001b[0;34m.\u001b[0m\u001b[0mndim\u001b[0m \u001b[0;34m>\u001b[0m \u001b[0;36m2\u001b[0m \u001b[0;32mor\u001b[0m \u001b[0my\u001b[0m\u001b[0;34m.\u001b[0m\u001b[0mndim\u001b[0m \u001b[0;34m>\u001b[0m \u001b[0;36m2\u001b[0m\u001b[0;34m:\u001b[0m\u001b[0;34m\u001b[0m\u001b[0m\n\u001b[1;32m    245\u001b[0m             raise ValueError(\"x and y can be no greater than 2-D, but have \"\n",
      "\u001b[0;31mValueError\u001b[0m: x and y must have same first dimension, but have shapes (15,) and (19,)"
     ]
    }
   ],
   "source": [
    "b=0 # 0- cos, 1-euc\n",
    "dm_list = ['cos','euc']\n",
    "l_ex = np.shape(S)[0]\n",
    "eps_try = np.logspace(np.log10(.5),np.log10(1E-6),15) \n",
    "eps_try = eps_try[:np.shape(dist_mets)[0]]\n",
    "plt.plot(-np.log10(eps_try),T(dist_mets)[0+b],label='Proj Space')\n",
    "plt.plot(-np.log10(eps_try),T(dist_mets)[2+b],label='LSH Bloom Filter')\n",
    "# plt.plot(-np.log10(eps_try),T(dist_mets)[4+b],label='Hash Bloom Filter')\n",
    "plt.plot(-np.log10(eps_try),T(dist_mets)[4+b],label='ORN Closest in KC')\n",
    "# plt.semilogx(eps_try,T(dist_mets)[0],label='Proj Space')\n",
    "# plt.semilogx(eps_try,T(dist_mets)[1],label='LSH Bloom Filter')\n",
    "# plt.semilogx(eps_try,T(dist_mets)[2],label='Hash Bloom Filter')\n",
    "plt.xlabel('$-Log_{10}$ $E(R_{FP})$')\n",
    "plt.ylabel('Corr ORN Distance(%s)' %dm_list[b])\n",
    "plt.legend()\n",
    "plt.title('%s, (N=%d)' %(dat_use,l_ex))\n",
    "plt.show()\n"
   ]
  },
  {
   "cell_type": "code",
   "execution_count": 9,
   "metadata": {},
   "outputs": [
    {
     "data": {
      "text/plain": [
       "(200, 50)"
      ]
     },
     "execution_count": 9,
     "metadata": {},
     "output_type": "execute_result"
    }
   ],
   "source": [
    "np.shape(q)"
   ]
  },
  {
   "cell_type": "code",
   "execution_count": 18,
   "metadata": {
    "collapsed": true
   },
   "outputs": [],
   "source": [
    "?np.random.exponential"
   ]
  },
  {
   "cell_type": "code",
   "execution_count": 23,
   "metadata": {},
   "outputs": [
    {
     "name": "stdout",
     "output_type": "stream",
     "text": [
      "Erand30_d1:30_PROJ:SB4_both_m:100_k:6_eps:6.7e-01  OGDIST:0.23 PROJ: 0.49 0.37, LSHBLOOM: -0.03 -0.04, HBLOOM -0.01 -0.03\n",
      "Erand30_d1:30_PROJ:SB4_both_m:200_k:13_eps:7.7e-01  OGDIST:0.23 PROJ: 0.34 0.22, LSHBLOOM: 0.10 0.07, HBLOOM 0.24 0.20\n"
     ]
    },
    {
     "name": "stderr",
     "output_type": "stream",
     "text": [
      "/usr/local/lib/python3.4/dist-packages/scipy/stats/stats.py:3003: RuntimeWarning: invalid value encountered in double_scalars\n",
      "  r = r_num / r_den\n"
     ]
    },
    {
     "name": "stdout",
     "output_type": "stream",
     "text": [
      "Erand30_d1:30_PROJ:SB4_both_m:300_k:20_eps:8.0e-01  OGDIST:0.23 PROJ: 0.55 0.35, LSHBLOOM: nan nan, HBLOOM 0.16 0.11\n",
      "Erand30_d1:30_PROJ:SB4_both_m:400_k:26_eps:7.7e-01  OGDIST:0.23 PROJ: 0.46 0.26, LSHBLOOM: 0.05 0.03, HBLOOM 0.05 0.06\n",
      "Erand30_d1:30_PROJ:SB4_both_m:500_k:33_eps:7.9e-01  OGDIST:0.23 PROJ: 0.61 0.46, LSHBLOOM: 0.16 0.13, HBLOOM 0.17 0.14\n",
      "Erand30_d1:30_PROJ:SB4_both_m:600_k:40_eps:8.0e-01  OGDIST:0.23 PROJ: 0.51 0.35, LSHBLOOM: 0.21 0.17, HBLOOM 0.00 0.03\n",
      "Erand30_d1:30_PROJ:SB4_both_m:700_k:46_eps:7.8e-01  OGDIST:0.23 PROJ: 0.48 0.32, LSHBLOOM: 0.24 0.21, HBLOOM 0.08 0.07\n",
      "Erand30_d1:30_PROJ:SB4_both_m:800_k:53_eps:7.9e-01  OGDIST:0.23 PROJ: 0.61 0.42, LSHBLOOM: 0.14 0.12, HBLOOM -0.01 0.02\n",
      "Erand30_d1:30_PROJ:SB4_both_m:900_k:60_eps:8.0e-01  OGDIST:0.23 PROJ: 0.61 0.41, LSHBLOOM: -0.08 -0.07, HBLOOM 0.04 0.05\n",
      "Erand30_d1:30_PROJ:SB4_both_m:1000_k:66_eps:7.9e-01  OGDIST:0.23 PROJ: 0.52 0.32, LSHBLOOM: 0.09 0.08, HBLOOM -0.12 -0.07\n"
     ]
    }
   ],
   "source": [
    "dm = 'both'\n",
    "m_try = np.arange(100,1001,100)\n",
    "dist_mets = list()\n",
    "for m in m_try:\n",
    "    dist_mets.append(compute_distance_metrics.get_distance_metrics(S,q,m=m,k=int(m/15),app_str=dat_use,\n",
    "                                                                   dist_met=dm,text_out=False,ORN_SPECIAL=True))"
   ]
  },
  {
   "cell_type": "code",
   "execution_count": 4,
   "metadata": {},
   "outputs": [
    {
     "name": "stdout",
     "output_type": "stream",
     "text": [
      "Erand50_d1:50_PROJ:SB4_both_m:500_k:2_eps:8.2e-53  OGDIST:0.27 PROJ: -0.05 -0.02, LSHBLOOM: 0.08 0.09, HBLOOM -0.07 -0.02\n",
      "Erand50_d1:50_PROJ:SB4_both_m:500_k:7_eps:2.9e-07  OGDIST:0.27 PROJ: 0.31 0.18, LSHBLOOM: 0.15 0.11, HBLOOM 0.32 0.20\n",
      "Erand50_d1:50_PROJ:SB4_both_m:500_k:12_eps:9.1e-02  OGDIST:0.27 PROJ: 0.27 0.18, LSHBLOOM: -0.01 0.03, HBLOOM 0.26 0.19\n",
      "Erand50_d1:50_PROJ:SB4_both_m:500_k:17_eps:6.7e-01  OGDIST:0.27 PROJ: 0.20 0.09, LSHBLOOM: -0.01 -0.01, HBLOOM 0.32 0.22\n"
     ]
    },
    {
     "name": "stderr",
     "output_type": "stream",
     "text": [
      "/usr/local/lib/python3.4/dist-packages/scipy/stats/stats.py:3003: RuntimeWarning: invalid value encountered in double_scalars\n",
      "  r = r_num / r_den\n"
     ]
    },
    {
     "name": "stdout",
     "output_type": "stream",
     "text": [
      "Erand50_d1:50_PROJ:SB4_both_m:500_k:22_eps:9.4e-01  OGDIST:0.27 PROJ: 0.03 0.05, LSHBLOOM: nan nan, HBLOOM 0.13 0.11\n",
      "Erand50_d1:50_PROJ:SB4_both_m:500_k:27_eps:9.9e-01  OGDIST:0.27 PROJ: 0.27 0.17, LSHBLOOM: nan nan, HBLOOM 0.25 0.13\n",
      "Erand50_d1:50_PROJ:SB4_both_m:500_k:32_eps:1.0e+00  OGDIST:0.27 PROJ: 0.28 0.18, LSHBLOOM: nan nan, HBLOOM 0.30 0.15\n",
      "Erand50_d1:50_PROJ:SB4_both_m:500_k:37_eps:1.0e+00  OGDIST:0.27 PROJ: 0.21 0.14, LSHBLOOM: nan nan, HBLOOM 0.27 0.18\n",
      "Erand50_d1:50_PROJ:SB4_both_m:500_k:42_eps:1.0e+00  OGDIST:0.27 PROJ: 0.18 0.13, LSHBLOOM: nan nan, HBLOOM 0.28 0.20\n",
      "Erand50_d1:50_PROJ:SB4_both_m:500_k:47_eps:1.0e+00  OGDIST:0.27 PROJ: 0.29 0.19, LSHBLOOM: nan nan, HBLOOM 0.29 0.17\n",
      "Erand50_d1:50_PROJ:SB4_both_m:500_k:52_eps:1.0e+00  OGDIST:0.27 PROJ: 0.10 0.06, LSHBLOOM: nan nan, HBLOOM 0.19 0.14\n",
      "Erand50_d1:50_PROJ:SB4_both_m:500_k:57_eps:1.0e+00  OGDIST:0.27 PROJ: 0.16 0.12, LSHBLOOM: nan nan, HBLOOM 0.22 0.15\n",
      "Erand50_d1:50_PROJ:SB4_both_m:500_k:62_eps:1.0e+00  OGDIST:0.27 PROJ: 0.14 0.10, LSHBLOOM: nan nan, HBLOOM 0.21 0.14\n",
      "Erand50_d1:50_PROJ:SB4_both_m:500_k:67_eps:1.0e+00  OGDIST:0.27 PROJ: 0.35 0.21, LSHBLOOM: nan nan, HBLOOM 0.34 0.19\n",
      "Erand50_d1:50_PROJ:SB4_both_m:500_k:72_eps:1.0e+00  OGDIST:0.27 PROJ: 0.16 0.11, LSHBLOOM: nan nan, HBLOOM 0.29 0.18\n",
      "Erand50_d1:50_PROJ:SB4_both_m:500_k:77_eps:1.0e+00  OGDIST:0.27 PROJ: 0.18 0.13, LSHBLOOM: nan nan, HBLOOM 0.19 0.10\n",
      "Erand50_d1:50_PROJ:SB4_both_m:500_k:82_eps:1.0e+00  OGDIST:0.27 PROJ: 0.25 0.18, LSHBLOOM: nan nan, HBLOOM 0.19 0.11\n",
      "Erand50_d1:50_PROJ:SB4_both_m:500_k:87_eps:1.0e+00  OGDIST:0.27 PROJ: 0.31 0.16, LSHBLOOM: nan nan, HBLOOM 0.32 0.19\n",
      "Erand50_d1:50_PROJ:SB4_both_m:500_k:92_eps:1.0e+00  OGDIST:0.27 PROJ: 0.28 0.18, LSHBLOOM: nan nan, HBLOOM 0.20 0.12\n",
      "Erand50_d1:50_PROJ:SB4_both_m:500_k:97_eps:1.0e+00  OGDIST:0.27 PROJ: 0.40 0.21, LSHBLOOM: nan nan, HBLOOM 0.38 0.20\n",
      "Erand50_d1:50_PROJ:SB4_both_m:500_k:102_eps:1.0e+00  OGDIST:0.27 PROJ: 0.33 0.23, LSHBLOOM: nan nan, HBLOOM 0.37 0.25\n",
      "Erand50_d1:50_PROJ:SB4_both_m:500_k:107_eps:1.0e+00  OGDIST:0.27 PROJ: 0.38 0.22, LSHBLOOM: nan nan, HBLOOM 0.39 0.25\n",
      "Erand50_d1:50_PROJ:SB4_both_m:500_k:112_eps:1.0e+00  OGDIST:0.27 PROJ: 0.38 0.22, LSHBLOOM: nan nan, HBLOOM 0.40 0.24\n",
      "Erand50_d1:50_PROJ:SB4_both_m:500_k:117_eps:1.0e+00  OGDIST:0.27 PROJ: 0.55 0.34, LSHBLOOM: nan nan, HBLOOM 0.46 0.25\n",
      "Erand50_d1:50_PROJ:SB4_both_m:500_k:122_eps:1.0e+00  OGDIST:0.27 PROJ: 0.46 0.29, LSHBLOOM: nan nan, HBLOOM 0.42 0.27\n",
      "Erand50_d1:50_PROJ:SB4_both_m:500_k:127_eps:1.0e+00  OGDIST:0.27 PROJ: 0.46 0.26, LSHBLOOM: nan nan, HBLOOM 0.40 0.23\n",
      "Erand50_d1:50_PROJ:SB4_both_m:500_k:132_eps:1.0e+00  OGDIST:0.27 PROJ: 0.47 0.30, LSHBLOOM: nan nan, HBLOOM 0.50 0.33\n",
      "Erand50_d1:50_PROJ:SB4_both_m:500_k:137_eps:1.0e+00  OGDIST:0.27 PROJ: 0.46 0.32, LSHBLOOM: nan nan, HBLOOM 0.48 0.33\n",
      "Erand50_d1:50_PROJ:SB4_both_m:500_k:142_eps:1.0e+00  OGDIST:0.27 PROJ: 0.52 0.32, LSHBLOOM: nan nan, HBLOOM 0.47 0.28\n",
      "Erand50_d1:50_PROJ:SB4_both_m:500_k:147_eps:1.0e+00  OGDIST:0.27 PROJ: 0.45 0.25, LSHBLOOM: nan nan, HBLOOM 0.47 0.28\n"
     ]
    }
   ],
   "source": [
    "dm = 'both'\n",
    "k_try = np.arange(2,150,5)\n",
    "m = 500\n",
    "dist_mets = list()\n",
    "for k in k_try:\n",
    "    dist_mets.append(compute_distance_metrics.get_distance_metrics(S,q,m=m,k=k,app_str=dat_use,\n",
    "                                                                   dist_met=dm,text_out=False,ORN_SPECIAL=True))"
   ]
  },
  {
   "cell_type": "code",
   "execution_count": null,
   "metadata": {
    "collapsed": true
   },
   "outputs": [],
   "source": [
    "def closest_ind(S,q): # to test ORN output\n",
    "    return np.argmax([cos_sim(s,q) for s in S])\n",
    "def cos_sim(a,b):\n",
    "    return np.dot(a,b)/(np.sqrt(np.sum(a**2)) * np.sqrt(np.sum(b**2)))\n"
   ]
  },
  {
   "cell_type": "code",
   "execution_count": 6,
   "metadata": {},
   "outputs": [
    {
     "data": {
      "image/png": "[encoded data removed]",
      "text/plain": [
       "<matplotlib.figure.Figure at 0x7f0b3344b940>"
      ]
     },
     "metadata": {},
     "output_type": "display_data"
    }
   ],
   "source": [
    "b=1 # 0- cos, 1-euc\n",
    "dm_list = ['COS','EUC']\n",
    "l_ex = np.shape(S)[0]\n",
    "\n",
    "plt.plot(k_try,T(dist_mets)[0+b],label='Proj Space')\n",
    "plt.plot(k_try,T(dist_mets)[2+b],label='LSH Bloom Filter')\n",
    "# plt.plot(-np.log10(eps_try),T(dist_mets)[4+b],label='Hash Bloom Filter')\n",
    "plt.plot(k_try,T(dist_mets)[4+b],label='ORN Closest in KC')\n",
    "\n",
    "plt.xlabel('k')\n",
    "plt.ylabel('Corr ORN Distance [%s]' %dm_list[b])\n",
    "plt.legend()\n",
    "plt.title('%s, (N=%d, m=%d)' %(dat_use,l_ex,m))\n",
    "plt.show()\n"
   ]
  },
  {
   "cell_type": "code",
   "execution_count": 95,
   "metadata": {},
   "outputs": [],
   "source": [
    "from multiprocessing import Pool\n",
    "\n"
   ]
  },
  {
   "cell_type": "code",
   "execution_count": 137,
   "metadata": {},
   "outputs": [],
   "source": [
    "n_run = 5\n",
    "def easy_dist(inputs):\n",
    "#     print(np.shape(m))\n",
    "    m,k_ratio = inputs\n",
    "    k = int(m/k_ratio)\n",
    "    out = list() # just do 1 to test\n",
    "    for i in range(n_run):\n",
    "        out.append(compute_distance_metrics.get_distance_metrics(S,q,m=m,k=k,app_str=dat_use,\n",
    "                                                                   dist_met=dm,text_out=False,ORN_SPECIAL=True))\n",
    "    out = np.mean(out,axis=0)\n",
    "    return (out,m,k)\n",
    "    "
   ]
  },
  {
   "cell_type": "code",
   "execution_count": 138,
   "metadata": {},
   "outputs": [
    {
     "name": "stdout",
     "output_type": "stream",
     "text": [
      "Erand50_d1:50_PROJ:SB4_both_m:5000_k:50_eps:4.0e-21  OGDIST:0.30 PROJ: 0.64 0.40, LSHBLOOM: 0.44 0.32, HBLOOM 0.61 0.38\n",
      "Erand50_d1:50_PROJ:SB4_both_m:5000_k:107_eps:7.0e-07  OGDIST:0.30 PROJ: 0.49 0.30, LSHBLOOM: 0.25 0.16, HBLOOM 0.46 0.29\n",
      "Erand50_d1:50_PROJ:SB4_both_m:6000_k:88_eps:7.1e-13  OGDIST:0.30 PROJ: 0.47 0.29, LSHBLOOM: 0.30 0.24, HBLOOM 0.47 0.28\n",
      "Erand50_d1:50_PROJ:SB4_both_m:5000_k:73_eps:5.9e-13  OGDIST:0.30 PROJ: 0.48 0.32, LSHBLOOM: 0.33 0.25, HBLOOM 0.55 0.34\n",
      "Erand50_d1:50_PROJ:SB4_both_m:6000_k:60_eps:4.0e-21  OGDIST:0.30 PROJ: 0.37 0.25, LSHBLOOM: 0.32 0.22, HBLOOM 0.48 0.30\n",
      "Erand50_d1:50_PROJ:SB4_both_m:6000_k:129_eps:8.0e-07  OGDIST:0.30 PROJ: 0.44 0.23, LSHBLOOM: 0.35 0.26, HBLOOM 0.50 0.28\n",
      "Erand50_d1:50_PROJ:SB4_both_m:5000_k:158_eps:4.5e-03  OGDIST:0.30 PROJ: 0.40 0.23, LSHBLOOM: 0.04 0.04, HBLOOM 0.43 0.26\n",
      "Erand50_d1:50_PROJ:SB4_both_m:5000_k:232_eps:2.5e-01  OGDIST:0.30 PROJ: 0.30 0.19, LSHBLOOM: 0.04 0.03, HBLOOM 0.37 0.24\n",
      "Erand50_d1:50_PROJ:SB4_both_m:6000_k:189_eps:4.3e-03  OGDIST:0.30 PROJ: 0.49 0.26, LSHBLOOM: 0.27 0.16, HBLOOM 0.44 0.20\n",
      "Erand50_d1:50_PROJ:SB4_both_m:9000_k:132_eps:7.1e-13  OGDIST:0.30 PROJ: 0.55 0.33, LSHBLOOM: 0.37 0.27, HBLOOM 0.55 0.32\n",
      "Erand50_d1:50_PROJ:SB4_both_m:5000_k:50_eps:4.0e-21  OGDIST:0.30 PROJ: 0.56 0.39, LSHBLOOM: 0.49 0.37, HBLOOM 0.57 0.35\n",
      "Erand50_d1:50_PROJ:SB4_both_m:6000_k:278_eps:2.5e-01  OGDIST:0.30 PROJ: 0.34 0.27, LSHBLOOM: 0.15 0.08, HBLOOM 0.40 0.27\n",
      "Erand50_d1:50_PROJ:SB4_both_m:5000_k:107_eps:7.0e-07  OGDIST:0.30 PROJ: 0.58 0.36, LSHBLOOM: 0.27 0.17, HBLOOM 0.51 0.28\n",
      "Erand50_d1:50_PROJ:SB4_both_m:8000_k:80_eps:4.0e-21  OGDIST:0.30 PROJ: 0.46 0.34, LSHBLOOM: 0.35 0.25, HBLOOM 0.41 0.30\n",
      "Erand50_d1:50_PROJ:SB4_both_m:7000_k:70_eps:4.0e-21  OGDIST:0.30 PROJ: 0.59 0.42, LSHBLOOM: 0.35 0.23, HBLOOM 0.62 0.39\n",
      "Erand50_d1:50_PROJ:SB4_both_m:6000_k:60_eps:4.0e-21  OGDIST:0.30 PROJ: 0.44 0.36, LSHBLOOM: 0.42 0.27, HBLOOM 0.49 0.35\n",
      "Erand50_d1:50_PROJ:SB4_both_m:7000_k:102_eps:5.4e-13  OGDIST:0.30 PROJ: 0.56 0.28, LSHBLOOM: 0.38 0.24, HBLOOM 0.59 0.31\n",
      "Erand50_d1:50_PROJ:SB4_both_m:5000_k:73_eps:5.9e-13  OGDIST:0.30 PROJ: 0.48 0.32, LSHBLOOM: 0.32 0.25, HBLOOM 0.50 0.31\n",
      "Erand50_d1:50_PROJ:SB4_both_m:8000_k:117_eps:6.3e-13  OGDIST:0.30 PROJ: 0.58 0.39, LSHBLOOM: 0.34 0.25, HBLOOM 0.59 0.34\n",
      "Erand50_d1:50_PROJ:SB4_both_m:6000_k:88_eps:7.1e-13  OGDIST:0.30 PROJ: 0.48 0.32, LSHBLOOM: 0.38 0.30, HBLOOM 0.50 0.30\n",
      "Erand50_d1:50_PROJ:SB4_both_m:10000_k:215_eps:8.0e-07  OGDIST:0.30 PROJ: 0.53 0.34, LSHBLOOM: 0.36 0.27, HBLOOM 0.52 0.33\n",
      "Erand50_d1:50_PROJ:SB4_both_m:5000_k:340_eps:8.2e-01  OGDIST:0.30 PROJ: 0.20 0.19, LSHBLOOM: -0.06 -0.05, HBLOOM 0.29 0.25\n",
      "Erand50_d1:50_PROJ:SB4_both_m:7000_k:150_eps:7.3e-07  OGDIST:0.30 PROJ: 0.44 0.32, LSHBLOOM: 0.30 0.22, HBLOOM 0.51 0.28\n",
      "Erand50_d1:50_PROJ:SB4_both_m:10000_k:100_eps:4.0e-21  OGDIST:0.30 PROJ: 0.65 0.38, LSHBLOOM: 0.39 0.27, HBLOOM 0.64 0.35\n",
      "Erand50_d1:50_PROJ:SB4_both_m:7000_k:221_eps:4.5e-03  OGDIST:0.30 PROJ: 0.51 0.32, LSHBLOOM: 0.16 0.10, HBLOOM 0.49 0.31\n",
      "Erand50_d1:50_PROJ:SB4_both_m:8000_k:172_eps:8.0e-07  OGDIST:0.30 PROJ: 0.55 0.34, LSHBLOOM: 0.30 0.22, HBLOOM 0.51 0.30\n",
      "Erand50_d1:50_PROJ:SB4_both_m:9000_k:90_eps:4.0e-21  OGDIST:0.30 PROJ: 0.46 0.27, LSHBLOOM: 0.33 0.21, HBLOOM 0.54 0.33\n",
      "Erand50_d1:50_PROJ:SB4_both_m:9000_k:284_eps:4.4e-03  OGDIST:0.30 PROJ: 0.48 0.28, LSHBLOOM: 0.14 0.11, HBLOOM 0.48 0.28\n",
      "Erand50_d1:50_PROJ:SB4_both_m:5000_k:50_eps:4.0e-21  OGDIST:0.30 PROJ: 0.54 0.34, LSHBLOOM: 0.39 0.21, HBLOOM 0.49 0.25\n",
      "Erand50_d1:50_PROJ:SB4_both_m:6000_k:408_eps:8.2e-01  OGDIST:0.30 PROJ: 0.20 0.17, LSHBLOOM: 0.19 0.16, HBLOOM 0.29 0.24\n",
      "Erand50_d1:50_PROJ:SB4_both_m:10000_k:146_eps:5.9e-13  OGDIST:0.30 PROJ: 0.64 0.46, LSHBLOOM: 0.42 0.32, HBLOOM 0.61 0.39\n",
      "Erand50_d1:50_PROJ:SB4_both_m:9000_k:193_eps:7.4e-07  OGDIST:0.30 PROJ: 0.58 0.32, LSHBLOOM: 0.30 0.21, HBLOOM 0.57 0.32\n",
      "Erand50_d1:50_PROJ:SB4_both_m:6000_k:129_eps:8.0e-07  OGDIST:0.30 PROJ: 0.51 0.29, LSHBLOOM: 0.31 0.23, HBLOOM 0.49 0.27\n",
      "Erand50_d1:50_PROJ:SB4_both_m:6000_k:60_eps:4.0e-21  OGDIST:0.30 PROJ: 0.67 0.46, LSHBLOOM: 0.46 0.33, HBLOOM 0.56 0.29\n",
      "Erand50_d1:50_PROJ:SB4_both_m:7000_k:70_eps:4.0e-21  OGDIST:0.30 PROJ: 0.63 0.39, LSHBLOOM: 0.30 0.19, HBLOOM 0.59 0.34\n",
      "Erand50_d1:50_PROJ:SB4_both_m:5000_k:158_eps:4.5e-03  OGDIST:0.30 PROJ: 0.42 0.26, LSHBLOOM: 0.17 0.09, HBLOOM 0.45 0.28\n",
      "Erand50_d1:50_PROJ:SB4_both_m:5000_k:107_eps:7.0e-07  OGDIST:0.30 PROJ: 0.47 0.27, LSHBLOOM: 0.35 0.25, HBLOOM 0.45 0.26\n",
      "Erand50_d1:50_PROJ:SB4_both_m:8000_k:252_eps:4.3e-03  OGDIST:0.30 PROJ: 0.51 0.28, LSHBLOOM: 0.28 0.18, HBLOOM 0.47 0.25\n",
      "Erand50_d1:50_PROJ:SB4_both_m:8000_k:80_eps:4.0e-21  OGDIST:0.30 PROJ: 0.63 0.38, LSHBLOOM: 0.32 0.20, HBLOOM 0.64 0.37\n"
     ]
    },
    {
     "name": "stderr",
     "output_type": "stream",
     "text": [
      "/usr/local/lib/python3.4/dist-packages/scipy/stats/stats.py:3003: RuntimeWarning: invalid value encountered in double_scalars\n",
      "  r = r_num / r_den\n"
     ]
    },
    {
     "name": "stdout",
     "output_type": "stream",
     "text": [
      "Erand50_d1:50_PROJ:SB4_both_m:7000_k:324_eps:2.4e-01  OGDIST:0.30 PROJ: 0.36 0.25, LSHBLOOM: 0.13 0.10, HBLOOM 0.40 0.26\n",
      "Erand50_d1:50_PROJ:SB4_both_m:5000_k:500_eps:9.9e-01  OGDIST:0.30 PROJ: 0.11 0.12, LSHBLOOM: nan nan, HBLOOM 0.23 0.22\n",
      "Erand50_d1:50_PROJ:SB4_both_m:5000_k:73_eps:5.9e-13  OGDIST:0.30 PROJ: 0.55 0.40, LSHBLOOM: 0.32 0.22, HBLOOM 0.51 0.30\n",
      "Erand50_d1:50_PROJ:SB4_both_m:7000_k:476_eps:8.2e-01  OGDIST:0.30 PROJ: 0.19 0.18, LSHBLOOM: 0.22 0.15, HBLOOM 0.29 0.25\n",
      "Erand50_d1:50_PROJ:SB4_both_m:5000_k:232_eps:2.5e-01  OGDIST:0.30 PROJ: 0.39 0.25, LSHBLOOM: 0.02 0.04, HBLOOM 0.40 0.24\n",
      "Erand50_d1:50_PROJ:SB4_both_m:7000_k:102_eps:5.4e-13  OGDIST:0.30 PROJ: 0.51 0.31, LSHBLOOM: 0.26 0.17, HBLOOM 0.50 0.28\n",
      "Erand50_d1:50_PROJ:SB4_both_m:6000_k:189_eps:4.3e-03  OGDIST:0.30 PROJ: 0.48 0.26, LSHBLOOM: 0.22 0.14, HBLOOM 0.47 0.27\n",
      "Erand50_d1:50_PROJ:SB4_both_m:6000_k:88_eps:7.1e-13  OGDIST:0.30 PROJ: 0.54 0.36, LSHBLOOM: 0.39 0.30, HBLOOM 0.54 0.30\n",
      "Erand50_d1:50_PROJ:SB4_both_m:9000_k:132_eps:7.1e-13  OGDIST:0.30 PROJ: 0.51 0.36, LSHBLOOM: 0.41 0.29, HBLOOM 0.50 0.29\n",
      "Erand50_d1:50_PROJ:SB4_both_m:8000_k:117_eps:6.3e-13  OGDIST:0.30 PROJ: 0.58 0.31, LSHBLOOM: 0.49 0.33, HBLOOM 0.56 0.32\n",
      "Erand50_d1:50_PROJ:SB4_both_m:9000_k:417_eps:2.5e-01  OGDIST:0.30 PROJ: 0.34 0.28, LSHBLOOM: 0.23 0.12, HBLOOM 0.37 0.27\n",
      "Erand50_d1:50_PROJ:SB4_both_m:8000_k:371_eps:2.5e-01  OGDIST:0.30 PROJ: 0.32 0.22, LSHBLOOM: 0.16 0.06, HBLOOM 0.37 0.25\n",
      "Erand50_d1:50_PROJ:SB4_both_m:5000_k:50_eps:4.0e-21  OGDIST:0.30 PROJ: 0.42 0.26, LSHBLOOM: 0.34 0.24, HBLOOM 0.55 0.32\n",
      "Erand50_d1:50_PROJ:SB4_both_m:10000_k:316_eps:4.5e-03  OGDIST:0.30 PROJ: 0.51 0.28, LSHBLOOM: 0.33 0.22, HBLOOM 0.47 0.25\n",
      "Erand50_d1:50_PROJ:SB4_both_m:6000_k:60_eps:4.0e-21  OGDIST:0.30 PROJ: 0.47 0.32, LSHBLOOM: 0.28 0.20, HBLOOM 0.49 0.31\n"
     ]
    },
    {
     "name": "stderr",
     "output_type": "stream",
     "text": [
      "/usr/local/lib/python3.4/dist-packages/scipy/stats/stats.py:3003: RuntimeWarning: invalid value encountered in double_scalars\n",
      "  r = r_num / r_den\n"
     ]
    },
    {
     "name": "stdout",
     "output_type": "stream",
     "text": [
      "Erand50_d1:50_PROJ:SB4_both_m:10000_k:100_eps:4.0e-21  OGDIST:0.30 PROJ: 0.51 0.35, LSHBLOOM: 0.38 0.28, HBLOOM 0.50 0.29\n",
      "Erand50_d1:50_PROJ:SB4_both_m:6000_k:600_eps:9.9e-01  OGDIST:0.30 PROJ: 0.17 0.14, LSHBLOOM: nan nan, HBLOOM 0.29 0.24\n",
      "Erand50_d1:50_PROJ:SB4_both_m:9000_k:90_eps:4.0e-21  OGDIST:0.30 PROJ: 0.59 0.39, LSHBLOOM: 0.41 0.30, HBLOOM 0.60 0.35\n",
      "Erand50_d1:50_PROJ:SB4_both_m:7000_k:150_eps:7.3e-07  OGDIST:0.30 PROJ: 0.53 0.33, LSHBLOOM: 0.31 0.23, HBLOOM 0.54 0.31\n",
      "Erand50_d1:50_PROJ:SB4_both_m:6000_k:278_eps:2.5e-01  OGDIST:0.30 PROJ: 0.38 0.23, LSHBLOOM: 0.10 -0.08, HBLOOM 0.41 0.25\n",
      "Erand50_d1:50_PROJ:SB4_both_m:5000_k:107_eps:7.0e-07  OGDIST:0.30 PROJ: 0.57 0.34, LSHBLOOM: 0.30 0.23, HBLOOM 0.61 0.37\n",
      "Erand50_d1:50_PROJ:SB4_both_m:8000_k:172_eps:8.0e-07  OGDIST:0.30 PROJ: 0.61 0.39, LSHBLOOM: 0.44 0.32, HBLOOM 0.55 0.34\n",
      "Erand50_d1:50_PROJ:SB4_both_m:5000_k:73_eps:5.9e-13  OGDIST:0.30 PROJ: 0.53 0.33, LSHBLOOM: 0.33 0.23, HBLOOM 0.52 0.30\n",
      "Erand50_d1:50_PROJ:SB4_both_m:10000_k:464_eps:2.5e-01  OGDIST:0.30 PROJ: 0.33 0.20, LSHBLOOM: 0.22 0.15, HBLOOM 0.36 0.22\n",
      "Erand50_d1:50_PROJ:SB4_both_m:6000_k:129_eps:8.0e-07  OGDIST:0.30 PROJ: 0.54 0.32, LSHBLOOM: 0.33 0.25, HBLOOM 0.51 0.31\n",
      "Erand50_d1:50_PROJ:SB4_both_m:7000_k:70_eps:4.0e-21  OGDIST:0.30 PROJ: 0.49 0.28, LSHBLOOM: 0.35 0.29, HBLOOM 0.49 0.29\n"
     ]
    },
    {
     "name": "stderr",
     "output_type": "stream",
     "text": [
      "/usr/local/lib/python3.4/dist-packages/scipy/stats/stats.py:3003: RuntimeWarning: invalid value encountered in double_scalars\n",
      "  r = r_num / r_den\n"
     ]
    },
    {
     "name": "stdout",
     "output_type": "stream",
     "text": [
      "Erand50_d1:50_PROJ:SB4_both_m:5000_k:340_eps:8.2e-01  OGDIST:0.30 PROJ: 0.17 0.18, LSHBLOOM: 0.09 0.10, HBLOOM 0.25 0.24\n",
      "Erand50_d1:50_PROJ:SB4_both_m:8000_k:80_eps:4.0e-21  OGDIST:0.30 PROJ: 0.61 0.37, LSHBLOOM: 0.50 0.33, HBLOOM 0.64 0.36\n",
      "Erand50_d1:50_PROJ:SB4_both_m:7000_k:700_eps:9.9e-01  OGDIST:0.30 PROJ: 0.21 0.20, LSHBLOOM: nan nan, HBLOOM 0.32 0.27\n",
      "Erand50_d1:50_PROJ:SB4_both_m:6000_k:88_eps:7.1e-13  OGDIST:0.30 PROJ: 0.60 0.36, LSHBLOOM: 0.35 0.25, HBLOOM 0.58 0.34\n",
      "Erand50_d1:50_PROJ:SB4_both_m:8000_k:545_eps:8.2e-01  OGDIST:0.30 PROJ: 0.22 0.21, LSHBLOOM: 0.01 0.02, HBLOOM 0.30 0.25\n",
      "Erand50_d1:50_PROJ:SB4_both_m:10000_k:215_eps:8.0e-07  OGDIST:0.30 PROJ: 0.47 0.26, LSHBLOOM: 0.40 0.23, HBLOOM 0.49 0.26\n",
      "Erand50_d1:50_PROJ:SB4_both_m:5000_k:158_eps:4.5e-03  OGDIST:0.30 PROJ: 0.50 0.29, LSHBLOOM: 0.31 0.22, HBLOOM 0.43 0.24\n",
      "Erand50_d1:50_PROJ:SB4_both_m:9000_k:613_eps:8.2e-01  OGDIST:0.30 PROJ: 0.23 0.20, LSHBLOOM: 0.05 0.08, HBLOOM 0.30 0.24\n",
      "Erand50_d1:50_PROJ:SB4_both_m:7000_k:221_eps:4.5e-03  OGDIST:0.30 PROJ: 0.48 0.27, LSHBLOOM: 0.21 0.13, HBLOOM 0.49 0.28\n",
      "Erand50_d1:50_PROJ:SB4_both_m:5000_k:50_eps:4.0e-21  OGDIST:0.30 PROJ: 0.55 0.35, LSHBLOOM: 0.43 0.30, HBLOOM 0.52 0.31\n",
      "Erand50_d1:50_PROJ:SB4_both_m:9000_k:193_eps:7.4e-07  OGDIST:0.30 PROJ: 0.54 0.33, LSHBLOOM: 0.42 0.31, HBLOOM 0.50 0.30\n",
      "Erand50_d1:50_PROJ:SB4_both_m:7000_k:102_eps:5.4e-13  OGDIST:0.30 PROJ: 0.55 0.34, LSHBLOOM: 0.35 0.25, HBLOOM 0.51 0.29\n",
      "Erand50_d1:50_PROJ:SB4_both_m:6000_k:189_eps:4.3e-03  OGDIST:0.30 PROJ: 0.54 0.34, LSHBLOOM: 0.29 0.24, HBLOOM 0.52 0.32\n",
      "Erand50_d1:50_PROJ:SB4_both_m:8000_k:117_eps:6.3e-13  OGDIST:0.30 PROJ: 0.64 0.39, LSHBLOOM: 0.40 0.30, HBLOOM 0.56 0.30\n",
      "Erand50_d1:50_PROJ:SB4_both_m:8000_k:252_eps:4.3e-03  OGDIST:0.30 PROJ: 0.45 0.28, LSHBLOOM: 0.18 0.11, HBLOOM 0.42 0.26\n",
      "Erand50_d1:50_PROJ:SB4_both_m:6000_k:60_eps:4.0e-21  OGDIST:0.30 PROJ: 0.52 0.31, LSHBLOOM: 0.29 0.18, HBLOOM 0.51 0.28\n",
      "Erand50_d1:50_PROJ:SB4_both_m:10000_k:146_eps:5.9e-13  OGDIST:0.30 PROJ: 0.55 0.36, LSHBLOOM: 0.42 0.34, HBLOOM 0.57 0.36\n",
      "Erand50_d1:50_PROJ:SB4_both_m:5000_k:232_eps:2.5e-01  OGDIST:0.30 PROJ: 0.31 0.23, LSHBLOOM: 0.18 0.16, HBLOOM 0.40 0.29\n",
      "Erand50_d1:50_PROJ:SB4_both_m:9000_k:132_eps:7.1e-13  OGDIST:0.30 PROJ: 0.56 0.41, LSHBLOOM: 0.37 0.26, HBLOOM 0.52 0.33\n",
      "Erand50_d1:50_PROJ:SB4_both_m:9000_k:284_eps:4.4e-03  OGDIST:0.30 PROJ: 0.46 0.25, LSHBLOOM: 0.24 0.19, HBLOOM 0.45 0.25\n",
      "Erand50_d1:50_PROJ:SB4_both_m:5000_k:73_eps:5.9e-13  OGDIST:0.30 PROJ: 0.44 0.28, LSHBLOOM: 0.37 0.26, HBLOOM 0.47 0.27\n",
      "Erand50_d1:50_PROJ:SB4_both_m:5000_k:107_eps:7.0e-07  OGDIST:0.30 PROJ: 0.50 0.29, LSHBLOOM: 0.29 0.22, HBLOOM 0.46 0.26\n",
      "Erand50_d1:50_PROJ:SB4_both_m:7000_k:324_eps:2.4e-01  OGDIST:0.30 PROJ: 0.40 0.25, LSHBLOOM: 0.14 0.08, HBLOOM 0.43 0.25\n",
      "Erand50_d1:50_PROJ:SB4_both_m:7000_k:70_eps:4.0e-21  OGDIST:0.30 PROJ: 0.52 0.28, LSHBLOOM: 0.26 0.16, HBLOOM 0.56 0.34\n",
      "Erand50_d1:50_PROJ:SB4_both_m:9000_k:90_eps:4.0e-21  OGDIST:0.30 PROJ: 0.60 0.37, LSHBLOOM: 0.48 0.32, HBLOOM 0.63 0.38\n",
      "Erand50_d1:50_PROJ:SB4_both_m:10000_k:100_eps:4.0e-21  OGDIST:0.30 PROJ: 0.55 0.35, LSHBLOOM: 0.45 0.33, HBLOOM 0.56 0.29\n",
      "Erand50_d1:50_PROJ:SB4_both_m:6000_k:129_eps:8.0e-07  OGDIST:0.30 PROJ: 0.54 0.34, LSHBLOOM: 0.39 0.23, HBLOOM 0.62 0.39\n",
      "Erand50_d1:50_PROJ:SB4_both_m:7000_k:150_eps:7.3e-07  OGDIST:0.30 PROJ: 0.57 0.37, LSHBLOOM: 0.38 0.20, HBLOOM 0.53 0.32\n",
      "Erand50_d1:50_PROJ:SB4_both_m:10000_k:681_eps:8.2e-01  OGDIST:0.30 PROJ: 0.21 0.18, LSHBLOOM: 0.29 0.12, HBLOOM 0.29 0.25\n",
      "Erand50_d1:50_PROJ:SB4_both_m:6000_k:88_eps:7.1e-13  OGDIST:0.30 PROJ: 0.48 0.27, LSHBLOOM: 0.21 0.15, HBLOOM 0.41 0.21\n"
     ]
    },
    {
     "name": "stderr",
     "output_type": "stream",
     "text": [
      "/usr/local/lib/python3.4/dist-packages/scipy/stats/stats.py:3003: RuntimeWarning: invalid value encountered in double_scalars\n",
      "  r = r_num / r_den\n"
     ]
    },
    {
     "name": "stdout",
     "output_type": "stream",
     "text": [
      "Erand50_d1:50_PROJ:SB4_both_m:6000_k:408_eps:8.2e-01  OGDIST:0.30 PROJ: 0.13 0.13, LSHBLOOM: -0.04 -0.09, HBLOOM 0.24 0.21\n",
      "Erand50_d1:50_PROJ:SB4_both_m:8000_k:800_eps:9.9e-01  OGDIST:0.30 PROJ: 0.14 0.14, LSHBLOOM: nan nan, HBLOOM 0.26 0.24\n",
      "Erand50_d1:50_PROJ:SB4_both_m:5000_k:158_eps:4.5e-03  OGDIST:0.30 PROJ: 0.57 0.37, LSHBLOOM: 0.15 0.11, HBLOOM 0.49 0.30\n",
      "Erand50_d1:50_PROJ:SB4_both_m:8000_k:80_eps:4.0e-21  OGDIST:0.30 PROJ: 0.56 0.34, LSHBLOOM: 0.42 0.28, HBLOOM 0.59 0.37\n",
      "Erand50_d1:50_PROJ:SB4_both_m:8000_k:172_eps:8.0e-07  OGDIST:0.30 PROJ: 0.50 0.27, LSHBLOOM: 0.23 0.15, HBLOOM 0.50 0.27\n",
      "Erand50_d1:50_PROJ:SB4_both_m:7000_k:102_eps:5.4e-13  OGDIST:0.30 PROJ: 0.50 0.29, LSHBLOOM: 0.38 0.27, HBLOOM 0.56 0.34\n",
      "Erand50_d1:50_PROJ:SB4_both_m:6000_k:278_eps:2.5e-01  OGDIST:0.30 PROJ: 0.33 0.21, LSHBLOOM: 0.20 0.15, HBLOOM 0.40 0.26\n",
      "Erand50_d1:50_PROJ:SB4_both_m:5000_k:500_eps:9.9e-01  OGDIST:0.30 PROJ: 0.15 0.18, LSHBLOOM: nan nan, HBLOOM 0.29 0.28\n",
      "Erand50_d1:50_PROJ:SB4_both_m:8000_k:117_eps:6.3e-13  OGDIST:0.30 PROJ: 0.62 0.41, LSHBLOOM: 0.41 0.29, HBLOOM 0.59 0.36\n",
      "Erand50_d1:50_PROJ:SB4_both_m:8000_k:371_eps:2.5e-01  OGDIST:0.30 PROJ: 0.40 0.26, LSHBLOOM: 0.10 0.07, HBLOOM 0.41 0.27\n",
      "Erand50_d1:50_PROJ:SB4_both_m:7000_k:476_eps:8.2e-01  OGDIST:0.30 PROJ: 0.25 0.19, LSHBLOOM: 0.01 -0.02, HBLOOM 0.31 0.23\n",
      "Erand50_d1:50_PROJ:SB4_both_m:10000_k:316_eps:4.5e-03  OGDIST:0.30 PROJ: 0.49 0.34, LSHBLOOM: 0.19 0.10, HBLOOM 0.50 0.32\n",
      "Erand50_d1:50_PROJ:SB4_both_m:7000_k:70_eps:4.0e-21  OGDIST:0.30 PROJ: 0.63 0.36, LSHBLOOM: 0.47 0.34, HBLOOM 0.61 0.33\n",
      "Erand50_d1:50_PROJ:SB4_both_m:9000_k:417_eps:2.5e-01  OGDIST:0.30 PROJ: 0.35 0.22, LSHBLOOM: 0.14 0.10, HBLOOM 0.39 0.26\n",
      "Erand50_d1:50_PROJ:SB4_both_m:6000_k:189_eps:4.3e-03  OGDIST:0.30 PROJ: 0.54 0.32, LSHBLOOM: 0.34 0.23, HBLOOM 0.50 0.27\n",
      "Erand50_d1:50_PROJ:SB4_both_m:9000_k:193_eps:7.4e-07  OGDIST:0.30 PROJ: 0.59 0.38, LSHBLOOM: 0.27 0.19, HBLOOM 0.53 0.32\n"
     ]
    },
    {
     "name": "stderr",
     "output_type": "stream",
     "text": [
      "/usr/local/lib/python3.4/dist-packages/scipy/stats/stats.py:3003: RuntimeWarning: invalid value encountered in double_scalars\n",
      "  r = r_num / r_den\n",
      "/usr/local/lib/python3.4/dist-packages/scipy/stats/stats.py:3003: RuntimeWarning: invalid value encountered in double_scalars\n",
      "  r = r_num / r_den\n"
     ]
    },
    {
     "name": "stdout",
     "output_type": "stream",
     "text": [
      "Erand50_d1:50_PROJ:SB4_both_m:10000_k:1000_eps:9.9e-01  OGDIST:0.30 PROJ: 0.19 0.18, LSHBLOOM: nan nan, HBLOOM 0.32 0.27\n",
      "Erand50_d1:50_PROJ:SB4_both_m:9000_k:900_eps:9.9e-01  OGDIST:0.30 PROJ: 0.16 0.16, LSHBLOOM: nan nan, HBLOOM 0.28 0.24\n",
      "Erand50_d1:50_PROJ:SB4_both_m:7000_k:221_eps:4.5e-03  OGDIST:0.30 PROJ: 0.49 0.29, LSHBLOOM: 0.27 0.15, HBLOOM 0.53 0.33\n",
      "Erand50_d1:50_PROJ:SB4_both_m:9000_k:90_eps:4.0e-21  OGDIST:0.30 PROJ: 0.63 0.38, LSHBLOOM: 0.43 0.24, HBLOOM 0.64 0.37\n",
      "Erand50_d1:50_PROJ:SB4_both_m:10000_k:215_eps:8.0e-07  OGDIST:0.30 PROJ: 0.52 0.29, LSHBLOOM: 0.31 0.24, HBLOOM 0.49 0.24\n",
      "Erand50_d1:50_PROJ:SB4_both_m:5000_k:340_eps:8.2e-01  OGDIST:0.30 PROJ: 0.21 0.15, LSHBLOOM: -0.03 -0.08, HBLOOM 0.32 0.24\n",
      "Erand50_d1:50_PROJ:SB4_both_m:6000_k:129_eps:8.0e-07  OGDIST:0.30 PROJ: 0.59 0.33, LSHBLOOM: 0.30 0.20, HBLOOM 0.56 0.32\n",
      "Erand50_d1:50_PROJ:SB4_both_m:5000_k:232_eps:2.5e-01  OGDIST:0.30 PROJ: 0.33 0.22, LSHBLOOM: 0.19 0.18, HBLOOM 0.38 0.25\n",
      "Erand50_d1:50_PROJ:SB4_both_m:9000_k:132_eps:7.1e-13  OGDIST:0.30 PROJ: 0.61 0.39, LSHBLOOM: 0.52 0.38, HBLOOM 0.65 0.42\n",
      "Erand50_d1:50_PROJ:SB4_both_m:8000_k:252_eps:4.3e-03  OGDIST:0.30 PROJ: 0.50 0.33, LSHBLOOM: 0.19 0.14, HBLOOM 0.46 0.32\n",
      "Erand50_d1:50_PROJ:SB4_both_m:10000_k:146_eps:5.9e-13  OGDIST:0.30 PROJ: 0.47 0.33, LSHBLOOM: 0.37 0.30, HBLOOM 0.44 0.24\n",
      "Erand50_d1:50_PROJ:SB4_both_m:8000_k:80_eps:4.0e-21  OGDIST:0.30 PROJ: 0.64 0.40, LSHBLOOM: 0.38 0.25, HBLOOM 0.62 0.37\n",
      "Erand50_d1:50_PROJ:SB4_both_m:7000_k:150_eps:7.3e-07  OGDIST:0.30 PROJ: 0.59 0.40, LSHBLOOM: 0.35 0.24, HBLOOM 0.56 0.32\n",
      "Erand50_d1:50_PROJ:SB4_both_m:10000_k:464_eps:2.5e-01  OGDIST:0.30 PROJ: 0.38 0.24, LSHBLOOM: 0.22 0.16, HBLOOM 0.39 0.25\n",
      "Erand50_d1:50_PROJ:SB4_both_m:5000_k:158_eps:4.5e-03  OGDIST:0.30 PROJ: 0.54 0.35, LSHBLOOM: 0.14 0.08, HBLOOM 0.47 0.30\n",
      "Erand50_d1:50_PROJ:SB4_both_m:6000_k:600_eps:9.9e-01  OGDIST:0.30 PROJ: 0.18 0.16, LSHBLOOM: nan nan, HBLOOM 0.28 0.23\n",
      "Erand50_d1:50_PROJ:SB4_both_m:7000_k:324_eps:2.4e-01  OGDIST:0.30 PROJ: 0.38 0.24, LSHBLOOM: 0.23 0.14, HBLOOM 0.42 0.27\n",
      "Erand50_d1:50_PROJ:SB4_both_m:10000_k:100_eps:4.0e-21  OGDIST:0.30 PROJ: 0.68 0.47, LSHBLOOM: 0.46 0.31, HBLOOM 0.66 0.44\n",
      "Erand50_d1:50_PROJ:SB4_both_m:8000_k:172_eps:8.0e-07  OGDIST:0.30 PROJ: 0.54 0.33, LSHBLOOM: 0.41 0.26, HBLOOM 0.53 0.31\n",
      "Erand50_d1:50_PROJ:SB4_both_m:8000_k:117_eps:6.3e-13  OGDIST:0.30 PROJ: 0.44 0.30, LSHBLOOM: 0.33 0.19, HBLOOM 0.52 0.31\n",
      "Erand50_d1:50_PROJ:SB4_both_m:7000_k:102_eps:5.4e-13  OGDIST:0.30 PROJ: 0.52 0.34, LSHBLOOM: 0.30 0.23, HBLOOM 0.54 0.33\n",
      "Erand50_d1:50_PROJ:SB4_both_m:9000_k:90_eps:4.0e-21  OGDIST:0.30 PROJ: 0.61 0.40, LSHBLOOM: 0.29 0.23, HBLOOM 0.64 0.39\n",
      "Erand50_d1:50_PROJ:SB4_both_m:6000_k:189_eps:4.3e-03  OGDIST:0.30 PROJ: 0.51 0.33, LSHBLOOM: 0.07 0.09, HBLOOM 0.53 0.36\n",
      "Erand50_d1:50_PROJ:SB4_both_m:8000_k:545_eps:8.2e-01  OGDIST:0.30 PROJ: 0.24 0.22, LSHBLOOM: 0.36 0.30, HBLOOM 0.32 0.26\n",
      "Erand50_d1:50_PROJ:SB4_both_m:6000_k:278_eps:2.5e-01  OGDIST:0.30 PROJ: 0.40 0.26, LSHBLOOM: 0.22 0.19, HBLOOM 0.44 0.26\n",
      "Erand50_d1:50_PROJ:SB4_both_m:9000_k:284_eps:4.4e-03  OGDIST:0.30 PROJ: 0.53 0.35, LSHBLOOM: 0.18 0.15, HBLOOM 0.49 0.31\n",
      "Erand50_d1:50_PROJ:SB4_both_m:9000_k:193_eps:7.4e-07  OGDIST:0.30 PROJ: 0.59 0.34, LSHBLOOM: 0.35 0.25, HBLOOM 0.52 0.28\n",
      "Erand50_d1:50_PROJ:SB4_both_m:7000_k:700_eps:9.9e-01  OGDIST:0.30 PROJ: 0.20 0.17, LSHBLOOM: nan nan, HBLOOM 0.32 0.27\n",
      "Erand50_d1:50_PROJ:SB4_both_m:9000_k:132_eps:7.1e-13  OGDIST:0.30 PROJ: 0.60 0.35, LSHBLOOM: 0.38 0.27, HBLOOM 0.60 0.37\n",
      "Erand50_d1:50_PROJ:SB4_both_m:9000_k:613_eps:8.2e-01  OGDIST:0.30 PROJ: 0.18 0.18, LSHBLOOM: 0.04 0.00, HBLOOM 0.28 0.26\n",
      "Erand50_d1:50_PROJ:SB4_both_m:7000_k:221_eps:4.5e-03  OGDIST:0.30 PROJ: 0.42 0.26, LSHBLOOM: 0.23 0.16, HBLOOM 0.40 0.24\n",
      "Erand50_d1:50_PROJ:SB4_both_m:7000_k:150_eps:7.3e-07  OGDIST:0.30 PROJ: 0.53 0.30, LSHBLOOM: 0.29 0.21, HBLOOM 0.54 0.32\n",
      "Erand50_d1:50_PROJ:SB4_both_m:10000_k:146_eps:5.9e-13  OGDIST:0.30 PROJ: 0.51 0.29, LSHBLOOM: 0.34 0.25, HBLOOM 0.54 0.31\n",
      "Erand50_d1:50_PROJ:SB4_both_m:5000_k:232_eps:2.5e-01  OGDIST:0.30 PROJ: 0.35 0.20, LSHBLOOM: 0.29 0.18, HBLOOM 0.41 0.25\n",
      "Erand50_d1:50_PROJ:SB4_both_m:5000_k:500_eps:9.9e-01  OGDIST:0.30 PROJ: 0.12 0.14, LSHBLOOM: nan nan, HBLOOM 0.26 0.23\n",
      "Erand50_d1:50_PROJ:SB4_both_m:5000_k:340_eps:8.2e-01  OGDIST:0.30 PROJ: 0.12 0.12, LSHBLOOM: 0.05 0.04, HBLOOM 0.22 0.20\n",
      "Erand50_d1:50_PROJ:SB4_both_m:8000_k:172_eps:8.0e-07  OGDIST:0.30 PROJ: 0.55 0.35, LSHBLOOM: 0.31 0.20, HBLOOM 0.53 0.31\n",
      "Erand50_d1:50_PROJ:SB4_both_m:9000_k:417_eps:2.5e-01  OGDIST:0.30 PROJ: 0.38 0.25, LSHBLOOM: 0.22 0.11, HBLOOM 0.44 0.30\n",
      "Erand50_d1:50_PROJ:SB4_both_m:10000_k:100_eps:4.0e-21  OGDIST:0.30 PROJ: 0.49 0.33, LSHBLOOM: 0.31 0.23, HBLOOM 0.49 0.31\n",
      "Erand50_d1:50_PROJ:SB4_both_m:8000_k:371_eps:2.5e-01  OGDIST:0.30 PROJ: 0.31 0.22, LSHBLOOM: 0.10 0.07, HBLOOM 0.36 0.26\n",
      "Erand50_d1:50_PROJ:SB4_both_m:7000_k:476_eps:8.2e-01  OGDIST:0.30 PROJ: 0.19 0.16, LSHBLOOM: 0.12 0.10, HBLOOM 0.28 0.22\n",
      "Erand50_d1:50_PROJ:SB4_both_m:7000_k:324_eps:2.4e-01  OGDIST:0.30 PROJ: 0.39 0.26, LSHBLOOM: 0.15 0.08, HBLOOM 0.40 0.25\n",
      "Erand50_d1:50_PROJ:SB4_both_m:6000_k:408_eps:8.2e-01  OGDIST:0.30 PROJ: 0.17 0.14, LSHBLOOM: 0.04 0.04, HBLOOM 0.27 0.21\n",
      "Erand50_d1:50_PROJ:SB4_both_m:10000_k:215_eps:8.0e-07  OGDIST:0.30 PROJ: 0.51 0.29, LSHBLOOM: 0.34 0.21, HBLOOM 0.54 0.31\n",
      "Erand50_d1:50_PROJ:SB4_both_m:8000_k:252_eps:4.3e-03  OGDIST:0.30 PROJ: 0.46 0.28, LSHBLOOM: 0.29 0.20, HBLOOM 0.43 0.27\n",
      "Erand50_d1:50_PROJ:SB4_both_m:6000_k:278_eps:2.5e-01  OGDIST:0.30 PROJ: 0.36 0.26, LSHBLOOM: 0.13 0.10, HBLOOM 0.36 0.23\n",
      "Erand50_d1:50_PROJ:SB4_both_m:9000_k:193_eps:7.4e-07  OGDIST:0.30 PROJ: 0.54 0.32, LSHBLOOM: 0.32 0.21, HBLOOM 0.53 0.30\n",
      "Erand50_d1:50_PROJ:SB4_both_m:8000_k:800_eps:9.9e-01  OGDIST:0.30 PROJ: 0.14 0.16, LSHBLOOM: nan nan, HBLOOM 0.26 0.24\n",
      "Erand50_d1:50_PROJ:SB4_both_m:7000_k:221_eps:4.5e-03  OGDIST:0.30 PROJ: 0.52 0.32, LSHBLOOM: 0.34 0.26, HBLOOM 0.47 0.29\n",
      "Erand50_d1:50_PROJ:SB4_both_m:10000_k:464_eps:2.5e-01  OGDIST:0.30 PROJ: 0.43 0.26, LSHBLOOM: 0.27 0.14, HBLOOM 0.46 0.29\n",
      "Erand50_d1:50_PROJ:SB4_both_m:10000_k:146_eps:5.9e-13  OGDIST:0.30 PROJ: 0.51 0.33, LSHBLOOM: 0.43 0.31, HBLOOM 0.54 0.32\n",
      "Erand50_d1:50_PROJ:SB4_both_m:10000_k:316_eps:4.5e-03  OGDIST:0.30 PROJ: 0.53 0.35, LSHBLOOM: 0.31 0.24, HBLOOM 0.49 0.31\n",
      "Erand50_d1:50_PROJ:SB4_both_m:6000_k:600_eps:9.9e-01  OGDIST:0.30 PROJ: 0.14 0.14, LSHBLOOM: nan nan, HBLOOM 0.26 0.25\n",
      "Erand50_d1:50_PROJ:SB4_both_m:5000_k:340_eps:8.2e-01  OGDIST:0.30 PROJ: 0.19 0.15, LSHBLOOM: 0.12 0.11, HBLOOM 0.30 0.24\n",
      "Erand50_d1:50_PROJ:SB4_both_m:8000_k:545_eps:8.2e-01  OGDIST:0.30 PROJ: 0.17 0.16, LSHBLOOM: -0.07 -0.04, HBLOOM 0.30 0.26\n",
      "Erand50_d1:50_PROJ:SB4_both_m:9000_k:900_eps:9.9e-01  OGDIST:0.30 PROJ: 0.16 0.16, LSHBLOOM: nan nan, HBLOOM 0.26 0.24\n",
      "Erand50_d1:50_PROJ:SB4_both_m:10000_k:215_eps:8.0e-07  OGDIST:0.30 PROJ: 0.55 0.33, LSHBLOOM: 0.25 0.15, HBLOOM 0.51 0.31\n",
      "Erand50_d1:50_PROJ:SB4_both_m:5000_k:500_eps:9.9e-01  OGDIST:0.30 PROJ: 0.14 0.15, LSHBLOOM: nan nan, HBLOOM 0.27 0.23\n",
      "Erand50_d1:50_PROJ:SB4_both_m:7000_k:324_eps:2.4e-01  OGDIST:0.30 PROJ: 0.35 0.20, LSHBLOOM: 0.21 0.12, HBLOOM 0.38 0.23\n",
      "Erand50_d1:50_PROJ:SB4_both_m:8000_k:371_eps:2.5e-01  OGDIST:0.30 PROJ: 0.35 0.26, LSHBLOOM: 0.08 0.07, HBLOOM 0.37 0.25\n",
      "Erand50_d1:50_PROJ:SB4_both_m:8000_k:252_eps:4.3e-03  OGDIST:0.30 PROJ: 0.50 0.27, LSHBLOOM: 0.25 0.13, HBLOOM 0.46 0.26\n",
      "Erand50_d1:50_PROJ:SB4_both_m:10000_k:1000_eps:9.9e-01  OGDIST:0.30 PROJ: 0.14 0.13, LSHBLOOM: nan nan, HBLOOM 0.26 0.23\n",
      "Erand50_d1:50_PROJ:SB4_both_m:9000_k:417_eps:2.5e-01  OGDIST:0.30 PROJ: 0.35 0.25, LSHBLOOM: 0.17 0.13, HBLOOM 0.36 0.23\n",
      "Erand50_d1:50_PROJ:SB4_both_m:9000_k:613_eps:8.2e-01  OGDIST:0.30 PROJ: 0.25 0.22, LSHBLOOM: -0.01 -0.01, HBLOOM 0.33 0.27\n",
      "Erand50_d1:50_PROJ:SB4_both_m:9000_k:284_eps:4.4e-03  OGDIST:0.30 PROJ: 0.51 0.28, LSHBLOOM: 0.21 0.17, HBLOOM 0.48 0.25\n",
      "Erand50_d1:50_PROJ:SB4_both_m:7000_k:700_eps:9.9e-01  OGDIST:0.30 PROJ: 0.18 0.16, LSHBLOOM: nan nan, HBLOOM 0.29 0.25\n",
      "Erand50_d1:50_PROJ:SB4_both_m:7000_k:476_eps:8.2e-01  OGDIST:0.30 PROJ: 0.25 0.21, LSHBLOOM: 0.30 0.17, HBLOOM 0.30 0.24\n",
      "Erand50_d1:50_PROJ:SB4_both_m:10000_k:681_eps:8.2e-01  OGDIST:0.30 PROJ: 0.21 0.19, LSHBLOOM: -0.01 -0.02, HBLOOM 0.30 0.24\n"
     ]
    },
    {
     "name": "stdout",
     "output_type": "stream",
     "text": [
      "Erand50_d1:50_PROJ:SB4_both_m:10000_k:464_eps:2.5e-01  OGDIST:0.30 PROJ: 0.40 0.21, LSHBLOOM: 0.20 0.15, HBLOOM 0.43 0.25\n",
      "Erand50_d1:50_PROJ:SB4_both_m:6000_k:600_eps:9.9e-01  OGDIST:0.30 PROJ: 0.17 0.17, LSHBLOOM: nan nan, HBLOOM 0.31 0.28\n",
      "Erand50_d1:50_PROJ:SB4_both_m:6000_k:408_eps:8.2e-01  OGDIST:0.30 PROJ: 0.18 0.16, LSHBLOOM: -0.05 -0.08, HBLOOM 0.23 0.21\n",
      "Erand50_d1:50_PROJ:SB4_both_m:8000_k:371_eps:2.5e-01  OGDIST:0.30 PROJ: 0.38 0.24, LSHBLOOM: 0.25 0.19, HBLOOM 0.42 0.26\n",
      "Erand50_d1:50_PROJ:SB4_both_m:8000_k:800_eps:9.9e-01  OGDIST:0.30 PROJ: 0.16 0.15, LSHBLOOM: nan nan, HBLOOM 0.29 0.25\n",
      "Erand50_d1:50_PROJ:SB4_both_m:5000_k:500_eps:9.9e-01  OGDIST:0.30 PROJ: 0.16 0.14, LSHBLOOM: nan nan, HBLOOM 0.28 0.26\n",
      "Erand50_d1:50_PROJ:SB4_both_m:8000_k:545_eps:8.2e-01  OGDIST:0.30 PROJ: 0.27 0.21, LSHBLOOM: 0.08 0.09, HBLOOM 0.34 0.25\n",
      "Erand50_d1:50_PROJ:SB4_both_m:9000_k:417_eps:2.5e-01  OGDIST:0.30 PROJ: 0.33 0.22, LSHBLOOM: 0.21 0.12, HBLOOM 0.38 0.24\n",
      "Erand50_d1:50_PROJ:SB4_both_m:10000_k:316_eps:4.5e-03  OGDIST:0.30 PROJ: 0.48 0.31, LSHBLOOM: 0.19 0.10, HBLOOM 0.43 0.26\n",
      "Erand50_d1:50_PROJ:SB4_both_m:7000_k:476_eps:8.2e-01  OGDIST:0.30 PROJ: 0.16 0.14, LSHBLOOM: 0.07 0.02, HBLOOM 0.25 0.22\n",
      "Erand50_d1:50_PROJ:SB4_both_m:9000_k:284_eps:4.4e-03  OGDIST:0.30 PROJ: 0.48 0.33, LSHBLOOM: 0.15 0.14, HBLOOM 0.44 0.28\n",
      "Erand50_d1:50_PROJ:SB4_both_m:9000_k:613_eps:8.2e-01  OGDIST:0.30 PROJ: 0.19 0.18, LSHBLOOM: 0.07 0.14, HBLOOM 0.31 0.26\n",
      "Erand50_d1:50_PROJ:SB4_both_m:7000_k:700_eps:9.9e-01  OGDIST:0.30 PROJ: 0.16 0.17, LSHBLOOM: nan nan, HBLOOM 0.29 0.26\n",
      "Erand50_d1:50_PROJ:SB4_both_m:9000_k:900_eps:9.9e-01  OGDIST:0.30 PROJ: 0.20 0.17, LSHBLOOM: nan nan, HBLOOM 0.30 0.25\n",
      "Erand50_d1:50_PROJ:SB4_both_m:10000_k:464_eps:2.5e-01  OGDIST:0.30 PROJ: 0.33 0.20, LSHBLOOM: 0.19 0.08, HBLOOM 0.36 0.21\n",
      "Erand50_d1:50_PROJ:SB4_both_m:6000_k:408_eps:8.2e-01  OGDIST:0.30 PROJ: 0.24 0.21, LSHBLOOM: -0.01 -0.05, HBLOOM 0.31 0.25\n",
      "Erand50_d1:50_PROJ:SB4_both_m:6000_k:600_eps:9.9e-01  OGDIST:0.30 PROJ: 0.16 0.16, LSHBLOOM: nan nan, HBLOOM 0.28 0.25\n",
      "Erand50_d1:50_PROJ:SB4_both_m:10000_k:1000_eps:9.9e-01  OGDIST:0.30 PROJ: 0.16 0.16, LSHBLOOM: nan nan, HBLOOM 0.27 0.24\n",
      "Erand50_d1:50_PROJ:SB4_both_m:8000_k:545_eps:8.2e-01  OGDIST:0.30 PROJ: 0.21 0.17, LSHBLOOM: 0.02 0.09, HBLOOM 0.30 0.24\n",
      "Erand50_d1:50_PROJ:SB4_both_m:8000_k:800_eps:9.9e-01  OGDIST:0.30 PROJ: 0.17 0.14, LSHBLOOM: -0.14 -0.11, HBLOOM 0.27 0.23\n",
      "Erand50_d1:50_PROJ:SB4_both_m:10000_k:316_eps:4.5e-03  OGDIST:0.30 PROJ: 0.45 0.27, LSHBLOOM: 0.22 0.18, HBLOOM 0.46 0.28\n",
      "Erand50_d1:50_PROJ:SB4_both_m:9000_k:613_eps:8.2e-01  OGDIST:0.30 PROJ: 0.17 0.18, LSHBLOOM: 0.04 0.09, HBLOOM 0.26 0.23\n",
      "Erand50_d1:50_PROJ:SB4_both_m:10000_k:681_eps:8.2e-01  OGDIST:0.30 PROJ: 0.19 0.18, LSHBLOOM: 0.12 0.12, HBLOOM 0.29 0.24\n",
      "Erand50_d1:50_PROJ:SB4_both_m:7000_k:700_eps:9.9e-01  OGDIST:0.30 PROJ: 0.15 0.13, LSHBLOOM: nan nan, HBLOOM 0.28 0.24\n",
      "Erand50_d1:50_PROJ:SB4_both_m:9000_k:900_eps:9.9e-01  OGDIST:0.30 PROJ: 0.17 0.16, LSHBLOOM: nan nan, HBLOOM 0.26 0.23\n",
      "Erand50_d1:50_PROJ:SB4_both_m:10000_k:1000_eps:9.9e-01  OGDIST:0.30 PROJ: 0.16 0.17, LSHBLOOM: nan nan, HBLOOM 0.29 0.26\n",
      "Erand50_d1:50_PROJ:SB4_both_m:8000_k:800_eps:9.9e-01  OGDIST:0.30 PROJ: 0.18 0.15, LSHBLOOM: nan nan, HBLOOM 0.29 0.24\n",
      "Erand50_d1:50_PROJ:SB4_both_m:10000_k:681_eps:8.2e-01  OGDIST:0.30 PROJ: 0.25 0.22, LSHBLOOM: 0.14 0.15, HBLOOM 0.32 0.25\n",
      "Erand50_d1:50_PROJ:SB4_both_m:9000_k:900_eps:9.9e-01  OGDIST:0.30 PROJ: 0.15 0.16, LSHBLOOM: nan nan, HBLOOM 0.25 0.21\n"
     ]
    }
   ],
   "source": [
    "# pool.close()\n",
    "pool = Pool()\n"
   ]
  },
  {
   "cell_type": "code",
   "execution_count": null,
   "metadata": {},
   "outputs": [],
   "source": [
    "# from itertools import combinations\n",
    "# combinations?\n",
    "\n",
    "k_ratio_try = np.logspace(np.log10(10),np.log10(100),7)\n",
    "iter_options = ((x,y) for x in m_try for y in k_ratio_try)\n",
    "# m = [x for x in m_try for y in k_ratio_try]\n",
    "# k = [y for x in m_try for y in k_ratio_try]\n",
    "\n",
    "ans = pool.map(easy_dist, zip(m,k))\n"
   ]
  },
  {
   "cell_type": "code",
   "execution_count": 134,
   "metadata": {},
   "outputs": [
    {
     "data": {
      "text/plain": [
       "[((0.15, -0.06, nan, nan, 0.27, -0.06), 5000, 500),\n",
       " ((0.19, -0.07, 0.04, 0.05, 0.28, -0.06), 5000, 340),\n",
       " ((0.35, 0.07, 0.13, 0.16, 0.35, -0.02), 5000, 232),\n",
       " ((0.5, 0.12, 0.28, 0.12, 0.48, 0.03), 5000, 158),\n",
       " ((0.59, 0.25, 0.17, 0.24, 0.56, 0.15), 5000, 107),\n",
       " ((0.61, 0.25, 0.35, 0.36, 0.59, 0.18), 5000, 73),\n",
       " ((0.59, 0.21, 0.41, 0.29, 0.57, 0.14), 5000, 50),\n",
       " ((0.14, -0.03, nan, nan, 0.25, -0.06), 6000, 600),\n",
       " ((0.22, -0.0, 0.09, 0.11, 0.31, -0.03), 6000, 408),\n",
       " ((0.39, 0.13, 0.24, 0.3, 0.44, 0.05), 6000, 278),\n",
       " ((0.46, 0.13, 0.34, 0.21, 0.45, 0.01), 6000, 189),\n",
       " ((0.52, 0.14, 0.24, 0.3, 0.49, 0.02), 6000, 129),\n",
       " ((0.59, 0.2, 0.33, 0.24, 0.59, 0.15), 6000, 88),\n",
       " ((0.52, 0.21, 0.44, 0.3, 0.56, 0.13), 6000, 60),\n",
       " ((0.2, -0.04, nan, nan, 0.3, -0.04), 7000, 700),\n",
       " ((0.19, -0.05, 0.09, 0.15, 0.26, -0.08), 7000, 476),\n",
       " ((0.28, 0.05, 0.14, 0.05, 0.35, -0.02), 7000, 324),\n",
       " ((0.5, 0.14, 0.24, 0.15, 0.44, -0.02), 7000, 221),\n",
       " ((0.57, 0.13, 0.27, 0.16, 0.5, 0.0), 7000, 150),\n",
       " ((0.57, 0.18, 0.38, 0.28, 0.59, 0.17), 7000, 102),\n",
       " ((0.46, 0.11, 0.34, 0.26, 0.54, 0.18), 7000, 70),\n",
       " ((0.14, -0.06, nan, nan, 0.28, -0.04), 8000, 800),\n",
       " ((0.17, -0.03, 0.18, 0.19, 0.27, -0.04), 8000, 545),\n",
       " ((0.43, 0.13, 0.21, 0.18, 0.43, 0.05), 8000, 371),\n",
       " ((0.5, 0.12, 0.25, 0.19, 0.46, 0.04), 8000, 252),\n",
       " ((0.51, 0.17, 0.24, 0.34, 0.45, 0.05), 8000, 172),\n",
       " ((0.6, 0.27, 0.43, 0.46, 0.55, 0.16), 8000, 117),\n",
       " ((0.55, 0.22, 0.43, 0.33, 0.61, 0.21), 8000, 80),\n",
       " ((0.14, -0.1, nan, nan, 0.27, -0.06), 9000, 900),\n",
       " ((0.22, -0.03, 0.16, 0.17, 0.3, -0.03), 9000, 613),\n",
       " ((0.39, 0.05, 0.34, 0.41, 0.4, 0.01), 9000, 417),\n",
       " ((0.44, 0.09, 0.32, 0.19, 0.47, 0.08), 9000, 284),\n",
       " ((0.57, 0.21, 0.39, 0.34, 0.54, 0.06), 9000, 193),\n",
       " ((0.49, 0.18, 0.35, 0.33, 0.54, 0.12), 9000, 132),\n",
       " ((0.59, 0.23, 0.38, 0.38, 0.67, 0.18), 9000, 90),\n",
       " ((0.14, -0.07, nan, nan, 0.27, -0.07), 10000, 1000),\n",
       " ((0.22, -0.01, 0.13, 0.12, 0.32, -0.02), 10000, 681),\n",
       " ((0.37, 0.07, 0.13, 0.18, 0.38, -0.03), 10000, 464),\n",
       " ((0.43, 0.1, 0.26, 0.22, 0.42, -0.03), 10000, 316),\n",
       " ((0.55, 0.19, 0.33, 0.29, 0.55, 0.14), 10000, 215),\n",
       " ((0.6, 0.21, 0.43, 0.37, 0.61, 0.16), 10000, 146),\n",
       " ((0.59, 0.23, 0.35, 0.28, 0.6, 0.16), 10000, 100)]"
      ]
     },
     "execution_count": 134,
     "metadata": {},
     "output_type": "execute_result"
    }
   ],
   "source": [
    "out_perf = [oo[0] for oo in ans ]\n",
    "m = [oo[1] for oo in ans ]\n",
    "k = [oo[2] for oo in ans ]\n"
   ]
  },
  {
   "cell_type": "code",
   "execution_count": 24,
   "metadata": {},
   "outputs": [
    {
     "name": "stderr",
     "output_type": "stream",
     "text": [
      "/usr/local/lib/python3.4/dist-packages/scipy/stats/stats.py:3003: RuntimeWarning: invalid value encountered in double_scalars\n",
      "  r = r_num / r_den\n"
     ]
    },
    {
     "name": "stdout",
     "output_type": "stream",
     "text": [
      "Erand50_d1:50_PROJ:SB4_both_m:5000_k:500_eps:9.9e-01  OGDIST:0.30 PROJ: 0.15 0.16, LSHBLOOM: nan nan, HBLOOM 0.28 0.25\n",
      "Erand50_d1:50_PROJ:SB4_both_m:5000_k:500_eps:9.9e-01  OGDIST:0.30 PROJ: 0.14 0.15, LSHBLOOM: nan nan, HBLOOM 0.24 0.23\n",
      "Erand50_d1:50_PROJ:SB4_both_m:5000_k:334_eps:8.0e-01  OGDIST:0.30 PROJ: 0.22 0.19, LSHBLOOM: -0.10 -0.12, HBLOOM 0.28 0.21\n",
      "Erand50_d1:50_PROJ:SB4_both_m:5000_k:334_eps:8.0e-01  OGDIST:0.30 PROJ: 0.24 0.24, LSHBLOOM: 0.06 0.06, HBLOOM 0.31 0.26\n",
      "Erand50_d1:50_PROJ:SB4_both_m:5000_k:223_eps:1.9e-01  OGDIST:0.30 PROJ: 0.37 0.25, LSHBLOOM: 0.18 0.13, HBLOOM 0.40 0.27\n",
      "Erand50_d1:50_PROJ:SB4_both_m:5000_k:223_eps:1.9e-01  OGDIST:0.30 PROJ: 0.31 0.24, LSHBLOOM: 0.17 0.17, HBLOOM 0.38 0.27\n",
      "Erand50_d1:50_PROJ:SB4_both_m:5000_k:149_eps:1.7e-03  OGDIST:0.30 PROJ: 0.42 0.27, LSHBLOOM: 0.20 0.13, HBLOOM 0.45 0.30\n",
      "Erand50_d1:50_PROJ:SB4_both_m:5000_k:149_eps:1.7e-03  OGDIST:0.30 PROJ: 0.55 0.31, LSHBLOOM: 0.52 0.37, HBLOOM 0.56 0.33\n",
      "Erand50_d1:50_PROJ:SB4_both_m:5000_k:100_eps:8.7e-08  OGDIST:0.30 PROJ: 0.45 0.26, LSHBLOOM: 0.21 0.13, HBLOOM 0.43 0.25\n",
      "Erand50_d1:50_PROJ:SB4_both_m:5000_k:100_eps:8.7e-08  OGDIST:0.30 PROJ: 0.49 0.26, LSHBLOOM: 0.27 0.17, HBLOOM 0.52 0.25\n",
      "Erand50_d1:50_PROJ:SB4_both_m:6000_k:600_eps:9.9e-01  OGDIST:0.30 PROJ: 0.19 0.17, LSHBLOOM: nan nan, HBLOOM 0.30 0.24\n",
      "Erand50_d1:50_PROJ:SB4_both_m:6000_k:600_eps:9.9e-01  OGDIST:0.30 PROJ: 0.16 0.15, LSHBLOOM: nan nan, HBLOOM 0.27 0.23\n",
      "Erand50_d1:50_PROJ:SB4_both_m:6000_k:401_eps:8.0e-01  OGDIST:0.30 PROJ: 0.19 0.16, LSHBLOOM: 0.02 -0.01, HBLOOM 0.27 0.21\n",
      "Erand50_d1:50_PROJ:SB4_both_m:6000_k:401_eps:8.0e-01  OGDIST:0.30 PROJ: 0.21 0.20, LSHBLOOM: 0.09 0.08, HBLOOM 0.29 0.25\n",
      "Erand50_d1:50_PROJ:SB4_both_m:6000_k:268_eps:2.0e-01  OGDIST:0.30 PROJ: 0.30 0.22, LSHBLOOM: 0.21 0.07, HBLOOM 0.35 0.23\n",
      "Erand50_d1:50_PROJ:SB4_both_m:6000_k:268_eps:2.0e-01  OGDIST:0.30 PROJ: 0.33 0.19, LSHBLOOM: 0.08 0.08, HBLOOM 0.42 0.25\n",
      "Erand50_d1:50_PROJ:SB4_both_m:6000_k:179_eps:1.7e-03  OGDIST:0.30 PROJ: 0.50 0.31, LSHBLOOM: 0.08 0.02, HBLOOM 0.45 0.28\n",
      "Erand50_d1:50_PROJ:SB4_both_m:6000_k:179_eps:1.7e-03  OGDIST:0.30 PROJ: 0.54 0.32, LSHBLOOM: 0.20 0.05, HBLOOM 0.48 0.29\n",
      "Erand50_d1:50_PROJ:SB4_both_m:6000_k:120_eps:8.7e-08  OGDIST:0.30 PROJ: 0.45 0.26, LSHBLOOM: 0.21 0.14, HBLOOM 0.54 0.31\n",
      "Erand50_d1:50_PROJ:SB4_both_m:6000_k:120_eps:8.7e-08  OGDIST:0.30 PROJ: 0.56 0.32, LSHBLOOM: 0.35 0.24, HBLOOM 0.49 0.25\n",
      "Erand50_d1:50_PROJ:SB4_both_m:7000_k:700_eps:9.9e-01  OGDIST:0.30 PROJ: 0.15 0.15, LSHBLOOM: nan nan, HBLOOM 0.27 0.25\n",
      "Erand50_d1:50_PROJ:SB4_both_m:7000_k:700_eps:9.9e-01  OGDIST:0.30 PROJ: 0.15 0.17, LSHBLOOM: -0.06 -0.02, HBLOOM 0.28 0.25\n",
      "Erand50_d1:50_PROJ:SB4_both_m:7000_k:468_eps:8.0e-01  OGDIST:0.30 PROJ: 0.24 0.20, LSHBLOOM: 0.06 0.06, HBLOOM 0.31 0.24\n",
      "Erand50_d1:50_PROJ:SB4_both_m:7000_k:468_eps:8.0e-01  OGDIST:0.30 PROJ: 0.18 0.19, LSHBLOOM: 0.02 0.05, HBLOOM 0.28 0.27\n",
      "Erand50_d1:50_PROJ:SB4_both_m:7000_k:313_eps:2.0e-01  OGDIST:0.30 PROJ: 0.37 0.22, LSHBLOOM: 0.11 0.09, HBLOOM 0.42 0.25\n",
      "Erand50_d1:50_PROJ:SB4_both_m:7000_k:313_eps:2.0e-01  OGDIST:0.30 PROJ: 0.34 0.21, LSHBLOOM: 0.19 0.12, HBLOOM 0.35 0.23\n",
      "Erand50_d1:50_PROJ:SB4_both_m:7000_k:209_eps:1.8e-03  OGDIST:0.30 PROJ: 0.46 0.26, LSHBLOOM: 0.26 0.13, HBLOOM 0.46 0.26\n",
      "Erand50_d1:50_PROJ:SB4_both_m:7000_k:209_eps:1.8e-03  OGDIST:0.30 PROJ: 0.44 0.28, LSHBLOOM: 0.19 0.13, HBLOOM 0.39 0.24\n",
      "Erand50_d1:50_PROJ:SB4_both_m:7000_k:140_eps:8.7e-08  OGDIST:0.30 PROJ: 0.57 0.31, LSHBLOOM: 0.21 0.18, HBLOOM 0.54 0.31\n",
      "Erand50_d1:50_PROJ:SB4_both_m:7000_k:140_eps:8.7e-08  OGDIST:0.30 PROJ: 0.43 0.29, LSHBLOOM: 0.21 0.14, HBLOOM 0.45 0.30\n",
      "Erand50_d1:50_PROJ:SB4_both_m:8000_k:800_eps:9.9e-01  OGDIST:0.30 PROJ: 0.17 0.17, LSHBLOOM: nan nan, HBLOOM 0.30 0.25\n",
      "Erand50_d1:50_PROJ:SB4_both_m:8000_k:800_eps:9.9e-01  OGDIST:0.30 PROJ: 0.19 0.15, LSHBLOOM: nan nan, HBLOOM 0.29 0.24\n",
      "Erand50_d1:50_PROJ:SB4_both_m:8000_k:534_eps:8.0e-01  OGDIST:0.30 PROJ: 0.16 0.17, LSHBLOOM: 0.13 0.06, HBLOOM 0.26 0.22\n",
      "Erand50_d1:50_PROJ:SB4_both_m:8000_k:534_eps:8.0e-01  OGDIST:0.30 PROJ: 0.19 0.18, LSHBLOOM: 0.28 0.21, HBLOOM 0.29 0.25\n",
      "Erand50_d1:50_PROJ:SB4_both_m:8000_k:357_eps:1.9e-01  OGDIST:0.30 PROJ: 0.32 0.24, LSHBLOOM: 0.04 0.02, HBLOOM 0.36 0.23\n",
      "Erand50_d1:50_PROJ:SB4_both_m:8000_k:357_eps:1.9e-01  OGDIST:0.30 PROJ: 0.30 0.21, LSHBLOOM: 0.21 0.11, HBLOOM 0.37 0.24\n",
      "Erand50_d1:50_PROJ:SB4_both_m:8000_k:239_eps:1.8e-03  OGDIST:0.30 PROJ: 0.44 0.24, LSHBLOOM: 0.25 0.20, HBLOOM 0.46 0.26\n",
      "Erand50_d1:50_PROJ:SB4_both_m:8000_k:239_eps:1.8e-03  OGDIST:0.30 PROJ: 0.56 0.28, LSHBLOOM: 0.33 0.16, HBLOOM 0.52 0.27\n",
      "Erand50_d1:50_PROJ:SB4_both_m:8000_k:160_eps:8.7e-08  OGDIST:0.30 PROJ: 0.64 0.38, LSHBLOOM: 0.35 0.21, HBLOOM 0.58 0.32\n",
      "Erand50_d1:50_PROJ:SB4_both_m:8000_k:160_eps:8.7e-08  OGDIST:0.30 PROJ: 0.56 0.35, LSHBLOOM: 0.41 0.28, HBLOOM 0.50 0.30\n",
      "Erand50_d1:50_PROJ:SB4_both_m:9000_k:900_eps:9.9e-01  OGDIST:0.30 PROJ: 0.11 0.13, LSHBLOOM: 0.01 0.00, HBLOOM 0.25 0.23\n",
      "Erand50_d1:50_PROJ:SB4_both_m:9000_k:900_eps:9.9e-01  OGDIST:0.30 PROJ: 0.16 0.16, LSHBLOOM: nan nan, HBLOOM 0.26 0.24\n",
      "Erand50_d1:50_PROJ:SB4_both_m:9000_k:601_eps:8.0e-01  OGDIST:0.30 PROJ: 0.22 0.17, LSHBLOOM: 0.05 0.10, HBLOOM 0.30 0.23\n",
      "Erand50_d1:50_PROJ:SB4_both_m:9000_k:601_eps:8.0e-01  OGDIST:0.30 PROJ: 0.16 0.18, LSHBLOOM: 0.06 0.05, HBLOOM 0.27 0.25\n",
      "Erand50_d1:50_PROJ:SB4_both_m:9000_k:402_eps:2.0e-01  OGDIST:0.30 PROJ: 0.32 0.21, LSHBLOOM: 0.17 0.14, HBLOOM 0.35 0.25\n",
      "Erand50_d1:50_PROJ:SB4_both_m:9000_k:402_eps:2.0e-01  OGDIST:0.30 PROJ: 0.40 0.26, LSHBLOOM: 0.22 0.13, HBLOOM 0.41 0.26\n",
      "Erand50_d1:50_PROJ:SB4_both_m:9000_k:269_eps:1.8e-03  OGDIST:0.30 PROJ: 0.53 0.32, LSHBLOOM: 0.31 0.23, HBLOOM 0.51 0.31\n",
      "Erand50_d1:50_PROJ:SB4_both_m:9000_k:269_eps:1.8e-03  OGDIST:0.30 PROJ: 0.54 0.32, LSHBLOOM: 0.30 0.21, HBLOOM 0.53 0.30\n",
      "Erand50_d1:50_PROJ:SB4_both_m:9000_k:180_eps:8.7e-08  OGDIST:0.30 PROJ: 0.55 0.34, LSHBLOOM: 0.34 0.23, HBLOOM 0.53 0.32\n",
      "Erand50_d1:50_PROJ:SB4_both_m:9000_k:180_eps:8.7e-08  OGDIST:0.30 PROJ: 0.53 0.34, LSHBLOOM: 0.34 0.23, HBLOOM 0.52 0.31\n",
      "Erand50_d1:50_PROJ:SB4_both_m:10000_k:1000_eps:9.9e-01  OGDIST:0.30 PROJ: 0.16 0.16, LSHBLOOM: nan nan, HBLOOM 0.29 0.25\n",
      "Erand50_d1:50_PROJ:SB4_both_m:10000_k:1000_eps:9.9e-01  OGDIST:0.30 PROJ: 0.19 0.17, LSHBLOOM: nan nan, HBLOOM 0.31 0.27\n",
      "Erand50_d1:50_PROJ:SB4_both_m:10000_k:668_eps:8.0e-01  OGDIST:0.30 PROJ: 0.21 0.18, LSHBLOOM: 0.10 0.05, HBLOOM 0.31 0.24\n",
      "Erand50_d1:50_PROJ:SB4_both_m:10000_k:668_eps:8.0e-01  OGDIST:0.30 PROJ: 0.22 0.19, LSHBLOOM: 0.14 0.12, HBLOOM 0.31 0.26\n",
      "Erand50_d1:50_PROJ:SB4_both_m:10000_k:447_eps:2.0e-01  OGDIST:0.30 PROJ: 0.28 0.17, LSHBLOOM: 0.24 0.16, HBLOOM 0.34 0.22\n",
      "Erand50_d1:50_PROJ:SB4_both_m:10000_k:447_eps:2.0e-01  OGDIST:0.30 PROJ: 0.38 0.25, LSHBLOOM: 0.16 0.11, HBLOOM 0.41 0.26\n",
      "Erand50_d1:50_PROJ:SB4_both_m:10000_k:299_eps:1.8e-03  OGDIST:0.30 PROJ: 0.51 0.31, LSHBLOOM: 0.30 0.23, HBLOOM 0.49 0.27\n",
      "Erand50_d1:50_PROJ:SB4_both_m:10000_k:299_eps:1.8e-03  OGDIST:0.30 PROJ: 0.46 0.28, LSHBLOOM: 0.20 0.15, HBLOOM 0.44 0.25\n",
      "Erand50_d1:50_PROJ:SB4_both_m:10000_k:200_eps:8.7e-08  OGDIST:0.30 PROJ: 0.59 0.35, LSHBLOOM: 0.36 0.26, HBLOOM 0.57 0.33\n",
      "Erand50_d1:50_PROJ:SB4_both_m:10000_k:200_eps:8.7e-08  OGDIST:0.30 PROJ: 0.56 0.34, LSHBLOOM: 0.40 0.27, HBLOOM 0.57 0.32\n"
     ]
    }
   ],
   "source": [
    "m_try = np.arange(500,5001,500)\n",
    "# k_ratio_try = np.arange(2,30,2)\n",
    "k_ratio_try = np.logspace(np.log10(10),np.log10(100),7)\n",
    "dm = 'both'\n",
    "\n",
    "this_m_kRat = list()\n",
    "this_m_k = list()\n",
    "dist_met_m_k = list()\n",
    "dist_sd_met_m_k = list()\n",
    "n_run = 2\n",
    "for m in m_try:\n",
    "    for k_rat in k_ratio_try:\n",
    "        k = int(m/k_rat)\n",
    "        this_m_kRat.append((m,k_rat))\n",
    "        this_m_k.append((m,k))\n",
    "        this_run = list()\n",
    "        for i in range(n_run):\n",
    "            this_run.append(compute_distance_metrics.get_distance_metrics(S,q,m=m,k=k,app_str=dat_use,\n",
    "                                                                   dist_met=dm,text_out=False,ORN_SPECIAL=True))\n",
    "        else:\n",
    "            dist_met_m_k.append(np.mean(this_run,axis=0))\n",
    "            #dist_sd_met_m_k.append(np.std(this_run,axis=0))    "
   ]
  },
  {
   "cell_type": "code",
   "execution_count": 25,
   "metadata": {
    "collapsed": true
   },
   "outputs": [],
   "source": [
    "m_kRat_pos = np.reshape(np.array(this_m_kRat),(len(m_try),len(k_ratio_try),2))\n",
    "m_k_pos = np.reshape(np.array(this_m_k),(len(m_try),len(k_ratio_try),2))"
   ]
  },
  {
   "cell_type": "code",
   "execution_count": 36,
   "metadata": {
    "collapsed": true
   },
   "outputs": [],
   "source": [
    "b =0\n",
    "m_k_dist = np.reshape(np.array(dist_met_m_k),(len(m_try),len(k_ratio_try),6))\n",
    "cos_lsh = m_k_dist[:,:,0+b]\n",
    "cos_lsh_bloom = m_k_dist[:,:,2+b]\n",
    "cos_orn = m_k_dist[:,:,4+b]\n"
   ]
  },
  {
   "cell_type": "code",
   "execution_count": 55,
   "metadata": {},
   "outputs": [
    {
     "data": {
      "image/png": "[encoded data removed]",
      "text/plain": [
       "<matplotlib.figure.Figure at 0x7f1f5d19a630>"
      ]
     },
     "metadata": {},
     "output_type": "display_data"
    }
   ],
   "source": [
    "# k vs corr\n",
    "# np.shape(m_k_pos)\n",
    "kk = m_k_pos[:,:,1].flatten()\n",
    "kr = m_kRat_pos[:,:,1].flatten()\n",
    "mm = m_k_pos[:,:,0].flatten()\n",
    "cc = cos_lsh.flatten()\n",
    "cb = cos_lsh_bloom.flatten()\n",
    "\n",
    "plt.figure(figsize=(14,14))\n",
    "plt.suptitle(dat_use + [' COS',' EUC'][b] + ' Distance (n=' + str(n_ex) + ')')\n",
    "\n",
    "plt.subplot(2,2,1)\n",
    "plt.plot(kr,cc,'ko')\n",
    "plt.plot(kr,cb,'ro')\n",
    "plt.ylabel('KC Correlation with ORN')\n",
    "plt.xlabel('K-Ratio')\n",
    "plt.subplot(2,2,2)\n",
    "plt.plot(kk,cc,'ko',label='ORN Space')\n",
    "plt.plot(kk,cb,'ro',label='ORN Bloom')\n",
    "plt.legend()\n",
    "plt.ylabel('KC Correlation with ORN')\n",
    "plt.xlabel('K')\n",
    "plt.subplot(2,2,3)\n",
    "plt.plot(mm,cc,'ko')\n",
    "plt.plot(mm,cb,'ro')\n",
    "plt.ylabel('KC Correlation with ORN')\n",
    "plt.xlabel('m')\n",
    "\n",
    "plt.subplot(2,2,4)\n",
    "plt.title('KC Dist %s' %dat_use)\n",
    "plt.imshow(cos_lsh,interpolation='none')\n",
    "plt.colorbar(label='Correlation with ORN space distance')\n",
    "plt.yticks(np.arange(len(m_try)),np.round(m_try))\n",
    "plt.xticks(np.arange(len(k_ratio_try)),np.round(k_ratio_try))\n",
    "plt.xlabel('k ratio')\n",
    "\n",
    "plt.show()"
   ]
  },
  {
   "cell_type": "code",
   "execution_count": 43,
   "metadata": {
    "collapsed": true
   },
   "outputs": [],
   "source": [
    "from matplotlib import rcParams\n",
    "rcParams.update({'font.size': 16})"
   ]
  },
  {
   "cell_type": "code",
   "execution_count": null,
   "metadata": {
    "collapsed": true
   },
   "outputs": [],
   "source": []
  }
 ],
 "metadata": {
  "kernelspec": {
   "display_name": "Python 3",
   "language": "python",
   "name": "python3"
  },
  "language_info": {
   "codemirror_mode": {
    "name": "ipython",
    "version": 3
   },
   "file_extension": ".py",
   "mimetype": "text/x-python",
   "name": "python",
   "nbconvert_exporter": "python",
   "pygments_lexer": "ipython3",
   "version": "3.4.2"
  }
 },
 "nbformat": 4,
 "nbformat_minor": 2
}
