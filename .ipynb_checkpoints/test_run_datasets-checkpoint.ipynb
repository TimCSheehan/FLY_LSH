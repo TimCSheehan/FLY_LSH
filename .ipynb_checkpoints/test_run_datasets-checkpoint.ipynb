{
 "cells": [
  {
   "cell_type": "code",
   "execution_count": 4,
   "metadata": {},
   "outputs": [],
   "source": [
    "import os\n",
    "import numpy as np\n",
    "import run_dist_func_v2"
   ]
  },
  {
   "cell_type": "code",
   "execution_count": 8,
   "metadata": {
    "collapsed": true
   },
   "outputs": [],
   "source": [
    "def get_file_list():\n",
    "    fls = np.array(os.listdir(sav_root))\n",
    "    str_string = 'm_k_loop_'\n",
    "    my_fls = np.where([t_str[:len(str_string)]==str_string for t_str in fls])[0]\n",
    "    f_have = [fls[ff][len(str_string):-4] for ff in my_fls]\n",
    "    return np.array(f_have)"
   ]
  },
  {
   "cell_type": "code",
   "execution_count": 9,
   "metadata": {},
   "outputs": [
    {
     "data": {
      "text/plain": [
       "array(['Hallem_111', 'Erand40_200'], dtype='<U11')"
      ]
     },
     "execution_count": 9,
     "metadata": {},
     "output_type": "execute_result"
    }
   ],
   "source": [
    "u_str = 'Erand'\n",
    "d1_want = np.array(20,40,100,200,300,400,500)\n",
    "n_want = np.array(50,100,150,200,300,400,500,1000)\n",
    "d_sets_want "
   ]
  },
  {
   "cell_type": "code",
   "execution_count": 11,
   "metadata": {},
   "outputs": [
    {
     "name": "stdout",
     "output_type": "stream",
     "text": [
      "Erand20_50 Complete!\n",
      "Erand20_100 Complete!\n",
      "Erand20_200 Complete!\n",
      "Erand20_500 Complete!\n",
      "Erand40_50 Complete!\n",
      "Erand40_100 Complete!\n",
      "Erand40_200 already complete!\n",
      "Erand40_500 Complete!\n",
      "Erand60_50 Complete!\n",
      "Erand60_100 Complete!\n",
      "Erand60_200 Complete!\n",
      "Erand60_500 Complete!\n",
      "Erand100_50 Complete!\n",
      "Erand100_100 Complete!\n",
      "Erand100_200 Complete!\n",
      "Erand100_500 Complete!\n",
      "Erand200_50 Complete!\n",
      "Erand200_100 Complete!\n",
      "Erand200_200 Complete!\n",
      "Erand200_500 Complete!\n",
      "Erand400_50 Complete!\n",
      "Erand400_100 Complete!\n",
      "Erand400_200 Complete!\n",
      "Erand400_500 Complete!\n",
      "Erand500_50 Complete!\n",
      "Erand500_100 Complete!\n",
      "Erand500_200 Complete!\n",
      "Erand500_500 Complete!\n"
     ]
    }
   ],
   "source": [
    "for i in d_sets_want:\n",
    "    f_list = get_file_list()\n",
    "    if any(f_list==i):\n",
    "            print(i + ' already complete!')\n",
    "            continue\n",
    "    else:\n",
    "        dat_use,n = i.split('_')\n",
    "        n_use = int(n)\n",
    "        run_dist_func_v2.run_distance_analysis(dat_use,n_use)\n",
    "        print(i + 'Complete!')\n",
    "        \n"
   ]
  },
  {
   "cell_type": "code",
   "execution_count": 36,
   "metadata": {},
   "outputs": [
    {
     "data": {
      "text/plain": [
       "['Erand500', '500']"
      ]
     },
     "execution_count": 36,
     "metadata": {},
     "output_type": "execute_result"
    }
   ],
   "source": [
    "i.split('_')"
   ]
  },
  {
   "cell_type": "code",
   "execution_count": 42,
   "metadata": {},
   "outputs": [
    {
     "data": {
      "text/plain": [
       "505"
      ]
     },
     "execution_count": 42,
     "metadata": {},
     "output_type": "execute_result"
    }
   ],
   "source": [
    "n_use +5"
   ]
  },
  {
   "cell_type": "code",
   "execution_count": null,
   "metadata": {
    "collapsed": true
   },
   "outputs": [],
   "source": []
  }
 ],
 "metadata": {
  "kernelspec": {
   "display_name": "Python 3",
   "language": "python",
   "name": "python3"
  },
  "language_info": {
   "codemirror_mode": {
    "name": "ipython",
    "version": 3
   },
   "file_extension": ".py",
   "mimetype": "text/x-python",
   "name": "python",
   "nbconvert_exporter": "python",
   "pygments_lexer": "ipython3",
   "version": "3.4.2"
  }
 },
 "nbformat": 4,
 "nbformat_minor": 2
}
