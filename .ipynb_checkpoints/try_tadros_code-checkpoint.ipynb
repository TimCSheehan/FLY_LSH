{
 "cells": [
  {
   "cell_type": "code",
   "execution_count": 1,
   "metadata": {},
   "outputs": [],
   "source": [
    "from nearest_neighbor_search import *\n",
    "from read_data import *\n",
    "# reload(read_data)\n",
    "# import sys\n",
    "# print(sys.version)\n",
    "# import importlib\n",
    "# importlib.reload(from read_data import *)"
   ]
  },
  {
   "cell_type": "code",
   "execution_count": 2,
   "metadata": {
    "collapsed": true
   },
   "outputs": [],
   "source": [
    "# Constants\n",
    "hash_lengths = [2, 4, 8, 12, 16, 20, 24, 28, 32]\n",
    "\n",
    "# Data paths\n",
    "sift_small_path = '/home/navlakha/projects/fly_hashing/data/sift_small/sift10k.txt'\n",
    "gist_small_path = '/home/navlakha/projects/fly_hashing/data/gist_small/gist10k.txt'\n",
    "glove_path = '/home/navlakha/projects/fly_hashing/data/glove/glove10k.txt'\n",
    "mnist_path = '/home/navlakha/projects/fly_hashing/data/mnist/mnist10k.txt'"
   ]
  },
  {
   "cell_type": "code",
   "execution_count": 8,
   "metadata": {},
   "outputs": [],
   "source": [
    "# Load in data\n",
    "# first number is number of examples, 2nd number is number of features\n",
    "sift = read_generic_data(sift_small_path, 10000, 128)\n",
    "gist = read_generic_data(gist_small_path, 10000, 960)\n",
    "mnist = read_generic_data(mnist_path, 10000, 784)\n",
    "glove = read_generic_data(glove_path, 10000, 300)"
   ]
  },
  {
   "cell_type": "code",
   "execution_count": 7,
   "metadata": {},
   "outputs": [
    {
     "data": {
      "text/plain": [
       "array([[  0.,  54., 119., ...,  85.,  78.,   3.],\n",
       "       [ 48., 122.,  66., ...,  38.,  73., 115.],\n",
       "       [  0.,   3.,  18., ...,  14.,  82.,  36.],\n",
       "       ...,\n",
       "       [199.,   4.,   0., ...,  91., 257.,  74.],\n",
       "       [  0.,   0.,   0., ...,  11.,  11.,  41.],\n",
       "       [ 47.,   6.,   0., ...,   0.,   0.,  23.]])"
      ]
     },
     "execution_count": 7,
     "metadata": {},
     "output_type": "execute_result"
    }
   ],
   "source": []
  },
  {
   "cell_type": "code",
   "execution_count": 5,
   "metadata": {
    "collapsed": true
   },
   "outputs": [],
   "source": []
  },
  {
   "cell_type": "code",
   "execution_count": null,
   "metadata": {
    "collapsed": true
   },
   "outputs": [],
   "source": []
  }
 ],
 "metadata": {
  "kernelspec": {
   "display_name": "Python 3",
   "language": "python",
   "name": "python3"
  },
  "language_info": {
   "codemirror_mode": {
    "name": "ipython",
    "version": 3
   },
   "file_extension": ".py",
   "mimetype": "text/x-python",
   "name": "python",
   "nbconvert_exporter": "python",
   "pygments_lexer": "ipython3",
   "version": "3.4.2"
  }
 },
 "nbformat": 4,
 "nbformat_minor": 2
}
