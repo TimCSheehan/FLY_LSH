{
 "cells": [
  {
   "cell_type": "markdown",
   "metadata": {},
   "source": [
    "# TO DO\n",
    "+ Add non-local hash function [√]\n",
    "+ add cross validation [√]\n",
    "+ add MNIST [√]\n",
    "\n",
    "\n",
    "+ add IP addresses [ ] "
   ]
  },
  {
   "cell_type": "code",
   "execution_count": 2,
   "metadata": {},
   "outputs": [],
   "source": [
    "import numpy as np\n",
    "import matplotlib.pyplot as plt\n",
    "from scipy.stats import spearmanr, pearsonr, kendalltau\n",
    "import pandas as pd\n",
    "import os\n",
    "T = np.transpose\n",
    "from hashfunctions import *\n",
    "# os.chdir('/Users/tim/py_code/')\n",
    "from bloom_filters import * \n",
    "import sys\n",
    "sys.path.append('/Users/tim/py_code/FLY_LSH')\n",
    "from read_data import *\n",
    "\n",
    "# import hashlib # might need\n",
    "\n",
    "max_val_hash = sys.maxsize\n",
    "import xxhash\n",
    "import compute_distance_metrics\n",
    "\n",
    "# get MNIST\n",
    "# mnist_path = '/Users/tim/py_code/FLY_LSH/mnist10k.txt'\n",
    "mnist_path = '/home/navlakha/projects/fly_hashing/data/mnist/mnist10k.txt'\n",
    "mnist = read_generic_data(mnist_path,10000,28*28) # 10 000, 784"
   ]
  },
  {
   "cell_type": "code",
   "execution_count": null,
   "metadata": {},
   "outputs": [],
   "source": [
    "dat_use = 'Hallem' # Hallem, rand100\n",
    "n_ex = 1000\n",
    "l_ex = 20\n",
    "\n",
    "do_10_fold = False\n",
    "# eps = .01 # [.01, 6E-6]\n",
    "\n",
    "os.chdir('/home/tsheehan/py_code/fly_dat/') # os.chdir('/Users/tim/py_code/FLY_LSH/fly_dat/')\n",
    "dat = pd.read_csv(\"hallem1.txt\",delimiter=' ')\n",
    "if dat_use == 'Hallem':\n",
    "    dat = dat.values\n",
    "elif dat_use[:4] == 'rand':\n",
    "    dIn = int(dat_use[4:])\n",
    "    dat = np.random.randn(l_ex,dIn) # random data\n",
    "elif dat_use == 'MNIST':\n",
    "    dIn = 28*28\n",
    "    dat = mnist[:l_ex,:]\n",
    "    \n",
    "n_odors = np.shape(dat)[0]\n",
    "dat_100 = dat/np.mean(dat,axis=0)*100\n",
    "dat_100 = np.nan_to_num(dat_100)\n",
    "U = dat_100\n",
    "# assert(np.shape(U)[0]==l_ex)\n",
    "# np.shape(U)"
   ]
  },
  {
   "cell_type": "code",
   "execution_count": null,
   "metadata": {},
   "outputs": [],
   "source": [
    "# Cross-validation\n",
    "if do_10_fold:\n",
    "    n_fold = 10\n",
    "    f_ind = np.round(np.linspace(0,n_odors,n_fold+1)).astype(int)\n",
    "    grps = [np.arange(f_ind[i],f_ind[i+1] ) for i in range(n_fold) ] # perfect \n",
    "    \n",
    "    tag_ind = list()\n",
    "    query_ind = list()\n",
    "    for i in range(n_fold):\n",
    "        this_grp = grps[i]\n",
    "        a = np.arange(n_odors)\n",
    "        a = np.delete(a,this_grp)\n",
    "        if 0:\n",
    "            ind_probe = [np.random.choice(a,l_ex,replace=False) for i in range(len(this_grp))]\n",
    "            tag_ind_i = np.concatenate([ind_probe for i in range(reps_per_fold)]) # 1:10, repeated 10 x\n",
    "            query_ind_i = np.concatenate(T([this_grp for i in range(reps_per_fold)]))\n",
    "\n",
    "        # we have convinience of all groups being the same size\n",
    "        ind_probe = a\n",
    "        #tag_ind_i = np.concatenate([ind_probe for i in range(len(this_grp))])\n",
    "        tag_ind_i = np.tile(ind_probe,(len(this_grp),1))\n",
    "        query_ind_i = this_grp\n",
    "\n",
    "        tag_ind.append(tag_ind_i)\n",
    "        query_ind.append(query_ind_i)\n",
    "    else:\n",
    "        tag_ind = np.array(tag_ind).reshape(n_odors,len(a))\n",
    "        query_ind = np.array(query_ind).reshape(n_odors)\n",
    "        \n",
    "else:      # Leave one Odor Out Crossvalidation\n",
    "    n_ex = l_ex\n",
    "    query_ind = list()\n",
    "    tag_ind = list()\n",
    "    for i in range(n_ex):\n",
    "        a = np.arange(n_odors)\n",
    "        a = np.delete(a,i)\n",
    "        tag_ind.append(a)\n",
    "    else:\n",
    "        query_ind = np.arange(n_ex)\n",
    "        tag_ind = np.array(tag_ind)\n",
    "\n",
    "S = U[tag_ind] # n_ex, l_ex, n_ORN\n",
    "q = U[query_ind] # n_ex, n_ORN\n",
    "\n"
   ]
  },
  {
   "cell_type": "code",
   "execution_count": null,
   "metadata": {},
   "outputs": [],
   "source": [
    "\n",
    "# import compute_distance_metrics\n",
    "# reload(compute_distance_metrics)\n",
    "# eps_try = [.5,.2,.1,.05,.01,.005,.001,.0001,.00001,.000001]\n",
    "eps_try = np.logspace(np.log10(.5),np.log10(1E-6),15) \n",
    "dm = 'cos'\n",
    "dist_mets = list()\n",
    "for ep in eps_try:\n",
    "    dist_mets.append(compute_distance_metrics.get_distance_metrics(S,q,eps=ep,app_str=dat_use,\n",
    "                                                                   dist_met=dm))"
   ]
  },
  {
   "cell_type": "code",
   "execution_count": 69,
   "metadata": {},
   "outputs": [
    {
     "data": {
      "image/png": "[encoded data removed]",
      "text/plain": [
       "<matplotlib.figure.Figure at 0x7f298e713550>"
      ]
     },
     "metadata": {},
     "output_type": "display_data"
    }
   ],
   "source": [
    "\n",
    "eps_try = np.logspace(np.log10(.5),np.log10(1E-6),15) \n",
    "eps_try = eps_try[:np.shape(dist_mets)[0]]\n",
    "plt.plot(-np.log10(eps_try),T(dist_mets)[0],label='Proj Space')\n",
    "plt.plot(-np.log10(eps_try),T(dist_mets)[1],label='LSH Bloom Filter')\n",
    "plt.plot(-np.log10(eps_try),T(dist_mets)[2],label='Hash Bloom Filter')\n",
    "# plt.semilogx(eps_try,T(dist_mets)[0],label='Proj Space')\n",
    "# plt.semilogx(eps_try,T(dist_mets)[1],label='LSH Bloom Filter')\n",
    "# plt.semilogx(eps_try,T(dist_mets)[2],label='Hash Bloom Filter')\n",
    "plt.xlabel('$-Log_{10}$ $\\epsilon$')\n",
    "plt.ylabel('Corr ORN Distance(%s)' %dm)\n",
    "plt.legend()\n",
    "plt.title('%s, (N=%d)' %(dat_use,l_ex))\n",
    "plt.show()\n"
   ]
  },
  {
   "cell_type": "code",
   "execution_count": null,
   "metadata": {},
   "outputs": [],
   "source": []
  },
  {
   "cell_type": "code",
   "execution_count": null,
   "metadata": {
    "collapsed": true
   },
   "outputs": [],
   "source": []
  }
 ],
 "metadata": {
  "kernelspec": {
   "display_name": "Python 3",
   "language": "python",
   "name": "python3"
  },
  "language_info": {
   "codemirror_mode": {
    "name": "ipython",
    "version": 3
   },
   "file_extension": ".py",
   "mimetype": "text/x-python",
   "name": "python",
   "nbconvert_exporter": "python",
   "pygments_lexer": "ipython3",
   "version": "3.4.2"
  }
 },
 "nbformat": 4,
 "nbformat_minor": 2
}
