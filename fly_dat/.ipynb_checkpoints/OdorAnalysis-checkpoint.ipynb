{
 "cells": [
  {
   "cell_type": "code",
   "execution_count": 1,
   "metadata": {
    "collapsed": true
   },
   "outputs": [],
   "source": [
    "import os\n",
    "import numpy as np\n",
    "import matplotlib.pyplot as plt\n",
    "from scipy.stats import spearmanr\n",
    "from scipy.stats import pearsonr\n",
    "import pandas as pd\n",
    "T = np.transpose"
   ]
  },
  {
   "cell_type": "code",
   "execution_count": null,
   "metadata": {
    "collapsed": true
   },
   "outputs": [],
   "source": [
    "# read in data\n",
    "dat = pd.read_csv(\"hallem1.txt\",delimiter=' ')\n",
    "dat3 = dat.values"
   ]
  },
  {
   "cell_type": "code",
   "execution_count": null,
   "metadata": {
    "collapsed": true
   },
   "outputs": [],
   "source": [
    "# Odors of Interest from novelty paper\n",
    "\n",
    "## Present Hallem data set\n",
    "# (ACP) acetophenone       -neutral [present] {-3, 10, 62}\n",
    "# (BEN) benzaldehyde       -aversive [present] {5, 200, 57}\n",
    "# (MBL) 3-methyl-1-butanol -neutral [present] {30, 157, 97} **here called 3-methylbutanol\n",
    "# (IPA) isopentyl acetate  -attractive [present] {65, -33, 139}\n",
    "# (HXA) hexyl acetate      -attractive [present] {29, -19, 44}\n",
    "\n",
    "## Absent Hallem data set\n",
    "# (MCH) 4-methylcyclohexanol -aversive [absent]\n",
    "# (OCT) 3-octanol            - aversive [absent]\n"
   ]
  },
  {
   "cell_type": "code",
   "execution_count": null,
   "metadata": {
    "collapsed": true
   },
   "outputs": [],
   "source": [
    "odor_starts = {'ACP':[-3,10,62],'BEN':[5,200,57],'MBL':[30,157,97],\n",
    "              'IPA':[65,-33,139],'HXA':[29,-19,44]}\n",
    "odor_vec = {}\n",
    "for tag in odor_starts:\n",
    "    odor_start = odor_starts[tag]\n",
    "    my_row = (dat3[:,0] == odor_start[0]) & (dat3[:,1] == odor_start[1]) &(dat3[:,2] == odor_start[2])\n",
    "    odor_vec[tag] = dat3[my_row][0]"
   ]
  },
  {
   "cell_type": "code",
   "execution_count": null,
   "metadata": {
    "collapsed": true
   },
   "outputs": [],
   "source": [
    "corr_odors = {}\n",
    "for i in enumerate(odor_vec):\n",
    "    for j in enumerate(odor_vec):\n",
    "        if i[0] <= j[0]: continue\n",
    "        corr_odors[i[1]+'~'+j[1]] = spearmanr(odor_vec[i[1]],odor_vec[j[1]])[0]"
   ]
  },
  {
   "cell_type": "code",
   "execution_count": null,
   "metadata": {
    "collapsed": true
   },
   "outputs": [],
   "source": [
    "def odor_plot(odor_1,odor_2):\n",
    "    plt.plot(odor_vec[odor_1],odor_vec[odor_2],'kx')\n",
    "    plt.title('$r_s$=%.2f (p=%.2f)' %spearmanr(odor_vec[odor_1],odor_vec[odor_2]) )\n",
    "    plt.xlabel(odor_1)\n",
    "    plt.ylabel(odor_2)\n",
    "    plt.show()\n",
    "# odor_plot('BEN','ACP')\n",
    "# odor_plot('MBL','ACP')\n",
    "corr_odors"
   ]
  },
  {
   "cell_type": "code",
   "execution_count": null,
   "metadata": {
    "collapsed": true
   },
   "outputs": [],
   "source": [
    "cross_corr_odors = np.corrcoef(dat3)\n",
    "plt.imshow(cross_corr_odors)\n",
    "plt.colorbar()\n",
    "plt.xlabel('Odor #')\n",
    "plt.ylabel('Odor #')\n",
    "plt.title('Odor Response Similarity')\n",
    "plt.show()"
   ]
  },
  {
   "cell_type": "code",
   "execution_count": null,
   "metadata": {
    "collapsed": true
   },
   "outputs": [],
   "source": [
    "plt.hist(cross_corr_odors.flatten(),50,histtype = 'step', fill = None,edgecolor='k')\n",
    "plt.xlabel('Pairwise Correlation Coefficient')\n",
    "plt.ylabel('# Pairs')\n",
    "for i in corr_odors:\n",
    "    plt.plot([corr_odors[i],corr_odors[i]],[0,600],'--',label = i,linewidth=4.0)\n",
    "    \n",
    "plt.legend()\n",
    "plt.show()"
   ]
  },
  {
   "cell_type": "code",
   "execution_count": null,
   "metadata": {
    "collapsed": true
   },
   "outputs": [],
   "source": [
    "# odor supression index\n",
    "odor_supress = {'BEN':1.0,'ACP':0.5,'MBL':0.65,'IPA':0.8,'HXA':0.95}\n",
    "corr_supress = []\n",
    "for i in corr_odors:\n",
    "    this_pair = i.split('~')\n",
    "    corr_supress.append((corr_odors[i],odor_supress[this_pair[0]],odor_supress[this_pair[1]]))"
   ]
  },
  {
   "cell_type": "code",
   "execution_count": null,
   "metadata": {
    "collapsed": true
   },
   "outputs": [],
   "source": [
    "print('Greater Supression Means less MCH Response')\n",
    "CS = np.array(corr_supress)\n",
    "plt.scatter(1-CS[:,1],1-CS[:,2],s=200,marker='s',c=CS[:,0],cmap='copper')\n",
    "plt.colorbar(label='ORN Correlation')\n",
    "plt.plot([0, .6],[0,.6],'k--')\n",
    "plt.xlabel('MCH Suppression Level odor1')\n",
    "plt.ylabel('MCH Suppression Level odor2')\n",
    "plt.show()"
   ]
  },
  {
   "cell_type": "code",
   "execution_count": null,
   "metadata": {
    "collapsed": true
   },
   "outputs": [],
   "source": [
    "# IONOTROPIC RECEPTOR DATA\n",
    "MCH = np.array([5.7,-20,-12.8,-13.3])\n",
    "ACP = np.array([5.6,-3.6,-0.2,-6.2])\n",
    "MBL = np.array([4.3, -19.6, -1, -2.4])\n",
    "HXA = np.array([10.6,1.2,3.3,-6.5])\n",
    "BEN = np.array([-2.3,-22.1,-6.2,0.8])"
   ]
  },
  {
   "cell_type": "code",
   "execution_count": null,
   "metadata": {
    "collapsed": true
   },
   "outputs": [],
   "source": [
    "# Hypothesis, MBL and ACP will be closer in euclidean distance to MCH than to HXA\n",
    "def dist_from(vec_A,vec_B):\n",
    "    diff = vec_A-vec_B\n",
    "    #bar = np.sqrt(np.sum(np.square(diff)))\n",
    "    bar = spearmanr(vec_A,vec_B)[0]\n",
    "    return bar"
   ]
  },
  {
   "cell_type": "code",
   "execution_count": null,
   "metadata": {
    "collapsed": true
   },
   "outputs": [],
   "source": [
    "IR_d_from_MCH = {'ACP':dist_from(ACP,MCH),'MBL':dist_from(MBL,MCH),\n",
    "                 'HXA':dist_from(HXA,MCH),'BEN':dist_from(BEN,MCH)}\n",
    "IR = []\n",
    "for i in IR_d_from_MCH:\n",
    "    IR.append((IR_d_from_MCH[i],odor_supress[i]))\n",
    "IR = np.array(IR)"
   ]
  },
  {
   "cell_type": "code",
   "execution_count": null,
   "metadata": {
    "collapsed": true
   },
   "outputs": [],
   "source": [
    "plt.plot(IR[:,0],1-IR[:,1],'ko')\n",
    "plt.xlabel('IR Similarity to MCH')\n",
    "plt.ylabel('MCH Response Supression')\n",
    "plt.title('r=%.2f (p=%.4f)' %spearmanr(IR[:,0],1-IR[:,1]))\n",
    "plt.show()"
   ]
  },
  {
   "cell_type": "code",
   "execution_count": null,
   "metadata": {
    "collapsed": true
   },
   "outputs": [],
   "source": [
    "# print('Euclidean Distance from MCH of normalized SR in 4 IR neurons:\\n')\n",
    "print('Correlation Coefficient with MCH of normalized SR in 4 IR neurons:\\n')\n",
    "print('Supressing Odors:')\n",
    "print('ACP: {0:.2f}, MBL: {1:.2f}\\n'.format(IR_d_from_MCH['ACP'],IR_d_from_MCH['MBL']))\n",
    "print('Non-Supressing Odors:')\n",
    "print('BEN: {0:.2f}, HXA: {1:.2f}'.format(IR_d_from_MCH['BEN'],IR_d_from_MCH['HXA']))"
   ]
  },
  {
   "cell_type": "code",
   "execution_count": null,
   "metadata": {
    "collapsed": true
   },
   "outputs": [],
   "source": [
    "# Question: if A +/B and A+/C, does that imply A+/C\n",
    "n_in = 20000\n",
    "n_check = 100\n",
    "n_dim = 30\n",
    "dat = np.random.uniform(size=(3,n_in,n_dim))\n",
    "c1 = np.zeros(n_check)\n",
    "c2 = np.zeros(n_check)\n",
    "c3 = np.zeros(n_check)\n",
    "for i in range(n_check):\n",
    "    while (np.abs(c1[i])<.4) | (np.abs(c2[i])<.4):\n",
    "        ind1 = np.random.randint(0,n_in)\n",
    "        c1[i] = spearmanr(dat[0,ind1,:],dat[1,ind1,:])[0]\n",
    "        c2[i] = spearmanr(dat[0,ind1,:],dat[2,ind1,:])[0]\n",
    "#     ind1 = np.random.randint(0,n_in)\n",
    "#     c1[i] = spearmanr(dat[0,ind1,:],dat[1,ind1,:])[0]\n",
    "#     c2[i] = spearmanr(dat[0,ind1,:],dat[2,ind1,:])[0]\n",
    "    c3[i] = spearmanr(dat[1,ind1,:],dat[2,ind1,:])[0]\n",
    "    if i%10==0: print(i)"
   ]
  },
  {
   "cell_type": "code",
   "execution_count": null,
   "metadata": {
    "collapsed": true
   },
   "outputs": [],
   "source": [
    "plt.scatter(c1,c2,c=c3,alpha=1)\n",
    "plt.colorbar(label='Corr B~C')\n",
    "plt.title('N-dimensions %i' %n_dim)\n",
    "plt.xlabel('Corr A~B')\n",
    "plt.ylabel('Corr A~C')\n",
    "plt.show()"
   ]
  },
  {
   "cell_type": "markdown",
   "metadata": {
    "collapsed": true
   },
   "source": [
    "# Load DoOR dataset"
   ]
  },
  {
   "cell_type": "code",
   "execution_count": 2,
   "metadata": {
    "collapsed": true
   },
   "outputs": [],
   "source": [
    "dat = pd.read_csv(\"DRM.csv\")\n",
    "dat = dat.drop(columns='Unnamed: 0')\n",
    "dat_mat = np.array(dat) # 693 odors x 78 responses"
   ]
  },
  {
   "cell_type": "code",
   "execution_count": 3,
   "metadata": {},
   "outputs": [
    {
     "data": {
      "image/png": "[encoded data removed]",
      "text/plain": [
       "<matplotlib.figure.Figure at 0x7f5db8048080>"
      ]
     },
     "metadata": {},
     "output_type": "display_data"
    },
    {
     "data": {
      "image/png": "[encoded data removed]",
      "text/plain": [
       "<matplotlib.figure.Figure at 0x7f5cec72dcf8>"
      ]
     },
     "metadata": {},
     "output_type": "display_data"
    }
   ],
   "source": [
    "foo = ~np.isnan(dat_mat) #693 odors x 78 ORNs\n",
    "orn_odor = np.sum(foo,axis=1)  #693 odors\n",
    "odor_orn = np.sum(foo,axis=0)  #78 odors\n",
    "vals = dat_mat.flatten()\n",
    "vals = vals[~np.isnan(vals)]\n",
    "plt.subplot(1,2,1)\n",
    "plt.hist(odor_orn,30)\n",
    "plt.subplot(1,2,2)\n",
    "plt.hist(orn_odor,30)\n",
    "plt.show()\n",
    "\n",
    "plt.hist(vals,30)\n",
    "plt.show()"
   ]
  },
  {
   "cell_type": "code",
   "execution_count": 4,
   "metadata": {},
   "outputs": [
    {
     "data": {
      "image/png": "[encoded data removed]",
      "text/plain": [
       "<matplotlib.figure.Figure at 0x7f5cec6dfa20>"
      ]
     },
     "metadata": {},
     "output_type": "display_data"
    }
   ],
   "source": [
    "subtract_mean = True\n",
    "avg_bins = []\n",
    "for i in range(693):\n",
    "    try:\n",
    "        this_dat = dat_mat[i]\n",
    "        this_dat = this_dat[~np.isnan(this_dat)]\n",
    "        if len(this_dat)<20:\n",
    "            continue\n",
    "        if subtract_mean:\n",
    "            this_dat = this_dat * (.3/np.mean(this_dat))\n",
    "        n_bin, bins = np.histogram(this_dat,np.arange(0,1.01,.01))\n",
    "\n",
    "        cdf = np.cumsum(n_bin)/sum(n_bin)\n",
    "        #t = np.arange(0,1,1/len(this_dat))\n",
    "        t = bins[:-1]\n",
    "        plt.plot(t, cdf,'k',alpha=.1)\n",
    "        avg_bins.append(cdf)\n",
    "    except:\n",
    "        pass\n",
    "else:\n",
    "    avg_trace = np.mean(np.stack(avg_bins),axis=0)\n",
    "    plt.plot(t, avg_trace,'r',linewidth=4)\n",
    "    plt.xlabel('Normalized Neural Activity')\n",
    "    plt.ylabel('# ORNs')\n",
    "    plt.show()\n",
    "\n"
   ]
  },
  {
   "cell_type": "code",
   "execution_count": 5,
   "metadata": {
    "collapsed": true
   },
   "outputs": [],
   "source": [
    "dat_s = pd.read_csv(\"novelty_odors.csv\")\n",
    "dat_s = dat_s.drop(columns='Unnamed: 0')"
   ]
  },
  {
   "cell_type": "code",
   "execution_count": 6,
   "metadata": {
    "collapsed": true
   },
   "outputs": [],
   "source": [
    "X = np.array(dat_s) # 78 ORNs x 8 Odors\n",
    "complete_odors = np.sum(~np.isnan(T(X)),axis=0)==8 # 78\n",
    "X_comp = X[complete_odors] # 21 x 8 Odors\n"
   ]
  },
  {
   "cell_type": "code",
   "execution_count": 7,
   "metadata": {},
   "outputs": [
    {
     "data": {
      "image/png": "[encoded data removed]",
      "text/plain": [
       "<matplotlib.figure.Figure at 0x7f5cecc102b0>"
      ]
     },
     "metadata": {},
     "output_type": "display_data"
    }
   ],
   "source": [
    "nCor = np.corrcoef(X_comp,rowvar=False)\n",
    "nNoOil = nCor[:-1,:-1]\n",
    "plt.imshow(nCor)\n",
    "plt.xticks(range(8),dat_s.columns)\n",
    "plt.yticks(range(8),dat_s.columns)\n",
    "plt.colorbar(label = 'Pearsons Correlation')\n",
    "plt.title('DoOR Data')\n",
    "plt.show()"
   ]
  },
  {
   "cell_type": "code",
   "execution_count": null,
   "metadata": {
    "collapsed": true
   },
   "outputs": [],
   "source": [
    "# no oil\n",
    "plt.imshow(nNoOil)\n",
    "plt.show()"
   ]
  },
  {
   "cell_type": "code",
   "execution_count": null,
   "metadata": {
    "collapsed": true
   },
   "outputs": [],
   "source": [
    "this_dat = dat_mat[10]\n",
    "this_dat = this_dat[~np.isnan(this_dat)]"
   ]
  },
  {
   "cell_type": "markdown",
   "metadata": {
    "collapsed": true
   },
   "source": [
    "# Load Odor Similarity data"
   ]
  },
  {
   "cell_type": "code",
   "execution_count": null,
   "metadata": {
    "collapsed": true
   },
   "outputs": [],
   "source": [
    "sdat = pd.read_excel('nmeth.1197-S3.xls',header=8)\n",
    "CID_want = {'MCH':11524,'ACP':7410,'MBL':31260,'HXA':8908,'BEN':240,'IPA':31276,'OCT':11527} #\n",
    "# my_odors = np.array(list(CID_want.keys()))\n",
    "my_odors = np.array(dat_s.columns)[:-1]\n",
    "CIDS = sdat['Odorant PubMed CID']"
   ]
  },
  {
   "cell_type": "code",
   "execution_count": null,
   "metadata": {
    "collapsed": true
   },
   "outputs": [],
   "source": [
    "Hash_want = {}\n",
    "Hash_all = np.zeros((len(CID_want),32))\n",
    "i=0\n",
    "for odor in my_odors:\n",
    "    this_key = CID_want[odor]\n",
    "    ind = np.where(CIDS == this_key)[0][0]\n",
    "    this_hash = np.array(sdat.loc[ind][3:])\n",
    "    Hash_want[odor] = this_hash\n",
    "    Hash_all[i] = this_hash\n",
    "    i+=1\n",
    "    "
   ]
  },
  {
   "cell_type": "code",
   "execution_count": null,
   "metadata": {
    "collapsed": true
   },
   "outputs": [],
   "source": [
    "# o_use = np.array([1,5,6,0,3,4,2])\n",
    "o_use = np.arange(7)\n",
    "my_cor = np.corrcoef(Hash_all[o_use])\n",
    "MCH_cor = my_cor[0,:]"
   ]
  },
  {
   "cell_type": "code",
   "execution_count": null,
   "metadata": {
    "collapsed": true
   },
   "outputs": [],
   "source": [
    "plt.imshow(my_cor)\n",
    "plt.colorbar(label = 'Pearsons Correlation')\n",
    "plt.xticks(range(7),my_odors[o_use])\n",
    "plt.yticks(range(7),my_odors[o_use])\n",
    "plt.title('Odor Geometry Data')\n",
    "plt.show()"
   ]
  },
  {
   "cell_type": "code",
   "execution_count": null,
   "metadata": {
    "collapsed": true
   },
   "outputs": [],
   "source": [
    "\n",
    "is_sup = np.array([2,4])\n",
    "plt.plot(range(7),MCH_cor,'ro',label='Non-supressing Odor')\n",
    "plt.plot(is_sup,MCH_cor[is_sup],'bo',label='MCH Supressing Odor')\n",
    "plt.xticks(range(7),my_odors)\n",
    "plt.xlabel('Odor')\n",
    "plt.ylabel('Correlation with MCH')\n",
    "plt.legend()\n",
    "plt.show()"
   ]
  },
  {
   "cell_type": "markdown",
   "metadata": {},
   "source": [
    "# Compare dataset Correlations "
   ]
  },
  {
   "cell_type": "code",
   "execution_count": null,
   "metadata": {
    "collapsed": true
   },
   "outputs": [],
   "source": [
    "# my_cor # Geometry\n",
    "# nCor # DoOR\n",
    "bad = my_cor>.99\n",
    "x1 = my_cor[~ bad]\n",
    "x2 = nNoOil[~bad]\n",
    "plt.plot(x1,x2,'ko')\n",
    "#plt.plot([-.5, 1],[-.5,1],'k--')\n",
    "plt.xlabel('Geometry Based Correlation')\n",
    "plt.ylabel('DoOR ORN Based Correlation')\n",
    "\n",
    "plt.title('All Correlations')\n",
    "plt.show()\n",
    "pearsonr(x1,x2)"
   ]
  },
  {
   "cell_type": "code",
   "execution_count": null,
   "metadata": {
    "collapsed": true
   },
   "outputs": [],
   "source": [
    "y1 = my_cor[0,1:]\n",
    "y2 = nNoOil[0,1:]\n",
    "fig, ax = plt.subplots()\n",
    "plt.plot(y1,y2,'ro')\n",
    "plt.plot(y1[is_sup-1],y2[is_sup-1],'bo')\n",
    "plt.xlabel('Geometry Based Correlation')\n",
    "plt.ylabel('DoOR ORN Based Correlation')\n",
    "plt.title('Novelty Odor Correlations (w/ MCH)')\n",
    "for i,txt in enumerate(dat_s.columns):\n",
    "    if i<7 and i!=0:\n",
    "        ax.annotate(txt,(y1[i-1]-.01,y2[i-1]-.05))\n",
    "\n",
    "plt.show()"
   ]
  },
  {
   "cell_type": "markdown",
   "metadata": {},
   "source": [
    "# Project to KC Space"
   ]
  },
  {
   "cell_type": "code",
   "execution_count": 81,
   "metadata": {},
   "outputs": [],
   "source": [
    "# Project DoOR to KC space\n",
    "# X_comp # 21 x 8\n",
    "n_orn, n_odor = np.shape(X_comp)\n",
    "Xu = T(X_comp) # 8 x 21\n",
    "import sys\n",
    "sys.path.append(\"../\") \n",
    "from bloom_filters import *\n",
    "# X_z = [(x-np.mean(x))/np.std(x) for x in T(X_comp)]\n",
    "Xz = T(X_comp - np.mean(X_comp,axis=0)) # mean subtract only (by odor)\n",
    "#Xz = T(X_comp *100/np.mean(X_comp,axis=0)) # set mean rate to 100\n",
    "# Xz = (Xu- np.mean(Xu,axis=0))/np.std(Xu,axis=0) # z-by-receptor\n",
    "# Xz = X - \n",
    "#Xz = T((X_comp- np.mean(X_comp,axis=0))/np.std(X_comp,axis=0)) # z-by-odor\n",
    "#Xz = (Xz- np.mean(Xz,axis=0))/np.std(Xz,axis=0) # z-by-odor&receptor must have above line too\n",
    "#Xz = Xu\n",
    "outHash,datHash,datIn = generate_hash_space_wDat(Xz,m=50,k=5)\n",
    "oo = [2,4]"
   ]
  },
  {
   "cell_type": "code",
   "execution_count": 9,
   "metadata": {
    "collapsed": true
   },
   "outputs": [],
   "source": [
    "def hamming_distance(x1,x2):\n",
    "    assert(len(x1)==len(x2))\n",
    "    try:\n",
    "        return sum(x1^x2) # ^ is xor\n",
    "    except:\n",
    "        return sum((x1>0)^(x2>0)) # ^ is xor"
   ]
  },
  {
   "cell_type": "code",
   "execution_count": 10,
   "metadata": {
    "collapsed": true
   },
   "outputs": [],
   "source": [
    "#M = np.random.randn(n_orn,50)\n",
    "#hash_val = np.dot(Xz,M)\n",
    "m = 350\n",
    "k = 17\n",
    "#outHash,datHash,datIn = generate_hash_space_wDat(Xz,m=m,k=k,sparseBinary='SB6')\n",
    "outHash,datHash,datIn = generate_hash_space_wDat(Xz,m=m,k=k)\n",
    "this_h = np.zeros((n_odor,n_odor))\n",
    "for i in range(n_odor):\n",
    "    for j in range(n_odor):\n",
    "        this_h[i,j] = hamming_distance(outHash[i],outHash[j])"
   ]
  },
  {
   "cell_type": "code",
   "execution_count": 11,
   "metadata": {
    "collapsed": true
   },
   "outputs": [],
   "source": [
    "def discrete_matshow(data):\n",
    "    #get discrete colormap\n",
    "    cmap = plt.get_cmap('Pastel1', (np.max(data)-np.min(data)+1))\n",
    "    # set limits .5 outside true range\n",
    "    mat = plt.imshow(data,cmap=cmap,vmin = np.min(data)-.5, vmax = np.max(data)+.5)\n",
    "    #tell the colorbar to tick at integers\n",
    "    cax = plt.colorbar(mat, ticks=np.arange(np.min(data),np.max(data)+1,2))\n",
    "    return cax\n",
    "def std_err(X):\n",
    "    # assumes along columns\n",
    "    return np.std(X,axis=0)/np.sqrt(np.shape(X)[0])"
   ]
  },
  {
   "cell_type": "code",
   "execution_count": 12,
   "metadata": {},
   "outputs": [
    {
     "data": {
      "image/png": "[encoded data removed]",
      "text/plain": [
       "<matplotlib.figure.Figure at 0x7f5cec7a3e10>"
      ]
     },
     "metadata": {},
     "output_type": "display_data"
    },
    {
     "data": {
      "image/png": "[encoded data removed]",
      "text/plain": [
       "<matplotlib.figure.Figure at 0x7f5cec564ba8>"
      ]
     },
     "metadata": {},
     "output_type": "display_data"
    }
   ],
   "source": [
    "cbar = discrete_matshow(this_h)\n",
    "cbar.set_label('Hamming Distance')\n",
    "plt.xticks(range(8),dat_s.columns)\n",
    "plt.yticks(range(8),dat_s.columns)\n",
    "# plt.colorbar(label = 'Hamming Distance')\n",
    "plt.title('DoOR Data (KC Projection)')\n",
    "plt.show()\n",
    "\n",
    "plt.title('m:%d k:%d' %(m,k))\n",
    "plt.plot(this_h[0,:],'ro')\n",
    "plt.plot(oo,this_h[0,oo],'bo')\n",
    "plt.xticks(range(8),dat_s.columns)\n",
    "plt.ylabel('Hamming Distance From MCH')\n",
    "# plt.title('DoOR Data (KC Projection)')\n",
    "plt.show()"
   ]
  },
  {
   "cell_type": "code",
   "execution_count": 102,
   "metadata": {},
   "outputs": [],
   "source": [
    "SB_str = 'SB6'\n",
    "n_reps = 10\n",
    "MCH_hash = np.zeros((n_reps,8))\n",
    "for ii in range(n_reps):\n",
    "    outHash,datHash,datIn = generate_hash_space_wDat(Xz,m=m,k=k,sparseBinary=SB_str) # None, 'SB6'\n",
    "    this_h = np.zeros((n_odor,n_odor))\n",
    "    for i in range(n_odor):\n",
    "        for j in range(n_odor):\n",
    "            this_h[i,j] = hamming_distance(outHash[i],outHash[j])\n",
    "    MCH_hash[ii,:] = this_h[0,:]"
   ]
  },
  {
   "cell_type": "code",
   "execution_count": 103,
   "metadata": {},
   "outputs": [
    {
     "data": {
      "image/png": "[encoded data removed]",
      "text/plain": [
       "<matplotlib.figure.Figure at 0x7f5cec6db5c0>"
      ]
     },
     "metadata": {},
     "output_type": "display_data"
    }
   ],
   "source": [
    "\n",
    "# plt.plot(np.mean(MCH_hash,axis=0),'ko')\n",
    "x = np.arange(8)\n",
    "x = np.arange(1,8)\n",
    "plt.errorbar(x,np.mean(MCH_hash[:,x],axis=0),yerr=std_err(MCH_hash[:,x]),fmt='r.')\n",
    "plt.errorbar(oo,np.mean(MCH_hash[:,oo],axis=0),yerr=std_err(MCH_hash[:,oo]),fmt='b.')\n",
    "plt.xticks(x,dat_s.columns[x])\n",
    "plt.ylabel('Hamming Distance From MCH')\n",
    "plt.xlabel('Odor')\n",
    "plt.title('Distance in KC Space: '+ SB_str +' Projection  (Mean to 100)')\n",
    "# plt.title('Distance in KC Space: DG (Mean to 100)')\n",
    "plt.show()"
   ]
  },
  {
   "cell_type": "code",
   "execution_count": null,
   "metadata": {
    "collapsed": true
   },
   "outputs": [],
   "source": []
  }
 ],
 "metadata": {
  "kernelspec": {
   "display_name": "Python 3",
   "language": "python",
   "name": "python3"
  },
  "language_info": {
   "codemirror_mode": {
    "name": "ipython",
    "version": 3
   },
   "file_extension": ".py",
   "mimetype": "text/x-python",
   "name": "python",
   "nbconvert_exporter": "python",
   "pygments_lexer": "ipython3",
   "version": "3.4.2"
  }
 },
 "nbformat": 4,
 "nbformat_minor": 2
}
