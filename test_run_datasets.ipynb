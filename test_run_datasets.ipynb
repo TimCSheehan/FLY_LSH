{
 "cells": [
  {
   "cell_type": "code",
   "execution_count": 4,
   "metadata": {},
   "outputs": [],
   "source": [
    "import os\n",
    "import numpy as np\n",
    "import run_dist_func_v2"
   ]
  },
  {
   "cell_type": "code",
   "execution_count": 8,
   "metadata": {
    "collapsed": true
   },
   "outputs": [],
   "source": [
    "def get_file_list():\n",
    "    fls = np.array(os.listdir(sav_root))\n",
    "    str_string = 'm_k_loop_'\n",
    "    my_fls = np.where([t_str[:len(str_string)]==str_string for t_str in fls])[0]\n",
    "    f_have = [fls[ff][len(str_string):-4] for ff in my_fls]\n",
    "    return np.array(f_have)"
   ]
  },
  {
   "cell_type": "code",
   "execution_count": 18,
   "metadata": {},
   "outputs": [
    {
     "name": "stdout",
     "output_type": "stream",
     "text": [
      "['Erand20_50', 'Erand20_100', 'Erand20_150', 'Erand20_200', 'Erand20_300', 'Erand20_400', 'Erand20_500', 'Erand40_50', 'Erand40_100', 'Erand40_150', 'Erand40_200', 'Erand40_300', 'Erand40_400', 'Erand40_500', 'Erand60_50', 'Erand60_100', 'Erand60_150', 'Erand60_200', 'Erand60_300', 'Erand60_400', 'Erand60_500', 'Erand100_50', 'Erand100_100', 'Erand100_150', 'Erand100_200', 'Erand100_300', 'Erand100_400', 'Erand100_500', 'Erand200_50', 'Erand200_100', 'Erand200_150', 'Erand200_200', 'Erand200_300', 'Erand200_400', 'Erand200_500', 'Erand300_50', 'Erand300_100', 'Erand300_150', 'Erand300_200', 'Erand300_300', 'Erand300_400', 'Erand300_500', 'Erand400_50', 'Erand400_100', 'Erand400_150', 'Erand400_200', 'Erand400_300', 'Erand400_400', 'Erand400_500', 'Erand500_50', 'Erand500_100', 'Erand500_150', 'Erand500_200', 'Erand500_300', 'Erand500_400', 'Erand500_500']\n"
     ]
    }
   ],
   "source": [
    "u_str = 'Erand'\n",
    "d1_want = np.array([20,40, 60, 100,200,300,400,500])\n",
    "n_want = np.array([50,100,150,200,300,400,500])\n",
    "d_sets_want = [u_str + str(x1) + '_' + str(x2) for x1 in d1_want for x2 in n_want]\n",
    "for item in d_sets"
   ]
  },
  {
   "cell_type": "code",
   "execution_count": 16,
   "metadata": {},
   "outputs": [
    {
     "name": "stdout",
     "output_type": "stream",
     "text": [
      "Erand20_50Complete!\n",
      "Erand20_100Complete!\n",
      "Erand20_150Complete!\n",
      "Erand20_200Complete!\n",
      "Erand20_300Complete!\n",
      "Erand20_400Complete!\n",
      "Erand20_500Complete!\n",
      "Erand40_50Complete!\n",
      "Erand40_100Complete!\n",
      "Erand40_150Complete!\n",
      "Erand40_200 already complete!\n",
      "Erand40_300Complete!\n",
      "Erand40_400Complete!\n",
      "Erand40_500Complete!\n",
      "Erand60_50Complete!\n",
      "Erand60_100Complete!\n",
      "Erand60_150Complete!\n",
      "Erand60_200Complete!\n",
      "Erand60_300Complete!\n",
      "Erand60_400Complete!\n",
      "Erand60_500Complete!\n",
      "Erand100_50Complete!\n",
      "Erand100_100Complete!\n",
      "Erand100_150Complete!\n",
      "Erand100_200Complete!\n",
      "Erand100_300Complete!\n",
      "Erand100_400Complete!\n",
      "Erand100_500Complete!\n",
      "Erand200_50Complete!\n",
      "Erand200_100Complete!\n",
      "Erand200_150Complete!\n",
      "Erand200_200Complete!\n",
      "Erand200_300Complete!\n",
      "Erand200_400Complete!\n",
      "Erand200_500Complete!\n",
      "Erand300_50Complete!\n",
      "Erand300_100Complete!\n",
      "Erand300_150Complete!\n",
      "Erand300_200Complete!\n",
      "Erand300_300Complete!\n",
      "Erand300_400Complete!\n",
      "Erand300_500Complete!\n",
      "Erand400_50Complete!\n",
      "Erand400_100Complete!\n",
      "Erand400_150Complete!\n",
      "Erand400_200Complete!\n",
      "Erand400_300Complete!\n",
      "Erand400_400Complete!\n",
      "Erand400_500Complete!\n",
      "Erand500_50Complete!\n",
      "Erand500_100Complete!\n",
      "Erand500_150Complete!\n",
      "Erand500_200Complete!\n",
      "Erand500_300Complete!\n",
      "Erand500_400Complete!\n",
      "Erand500_500Complete!\n"
     ]
    }
   ],
   "source": [
    "for i in d_sets_want:\n",
    "    f_list = get_file_list()\n",
    "    if any(f_list==i):\n",
    "            print(i + ' already complete!')\n",
    "            continue\n",
    "    else:\n",
    "        dat_use,n = i.split('_')\n",
    "        n_use = int(n)\n",
    "        #run_dist_func_v2.run_distance_analysis(dat_use,n_use)\n",
    "        print(i + 'Complete!')\n",
    "        \n"
   ]
  },
  {
   "cell_type": "code",
   "execution_count": 36,
   "metadata": {},
   "outputs": [
    {
     "data": {
      "text/plain": [
       "['Erand500', '500']"
      ]
     },
     "execution_count": 36,
     "metadata": {},
     "output_type": "execute_result"
    }
   ],
   "source": [
    "i.split('_')"
   ]
  },
  {
   "cell_type": "code",
   "execution_count": 42,
   "metadata": {},
   "outputs": [
    {
     "data": {
      "text/plain": [
       "505"
      ]
     },
     "execution_count": 42,
     "metadata": {},
     "output_type": "execute_result"
    }
   ],
   "source": [
    "n_use +5"
   ]
  },
  {
   "cell_type": "code",
   "execution_count": null,
   "metadata": {
    "collapsed": true
   },
   "outputs": [],
   "source": []
  }
 ],
 "metadata": {
  "kernelspec": {
   "display_name": "Python 3",
   "language": "python",
   "name": "python3"
  },
  "language_info": {
   "codemirror_mode": {
    "name": "ipython",
    "version": 3
   },
   "file_extension": ".py",
   "mimetype": "text/x-python",
   "name": "python",
   "nbconvert_exporter": "python",
   "pygments_lexer": "ipython3",
   "version": "3.4.2"
  }
 },
 "nbformat": 4,
 "nbformat_minor": 2
}
