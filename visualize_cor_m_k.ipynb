{
 "cells": [
  {
   "cell_type": "code",
   "execution_count": 21,
   "metadata": {},
   "outputs": [],
   "source": [
    "import numpy as np\n",
    "import matplotlib.pyplot as plt\n",
    "import os\n",
    "T = np.transpose"
   ]
  },
  {
   "cell_type": "code",
   "execution_count": 149,
   "metadata": {},
   "outputs": [],
   "source": [
    "sav_root = '/home/tsheehan/py_code/dist_metrics/'\n",
    "sav_loc = '/home/tsheehan/py_code/figs/'\n",
    "# ! ls /home/tsheehan/py_code/dist_metrics/\n",
    "files = np.array(os.listdir(sav_root))\n",
    "st_w = 'm_k_loop_'\n",
    "good_files = files[[ff[:len(st_w)] == st_w for ff in files]]"
   ]
  },
  {
   "cell_type": "code",
   "execution_count": 150,
   "metadata": {},
   "outputs": [
    {
     "data": {
      "text/plain": [
       "'/home/tsheehan/py_code/figs/m_k_loop_Erand40_200COS.pdf'"
      ]
     },
     "execution_count": 150,
     "metadata": {},
     "output_type": "execute_result"
    }
   ],
   "source": [
    "f_load = 1\n",
    "b = 0\n",
    "this_dat,this_info = np.load(sav_root + good_files[f_load])\n",
    "sav_nam = sav_loc + good_files[f_load][:-4] + ['COS','EUC'][b] + '.pdf'\n",
    "# sav_nam"
   ]
  },
  {
   "cell_type": "code",
   "execution_count": 110,
   "metadata": {},
   "outputs": [
    {
     "name": "stderr",
     "output_type": "stream",
     "text": [
      "/usr/local/lib/python3.4/dist-packages/ipykernel_launcher.py:4: RuntimeWarning: divide by zero encountered in true_divide\n",
      "  after removing the cwd from sys.path.\n"
     ]
    }
   ],
   "source": []
  },
  {
   "cell_type": "code",
   "execution_count": null,
   "metadata": {},
   "outputs": [
    {
     "name": "stderr",
     "output_type": "stream",
     "text": [
      "/usr/local/lib/python3.4/dist-packages/ipykernel_launcher.py:10: RuntimeWarning: divide by zero encountered in true_divide\n",
      "  # Remove the CWD from sys.path while we load stuff.\n"
     ]
    }
   ],
   "source": [
    "for f_load in range(len(good_files)):\n",
    "\n",
    "    b = 0\n",
    "    this_dat,this_info = np.load(sav_root + good_files[f_load])\n",
    "    sav_nam = sav_loc + good_files[f_load][:-4] + ['COS','EUC'][b] + '.pdf'\n",
    "\n",
    "    cc = np.array(([dd[0] for dd in this_dat])) # all correlations\n",
    "    m = np.array([dd[1] for dd in this_dat])\n",
    "    k = np.array([dd[2] for dd in this_dat])\n",
    "    k_rat = m/k\n",
    "    k_rat_rnd = np.unique(np.floor(k_rat))\n",
    "    m_use = np.round(np.unique(m),-2)\n",
    "\n",
    "    cORN = T(cc)[0+b]\n",
    "    cBloom = T(cc)[2+b]\n",
    "    m_k_pos = (np.reshape(cORN,(len(np.unique(m)),int(len(cORN)/len(np.unique(m))) )))\n",
    "    sym = 's'\n",
    "\n",
    "    plt.figure(figsize=(10,10))\n",
    "    plt.suptitle(this_info['dat_use'] + ' n: ' + str(this_info['q_shape'][0]) + ' [' + ['COS','EUC'][b] + ']')\n",
    "    plt.subplot(2,2,1)\n",
    "    plt.plot(k_rat,cORN,'k'+sym)\n",
    "    plt.plot(k_rat,cBloom,'r'+sym)\n",
    "    plt.xlabel('k-ratio')\n",
    "    plt.ylabel('Corr ORN Space')\n",
    "\n",
    "    plt.subplot(2,2,2)\n",
    "    plt.plot(k,cORN,'k'+sym,label='KC SPACE')\n",
    "    plt.plot(k,cBloom,'r'+sym,label='BLOOM SPACE')\n",
    "    plt.xlabel('k')\n",
    "    plt.legend()\n",
    "\n",
    "    plt.subplot(2,2,3)\n",
    "    plt.plot(m,cORN,'k'+sym)\n",
    "    plt.plot(m,cBloom,'r'+sym)\n",
    "    plt.xlabel('m')\n",
    "\n",
    "    plt.subplot(2,2,4)\n",
    "    plt.imshow(m_k_pos,origin='lower')\n",
    "    plt.xlabel('k-ratio')\n",
    "    plt.yticks(np.arange(len(m_use)),m_use)\n",
    "    plt.colorbar()\n",
    "\n",
    "    #plt.show()\n",
    "    plt.savefig(sav_nam,bbox_inches='tight')"
   ]
  },
  {
   "cell_type": "code",
   "execution_count": 51,
   "metadata": {
    "collapsed": true
   },
   "outputs": [],
   "source": [
    "from matplotlib import rcParams\n",
    "rcParams.update({'font.size': 16})"
   ]
  },
  {
   "cell_type": "code",
   "execution_count": null,
   "metadata": {
    "collapsed": true
   },
   "outputs": [],
   "source": []
  }
 ],
 "metadata": {
  "kernelspec": {
   "display_name": "Python 3",
   "language": "python",
   "name": "python3"
  },
  "language_info": {
   "codemirror_mode": {
    "name": "ipython",
    "version": 3
   },
   "file_extension": ".py",
   "mimetype": "text/x-python",
   "name": "python",
   "nbconvert_exporter": "python",
   "pygments_lexer": "ipython3",
   "version": "3.4.2"
  }
 },
 "nbformat": 4,
 "nbformat_minor": 2
}
